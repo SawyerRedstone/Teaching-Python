{
 "cells": [
  {
   "cell_type": "markdown",
   "id": "17eb4324-d5ed-4143-8327-89c9d56e669c",
   "metadata": {
    "tags": []
   },
   "source": [
    "# Expressions"
   ]
  },
  {
   "cell_type": "markdown",
   "id": "a630198b-95c6-4d1e-87ac-51b3717abe16",
   "metadata": {},
   "source": [
    "An `expression` is a piece of code that evaluates to a single value. Below are some examples of expressions:\n",
    "| Expression       | Result   | \n",
    "|------------------|----------|\n",
    "| 5                | Evaluates to 5. | \n",
    "| x                | Evaluates to the value the variable `x` contains.|\n",
    "| 4 - 1            | Evaluates to 3.|\n",
    "| 2 < 5            | Evaluates to True.|\n",
    "| foo()            | Evaluates to the return value of the function foo().|\n",
    "\n",
    "Since expressions get evaluated to single values, we can use them anywhere a single value is allowed. \n",
    "\n",
    "For example, when you write the code `x = 3 + 1`, Python evaluates the expression `3 + 1` to 4 and then assigns the value 4 to x."
   ]
  },
  {
   "cell_type": "code",
   "execution_count": null,
   "id": "cd925f1b-70be-4bf2-9f78-bbd44b24172f",
   "metadata": {},
   "outputs": [],
   "source": [
    "# Exaluate the expression 23 > 9, then print the result.\n",
    "print(23 > 9)"
   ]
  },
  {
   "cell_type": "markdown",
   "id": "427c9c21-affe-4a2c-b56b-e5112296fbae",
   "metadata": {
    "tags": []
   },
   "source": [
    "# Data Types"
   ]
  },
  {
   "cell_type": "markdown",
   "id": "d90ff89b-651f-4670-8c4a-e48248781c31",
   "metadata": {},
   "source": [
    "In programming, we work with a lot of data (numbers, text, etc.). The data's `type` determines what we can do with that data. For example, we can multiply numbers like `3 * 5`, but we can't multiply text like `\"hello\" * \"goodbye\"`.\n",
    "\n",
    "We can check a value's type in Python by using the `type()` function. Let's go over some of the different data types in Python. "
   ]
  },
  {
   "cell_type": "markdown",
   "id": "2f5fcfff-4fb7-46d3-9425-369884dc713a",
   "metadata": {
    "tags": []
   },
   "source": [
    "## Integers (int)"
   ]
  },
  {
   "cell_type": "markdown",
   "id": "679d43ae-6852-4d87-8524-59811cd74b13",
   "metadata": {},
   "source": [
    "Integers (shortened to `int` in Python) are numbers without decimals. Some examples of ints are -12, 0, and 92. "
   ]
  },
  {
   "cell_type": "code",
   "execution_count": null,
   "id": "dd517713-4e28-4de0-80f0-361332365448",
   "metadata": {},
   "outputs": [],
   "source": [
    "# Use the type() function to see a value's data type.\n",
    "\n",
    "# Which of the following evaluate to type `int`? Uncomment one at a time:\n",
    "\n",
    "# print(type(4))\n",
    "# print(type(3.1))\n",
    "# print(type(\"42\"))\n",
    "# print(type(3 + 1))\n",
    "# print(type(int))\n",
    "# print(type(3.0))\n",
    "# print(type(4 * (2 - 1)))"
   ]
  },
  {
   "cell_type": "markdown",
   "id": "1441e01f-b368-4812-a3c4-30843bc7901c",
   "metadata": {
    "tags": []
   },
   "source": [
    "## Floats"
   ]
  },
  {
   "cell_type": "markdown",
   "id": "6851312c-4640-423a-bf81-23ca8521b5a1",
   "metadata": {},
   "source": [
    "Floats are numbers that contain decimals. For example, -2.3, 12.345, and 3.8."
   ]
  },
  {
   "cell_type": "code",
   "execution_count": null,
   "id": "756c49c6-c38b-4cc9-a998-377978cbe6d5",
   "metadata": {},
   "outputs": [],
   "source": [
    "# Which of the following evaluate to type `float`? Uncomment one at a time:\n",
    "\n",
    "# print(type(32.1))\n",
    "# print(type(4))\n",
    "# print(type(\"42.9\"))\n",
    "# print(type(2.0))\n",
    "# print(type(8.))\n",
    "# print(type(float))\n",
    "# print(type(.5))\n",
    "# print(type(5 / 2))"
   ]
  },
  {
   "cell_type": "markdown",
   "id": "dd9addfc-a49a-4fde-a55f-050c183b28c3",
   "metadata": {},
   "source": [
    "We can use the following operations on ints and floats to do calculations.\n",
    "\n",
    "| Operator   | Name           |\n",
    "|------------|----------------|\n",
    "| `a + b`    | Addition       |\n",
    "| `a - b`    | Subtraction    |\n",
    "| `a * b`    | Multiplication |\n",
    "| `a / b`    | Division       | \n",
    "| `a // b`   | Floor division |\n",
    "| `a % b`    | Modulus        |\n",
    "| `a ** b`   | Exponentiation | \n",
    "| `-a`       | Negation       |\n",
    "\n",
    "We can also use parentheses for grouping."
   ]
  },
  {
   "cell_type": "code",
   "execution_count": null,
   "id": "f846849a-7d5c-44c9-bd78-fe89277787fd",
   "metadata": {},
   "outputs": [],
   "source": [
    "# Uncomment the below code one line at a time.\n",
    "# print(1 + 2)\n",
    "# print(3 * 4)\n",
    "# print(1 + 3 * 4)\n",
    "# print((1 + 3) * 4)\n",
    "# print(2**3)\n",
    "# print(5 / 3)\n",
    "# print(5 // 3)\n",
    "# print(5 % 3)"
   ]
  },
  {
   "cell_type": "markdown",
   "id": "68feb975-6cdc-481a-9cb7-3a014ceddd26",
   "metadata": {
    "tags": []
   },
   "source": [
    "## Booleans (bool)"
   ]
  },
  {
   "cell_type": "markdown",
   "id": "01b5fe56-b197-4137-8843-49b899c24c35",
   "metadata": {},
   "source": [
    "Boolean (shortened to `bool` in Python) is the data type of the values `True` and `False`."
   ]
  },
  {
   "cell_type": "code",
   "execution_count": null,
   "id": "67243c3b-d0a9-461d-8b23-7907e3dea184",
   "metadata": {},
   "outputs": [],
   "source": [
    "# Which of the following evaluate to type `bool`? Uncomment one at a time:\n",
    "\n",
    "# print(type(True))\n",
    "# print(type(3 + 4))\n",
    "# print(type(4 < 2))\n",
    "# print(type(False))\n",
    "# print(type(\"True\"))\n",
    "# print(type(true))"
   ]
  },
  {
   "cell_type": "markdown",
   "id": "fc67f449-a62a-440c-b964-7b81883c97a1",
   "metadata": {},
   "source": [
    "Using the word `not` before a boolean swaps its value. `not True` evaluates to False, and `not False` evaluates to True."
   ]
  },
  {
   "cell_type": "code",
   "execution_count": null,
   "id": "92bfdf12-2856-4758-a925-49c02e68297f",
   "metadata": {},
   "outputs": [],
   "source": [
    "print(not True)"
   ]
  },
  {
   "cell_type": "markdown",
   "id": "b2eb6018-d90c-428e-a155-31dcfae1ca56",
   "metadata": {
    "tags": []
   },
   "source": [
    "## Strings (str)"
   ]
  },
  {
   "cell_type": "markdown",
   "id": "7baa8892-7db2-4380-9b7c-b85a5f54ff30",
   "metadata": {},
   "source": [
    "Strings (shortened to `str` in Python) is the data type for text in Python. Strings are surrounded by single or double quotes.\n",
    "\n",
    "Examples of strings include `'Hello'`, `\"I am 3!\"`, and even the empty string `\"\"`."
   ]
  },
  {
   "cell_type": "code",
   "execution_count": null,
   "id": "51a3ecbb-a710-41c2-9e26-0b0516dca5eb",
   "metadata": {},
   "outputs": [],
   "source": [
    "# Which of the following evaluate to type `str`? Uncomment one at a time:\n",
    "# print(type(\"I'm batman.\"))\n",
    "# print(type(hello))\n",
    "# print(type(\"\"))\n",
    "# print(type(\"True\"))\n",
    "# print(type('hi'))\n",
    "# print(type(\"3\"))"
   ]
  },
  {
   "cell_type": "markdown",
   "id": "2cde176d-40ea-42f4-828b-de0b1bef1dba",
   "metadata": {},
   "source": [
    "We can get the length of a string using the `len()` function."
   ]
  },
  {
   "cell_type": "code",
   "execution_count": null,
   "id": "d1c6bf4c-2334-4ca3-b0b7-0803a416e1d5",
   "metadata": {},
   "outputs": [],
   "source": [
    "# Print the length of the string \"hello\".\n",
    "print(len(\"hello\"))"
   ]
  },
  {
   "cell_type": "markdown",
   "id": "cb9e5204-906c-4726-8252-90b74681290c",
   "metadata": {},
   "source": [
    "We can also access the individual characters in a string by using square brackets (`[]`) with an index inside.\n",
    "\n",
    "Strings are zero-indexed, which means that the first character is at index 0. For example, `\"Sawyer\"[0]` corresponds to \"S\", `\"Sawyer\"[1]` corresponds to \"a\", and so on."
   ]
  },
  {
   "cell_type": "code",
   "execution_count": null,
   "id": "1d151901-3e9b-4302-9340-18aef98f2751",
   "metadata": {},
   "outputs": [],
   "source": [
    "example_string = \"Hello there!\"\n",
    "\n",
    "# Uncomment one at a time and guess what will get printed.\n",
    "# print(example_string[0])    # Access the first character in the string.\n",
    "# print(example_string[1])\n",
    "# print(example_string[2])\n",
    "# print(example_string[6])\n",
    "# print(\"What's your name?\"[2])"
   ]
  },
  {
   "cell_type": "markdown",
   "id": "473d0d47-fa6b-4343-b435-63b9bab987db",
   "metadata": {
    "tags": []
   },
   "source": [
    "## Lists"
   ]
  },
  {
   "cell_type": "markdown",
   "id": "b9e2730e-10c5-4beb-877b-7e1564d497a0",
   "metadata": {},
   "source": [
    "A list is a data type that can store multiple values. Lists are within square brackets (`[` and `]`), and each item is seperated with a comma.\n",
    "\n",
    "Examples of lists include `[1, 2, 3, 2]`, `[True, True, False]`, `[\"happy\", \"sad\", \"indifferent\"]`, and even the empty list `[]`. \n",
    "\n",
    "Lists can even have lists inside of them! `[[1, 2, 3], [4. 5, 6]]` is a list where the first item is `[1, 2, 3]` and the second item is `[4, 5, 6]`."
   ]
  },
  {
   "cell_type": "code",
   "execution_count": null,
   "id": "bf815692-c546-45bb-9291-f98079279c0b",
   "metadata": {},
   "outputs": [],
   "source": [
    "# Which of the following evaluate to type `list`? Uncomment one at a time:\n",
    "\n",
    "# print(type([3, 54, 1, 23, 2]))\n",
    "# print(type([]))\n",
    "# print(type(\"[2, 1]\"))\n",
    "# print(type(2, 3))\n",
    "# print(type([True]))\n",
    "# print(type([2, \"banana\", 3.2, True]))\n",
    "# print(type([[1, 2], [2, 4], [\"apple\"]]))"
   ]
  },
  {
   "cell_type": "markdown",
   "id": "e6cd8ef3-d5f4-4bec-b07d-89cccfad7bdd",
   "metadata": {},
   "source": [
    "Similarly to strings, we can use the `len()` function to get the length of a list.\n",
    "\n",
    "We can also use indexing (`[]`) to access the items within a list."
   ]
  },
  {
   "cell_type": "code",
   "execution_count": null,
   "id": "ad202552-2a6e-441b-a77c-708b82b232ae",
   "metadata": {},
   "outputs": [],
   "source": [
    "example_list = [\"hello\", \"goodbye\", \"How are you?\"]\n",
    "# print(example_list)\n",
    "\n",
    "\n",
    "# Uncomment code below and guess the output.\n",
    "# print(len(example_list))\n",
    "# print(example_list[0])\n",
    "# print(example_list[2])\n",
    "\n",
    "# For a more complicated example, let's try with a list that contains lists inside it.\n",
    "# nested_list = [[1, 2], [3, 4], [5, 6]]\n",
    "# print(nested_list[2])"
   ]
  }
 ],
 "metadata": {
  "kernelspec": {
   "display_name": "Python 3 (ipykernel)",
   "language": "python",
   "name": "python3"
  },
  "language_info": {
   "codemirror_mode": {
    "name": "ipython",
    "version": 3
   },
   "file_extension": ".py",
   "mimetype": "text/x-python",
   "name": "python",
   "nbconvert_exporter": "python",
   "pygments_lexer": "ipython3",
   "version": "3.9.13"
  }
 },
 "nbformat": 4,
 "nbformat_minor": 5
}

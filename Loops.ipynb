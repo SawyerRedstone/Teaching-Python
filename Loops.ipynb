{
 "cells": [
  {
   "cell_type": "markdown",
   "metadata": {},
   "source": [
    "# Loops"
   ]
  },
  {
   "cell_type": "markdown",
   "metadata": {},
   "source": [
    "Loops are a way to execute the same code again and again. There are two types of loops in Python: **for loops** and **while loops**."
   ]
  },
  {
   "cell_type": "markdown",
   "metadata": {},
   "source": [
    "## For Loops"
   ]
  },
  {
   "cell_type": "markdown",
   "metadata": {
    "tags": []
   },
   "source": [
    "<!-- Teach what an iterator is? -->\n",
    "\n",
    "A **for loop** goes through a sequence (i.e. a list, string, or tuple) one item at a time. For each item it reaches, a variable gets assigned the value of that item, and a block of code gets repeated. The code block stops repeating once every item in the sequence is reached.\n",
    "\n",
    "Here is how to write a for-loop:\n",
    "\n",
    "```Python\n",
    "for current_item in some_sequence:\n",
    "    # Type the code you want repeated here.\n",
    "    # Make sure the code is indented!\n",
    "    # You can have as many lines of code here as you want.\n",
    "```\n",
    "\n",
    "In the code above, `current_item` is a variable that will keep changing as Python moves through the sequence. `current_item` can be named whatever you'd like, but here I chose the name `current_item` to make it clear that this variable is always storing the current item we have reached in the sequence.\n",
    "\n",
    "To demonstrate how a for-loop works, here's an example:"
   ]
  },
  {
   "cell_type": "code",
   "execution_count": 11,
   "metadata": {},
   "outputs": [
    {
     "name": "stdout",
     "output_type": "stream",
     "text": [
      "Right now, the variable named `color` equals red\n",
      "It still equals red now.\n",
      "Right now, the variable named `color` equals blue\n",
      "It still equals blue now.\n",
      "Right now, the variable named `color` equals green\n",
      "It still equals green now.\n",
      "Right now, the variable named `color` equals purple\n",
      "It still equals purple now.\n"
     ]
    }
   ],
   "source": [
    "# Here, some_sequence is the list [\"red\", \"blue\", \"green\", \"purple\"]. \n",
    "# The variable `color` will store the current item we are up to in the sequence.\n",
    "for color in [\"red\", \"blue\", \"green\", \"purple\"]:\n",
    "    # After all this indented code finishes running, `color` will get set to the next element.\n",
    "    print(f\"Right now, the variable named `color` equals {color}\")\n",
    "    print(f\"It still equals {color} now.\")"
   ]
  },
  {
   "cell_type": "markdown",
   "metadata": {},
   "source": [
    "In the code above, we are iterating over the sequence `[\"red\", \"blue\", \"green\", \"purple\"]`. The variable `color` first gets set to the first element of the list, \"red\", and then the indented code runs with the variable equal to \"red\". The code then loops, changing `color` to equal the next element in the list, \"blue\". \n",
    "\n",
    "Next, let's try a for-loop where the sequence is a string.\n",
    "\n",
    "As a reminder, strings are sequences of characters. For example, in the string \"Hi, bye\", the elements are the characters `\"H\"`, `\"i\"`, `\",\"`, `\" \"`, `\"b\"`, `\"y\"`, and `\"e\"`."
   ]
  },
  {
   "cell_type": "code",
   "execution_count": 12,
   "metadata": {},
   "outputs": [
    {
     "name": "stdout",
     "output_type": "stream",
     "text": [
      "The current character in the string is: H\n",
      "The current character in the string is: e\n",
      "The current character in the string is: l\n",
      "The current character in the string is: l\n",
      "The current character in the string is: o\n",
      "The current character in the string is: ,\n",
      "The current character in the string is:  \n",
      "The current character in the string is: c\n",
      "The current character in the string is: l\n",
      "The current character in the string is: a\n",
      "The current character in the string is: s\n",
      "The current character in the string is: s\n",
      "The current character in the string is: !\n"
     ]
    }
   ],
   "source": [
    "# Loop through the sequence \"Hello, class!\". \n",
    "# Reminder: In strings, each character is its own element. \n",
    "for char in \"Hello, class!\":\n",
    "    # Display the character we are up to in the sequence.\n",
    "    print(f\"The current character in the string is: {char}\")"
   ]
  },
  {
   "cell_type": "markdown",
   "metadata": {},
   "source": [
    "The code block can contain as many lines of code as it needs. The variable will only change after the loop finishes running the indented code. Then, after the variable changes, the code block will run again (and again, and again, until the sequence is over).\n",
    "\n",
    "We can see an example of this below:"
   ]
  },
  {
   "cell_type": "code",
   "execution_count": 53,
   "metadata": {},
   "outputs": [
    {
     "name": "stdout",
     "output_type": "stream",
     "text": [
      "One cousin is 12 years old.\n",
      "They are younger than me.\n",
      "\n",
      "One cousin is 15 years old.\n",
      "They are younger than me.\n",
      "\n",
      "One cousin is 28 years old.\n",
      "They are older than me.\n",
      "\n",
      "One cousin is 39 years old.\n",
      "They are older than me.\n",
      "\n"
     ]
    }
   ],
   "source": [
    "# Create the sequence we will loop through.\n",
    "cousin_ages = [12, 15, 28, 39]\n",
    "# Save my age in a variable so we can access it later in the code.\n",
    "my_age = 24\n",
    "\n",
    "\n",
    "# Loop through the list of my cousin's ages. \n",
    "# Each time we go through the loop, set `cousin_age` to the next age in the list.\n",
    "for cousin_age in cousin_ages:\n",
    "    # Print out the cousin's age.\n",
    "    print(f\"One cousin is {cousin_age} years old.\")\n",
    "    # Check whether they are younger or older and print the result.\n",
    "    if cousin_age < my_age:\n",
    "        print(\"They are younger than me.\")\n",
    "    else:\n",
    "        print(\"They are older than me.\")\n",
    "    # Print an empty line to seperate each time the code loops.\n",
    "    print()"
   ]
  },
  {
   "cell_type": "markdown",
   "metadata": {},
   "source": [
    "In the examples above, we always displayed the variable. However, this isn't a requirement, as shown below."
   ]
  },
  {
   "cell_type": "code",
   "execution_count": 54,
   "metadata": {},
   "outputs": [
    {
     "name": "stdout",
     "output_type": "stream",
     "text": [
      "Hi!\n",
      "Bye...\n",
      "\n",
      "Hi!\n",
      "Bye...\n",
      "\n",
      "Hi!\n",
      "Bye...\n",
      "\n",
      "Hi!\n",
      "Bye...\n",
      "\n"
     ]
    }
   ],
   "source": [
    "# Set the variable to each name in the list.\n",
    "for child in [\"Bob\", \"Sam\", \"Willy\", \"Todd\"]:\n",
    "    # Run the code block each time the variable changes.\n",
    "    # None of the lines print the child's name, so it will never get displayed.\n",
    "    print(\"Hi!\")\n",
    "    print(\"Bye...\")\n",
    "    print()"
   ]
  },
  {
   "cell_type": "markdown",
   "metadata": {},
   "source": [
    "The code block above ran four times, since the variable got changed four times.\n",
    "\n",
    "When we just want a block of code to run a given number of times, we can use the `range()` function as our sequence. The `range()` function returns a sequence that starts at 0 by default and stops before the number you pass it as an argument."
   ]
  },
  {
   "cell_type": "code",
   "execution_count": 55,
   "metadata": {},
   "outputs": [
    {
     "name": "stdout",
     "output_type": "stream",
     "text": [
      "0\n",
      "1\n",
      "2\n",
      "3\n",
      "4\n",
      "5\n"
     ]
    }
   ],
   "source": [
    "# Loop through numbers starting from 0 and ending before 6.\n",
    "for num in range(6):\n",
    "    # Display each number in this range sequence.\n",
    "    print(num)"
   ]
  },
  {
   "cell_type": "markdown",
   "metadata": {},
   "source": [
    "The `range` function is an easy way to make your loop run a specified number of times. Above, the loop ran 6 times because the argument was 6.\n",
    "\n",
    "You can optionally pick the starting number as well, like so:"
   ]
  },
  {
   "cell_type": "code",
   "execution_count": 56,
   "metadata": {},
   "outputs": [
    {
     "name": "stdout",
     "output_type": "stream",
     "text": [
      "3\n",
      "4\n",
      "5\n"
     ]
    }
   ],
   "source": [
    "# Loop through numbers starting from 3 and ending before 6.\n",
    "for num in range(3, 6):\n",
    "    # Display each number in this range sequence.\n",
    "    print(num)"
   ]
  },
  {
   "cell_type": "markdown",
   "metadata": {},
   "source": [
    "As we've seen before, the first index in a list is 0, then 1, up until the final index, and we can change the elements in a list like so:"
   ]
  },
  {
   "cell_type": "code",
   "execution_count": 57,
   "metadata": {},
   "outputs": [
    {
     "name": "stdout",
     "output_type": "stream",
     "text": [
      "[18, 12, 6, 1]\n"
     ]
    }
   ],
   "source": [
    "random_nums = [6, 12, 6, 1]\n",
    "\n",
    "# Change the element at index 0 to 18.\n",
    "random_nums[0] = 18\n",
    "\n",
    "print(random_nums)"
   ]
  },
  {
   "cell_type": "markdown",
   "metadata": {},
   "source": [
    "Because of this, we can use `range()` to loop through all the indices in a list. This allows us to alter each element within the list."
   ]
  },
  {
   "cell_type": "code",
   "execution_count": 60,
   "metadata": {},
   "outputs": [
    {
     "name": "stdout",
     "output_type": "stream",
     "text": [
      "[11, 17, 11, 6]\n"
     ]
    }
   ],
   "source": [
    "random_nums = [6, 12, 6, 1]\n",
    "element_count = len(random_nums)\n",
    " \n",
    "# Make the variable `i` go through each index in the list.\n",
    "for i in range(element_count):\n",
    "    # Add 5 to each element in the list.\n",
    "    random_nums[i] = random_nums[i] + 5\n",
    "\n",
    "print(random_nums)"
   ]
  },
  {
   "cell_type": "markdown",
   "metadata": {},
   "source": [
    "Note: In most cases, using a single letter as a variable is a bad idea, since it is confusing what the variable stands for. However, it is so common for coders to use `i` as a variable for index that it is fine to use it in this way, as everyone will know the `i` stands for \"index\"."
   ]
  },
  {
   "cell_type": "markdown",
   "metadata": {},
   "source": [
    "## While Loops"
   ]
  },
  {
   "cell_type": "markdown",
   "metadata": {},
   "source": [
    "In some cases, we don't know how long we want our loop to run. In those situations, we can use a while-loop instead. A while-loop runs a block of code repeatedly while a condition is true.\n",
    "\n",
    "Here is how to write a while-loop:\n",
    "\n",
    "```Python\n",
    "while some_condition:\n",
    "    # Type the code here you want to run repeatedly.\n",
    "    # This code will only run if the condition above was true.\n",
    "    # It will keep running until the condition above is no longer true.\n",
    "```\n",
    "\n",
    "In the code above, some_condition can be replaced with whatever condition you want the loop to rely on. Make sure to do something within the code block that can make the condition False, or else your loop will run forever!\n",
    "\n",
    "Below is an example of a while-loop. Note that this use of a while-loop is a bit silly, as a for-loop can do the same thing without the risk of accidentally running an infinate loop:"
   ]
  },
  {
   "cell_type": "code",
   "execution_count": 84,
   "metadata": {},
   "outputs": [
    {
     "name": "stdout",
     "output_type": "stream",
     "text": [
      "First, let's use a while-loop:\n",
      "Hi\n",
      "Bye\n",
      "\n",
      "Hi\n",
      "Bye\n",
      "\n",
      "Hi\n",
      "Bye\n",
      "\n",
      "Hi\n",
      "Bye\n",
      "\n",
      "Now we will do the same with a for-loop:\n",
      "Hi\n",
      "Bye\n",
      "\n",
      "Hi\n",
      "Bye\n",
      "\n",
      "Hi\n",
      "Bye\n",
      "\n",
      "Hi\n",
      "Bye\n",
      "\n"
     ]
    }
   ],
   "source": [
    "print(\"First, let's use a while-loop:\")\n",
    "num = 0\n",
    "# This loop will keep running for as long as `num` is less than 6.\n",
    "while num < 4:\n",
    "    print(\"Hi\")\n",
    "    print(\"Bye\")\n",
    "    print()\n",
    "    # If we don't change `num`, we'll be stuck in an infinite loop!\n",
    "    num += 1    # Increase the variable `num` by 1.\n",
    "    \n",
    "\n",
    "print(\"Now we will do the same with a for-loop:\")\n",
    "# Use the range() function to safely loop 4 times without any risk.\n",
    "for num in range(4):\n",
    "    print(\"Hi\")\n",
    "    print(\"Bye\")\n",
    "    print()"
   ]
  },
  {
   "cell_type": "markdown",
   "metadata": {},
   "source": [
    "We can't always use a for-loop, however. In some situations, we have no idea how long the code should run for. In these cases, we must use a while-loop."
   ]
  },
  {
   "cell_type": "code",
   "execution_count": 75,
   "metadata": {},
   "outputs": [
    {
     "name": "stdin",
     "output_type": "stream",
     "text": [
      "Enter a non-zero number to add to the list. 1\n",
      "Enter another number to add to the list or type 0 to stop. 42\n",
      "Enter another number to add to the list or type 0 to stop. 5\n",
      "Enter another number to add to the list or type 0 to stop. 0\n"
     ]
    },
    {
     "name": "stdout",
     "output_type": "stream",
     "text": [
      "[1, 42, 5]\n"
     ]
    }
   ],
   "source": [
    "my_list = []\n",
    "num = int(input(\"Enter a non-zero number to add to the list.\"))\n",
    "\n",
    "# Only enter this loop if num is not equal to 0.\n",
    "# Each time the code block finishes, this condition will be checked again.\n",
    "while num != 0:\n",
    "    # Add the number to the list.\n",
    "    my_list.append(num)\n",
    "    # Change num so that the loop will stop if they type 0.\n",
    "    num = int(input(\"Enter another number to add to the list or type 0 to stop.\"))\n",
    "    \n",
    "# Once the loop is finished, print the resulting list.\n",
    "print(my_list)"
   ]
  },
  {
   "cell_type": "markdown",
   "metadata": {},
   "source": [
    "In the example above, the code keeps looping until the user enters a 0. This could not be done with a for-loop, as we do not know in advance how many numbers the user will input before deciding to enter a 0.\n",
    "\n",
    "Below is another example of a while-loop. It will keep removing elements from a list until only 3 elements remain."
   ]
  },
  {
   "cell_type": "code",
   "execution_count": 89,
   "metadata": {},
   "outputs": [
    {
     "name": "stdout",
     "output_type": "stream",
     "text": [
      "['hi', 'bye', 12]\n"
     ]
    }
   ],
   "source": [
    "random_elements = [\"hi\", \"bye\", 12, \"leo\", \"fly\", \"zoom\"]\n",
    "\n",
    "while len(random_elements) > 3:\n",
    "    random_elements.pop()\n",
    "    \n",
    "print(random_elements)"
   ]
  },
  {
   "cell_type": "markdown",
   "metadata": {},
   "source": [
    "## Loop Keywords"
   ]
  },
  {
   "cell_type": "markdown",
   "metadata": {},
   "source": [
    "#### Break\n",
    "The keyword `break` can be used to break out of a loop early."
   ]
  },
  {
   "cell_type": "code",
   "execution_count": 80,
   "metadata": {},
   "outputs": [
    {
     "name": "stdout",
     "output_type": "stream",
     "text": [
      "apple\n",
      "pear\n",
      "We broke out of the loop before 'banana' or 'kiwi' got printed.\n"
     ]
    }
   ],
   "source": [
    "for fruit in [\"apple\", \"pear\", \"banana\", \"kiwi\"]:\n",
    "    # If the variable is storing \"banana\", leave this loop.\n",
    "    if fruit == \"banana\":\n",
    "        break\n",
    "    print(fruit)\n",
    "\n",
    "print(\"We broke out of the loop before 'banana' or 'kiwi' got printed.\")"
   ]
  },
  {
   "cell_type": "markdown",
   "metadata": {},
   "source": [
    "### Continue\n",
    "The keyword `continue` makes the code current code stop before reaching the end, but continues the loop."
   ]
  },
  {
   "cell_type": "code",
   "execution_count": 91,
   "metadata": {},
   "outputs": [
    {
     "name": "stdout",
     "output_type": "stream",
     "text": [
      "apple\n",
      "pear\n",
      "kiwi\n",
      "The loop continued after 'banana', so 'kiwi' still got printed even though 'banana' didn't.\n"
     ]
    }
   ],
   "source": [
    "for fruit in [\"apple\", \"pear\", \"banana\", \"kiwi\"]:\n",
    "    # If the variable is storing \"banana\", continue to next item in the loop. \n",
    "    if fruit == \"banana\":\n",
    "        continue\n",
    "    print(fruit)\n",
    "\n",
    "print(\"The loop continued after 'banana', so 'kiwi' still got printed even though 'banana' didn't.\")"
   ]
  }
 ],
 "metadata": {
  "kernelspec": {
   "display_name": "Python 3 (ipykernel)",
   "language": "python",
   "name": "python3"
  },
  "language_info": {
   "codemirror_mode": {
    "name": "ipython",
    "version": 3
   },
   "file_extension": ".py",
   "mimetype": "text/x-python",
   "name": "python",
   "nbconvert_exporter": "python",
   "pygments_lexer": "ipython3",
   "version": "3.9.13"
  }
 },
 "nbformat": 4,
 "nbformat_minor": 4
}

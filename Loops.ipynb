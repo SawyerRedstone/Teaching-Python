{
 "cells": [
  {
   "cell_type": "markdown",
   "metadata": {},
   "source": [
    "# Loops"
   ]
  },
  {
   "cell_type": "markdown",
   "metadata": {},
   "source": [
    "Loops are a way to execute the same code again and again. There are two types of loops in Python: **for loops** and **while loops**."
   ]
  },
  {
   "cell_type": "markdown",
   "metadata": {},
   "source": [
    "## For Loops"
   ]
  },
  {
   "cell_type": "markdown",
   "metadata": {
    "tags": []
   },
   "source": [
    "<!-- Teach what an iterator is? -->\n",
    "\n",
    "A **for loop** goes through a collection (list, string, tuple, dictionary, etc.) one item at a time. For each item it reaches, a variable gets assigned the value of that item, and a block of code gets repeated. The code block stops repeating once every item in the sequence is reached. The process of taking each item from a collection one at a time like this is called **iteration**.\n",
    "\n",
    "Here is how to write a for-loop:\n",
    "\n",
    "```Python\n",
    "for current_item in some_iterator:\n",
    "    # Type the code you want repeated here.\n",
    "    # Make sure the code is indented!\n",
    "    # You can have as many lines of code here as you want.\n",
    "```\n",
    "\n",
    "In the code above, `current_item` is a variable that will keep changing as Python iterates through the collections. `current_item` can be named whatever you'd like, but here I chose the name `current_item` to make it clear that this variable is always storing the current item we have reached in the collection.\n",
    "\n",
    "To demonstrate how a for-loop works, here's an example:"
   ]
  },
  {
   "cell_type": "code",
   "execution_count": 35,
   "metadata": {},
   "outputs": [
    {
     "name": "stdout",
     "output_type": "stream",
     "text": [
      "Right now, the variable named `color` equals red\n",
      "It still equals red now.\n",
      "Right now, the variable named `color` equals blue\n",
      "It still equals blue now.\n",
      "Right now, the variable named `color` equals green\n",
      "It still equals green now.\n",
      "Right now, the variable named `color` equals purple\n",
      "It still equals purple now.\n"
     ]
    }
   ],
   "source": [
    "# Here, some_sequence is the list [\"red\", \"blue\", \"green\", \"purple\"]. \n",
    "# The variable `color` will store the current item we are up to in the collection.\n",
    "for color in [\"red\", \"blue\", \"green\", \"purple\"]:\n",
    "    # After all this indented code finishes running, `color` will get set to the next element.\n",
    "    print(f\"Right now, the variable named `color` equals {color}\")\n",
    "    print(f\"It still equals {color} now.\")"
   ]
  },
  {
   "cell_type": "markdown",
   "metadata": {},
   "source": [
    "In the code above, we are iterating over the collection `[\"red\", \"blue\", \"green\", \"purple\"]`. The variable `color` first gets set to the first element of the list, \"red\", and then the indented code runs with the variable equal to \"red\". The code then loops, changing `color` to equal the next element in the list, \"blue\". \n",
    "\n",
    "Next, let's try a for-loop where the collection is a string.\n",
    "\n",
    "As a reminder, strings are collections of characters. For example, in the string \"Hi, bye\", the elements are the characters `\"H\"`, `\"i\"`, `\",\"`, `\" \"`, `\"b\"`, `\"y\"`, and `\"e\"`."
   ]
  },
  {
   "cell_type": "code",
   "execution_count": 36,
   "metadata": {},
   "outputs": [
    {
     "name": "stdout",
     "output_type": "stream",
     "text": [
      "The current character in the string is: H\n",
      "The current character in the string is: e\n",
      "The current character in the string is: l\n",
      "The current character in the string is: l\n",
      "The current character in the string is: o\n",
      "The current character in the string is: ,\n",
      "The current character in the string is:  \n",
      "The current character in the string is: c\n",
      "The current character in the string is: l\n",
      "The current character in the string is: a\n",
      "The current character in the string is: s\n",
      "The current character in the string is: s\n",
      "The current character in the string is: !\n"
     ]
    }
   ],
   "source": [
    "# Loop through the sequence \"Hello, class!\". \n",
    "# Reminder: In strings, each character is its own element. \n",
    "for char in \"Hello, class!\":\n",
    "    # Display the character we are up to in the collection.\n",
    "    print(f\"The current character in the string is: {char}\")"
   ]
  },
  {
   "cell_type": "markdown",
   "metadata": {},
   "source": [
    "The code block can contain as many lines of code as it needs. The variable will only change after the loop finishes running the indented code. Then, after the variable changes, the code block will run again (and again, and again, until the collection is over).\n",
    "\n",
    "We can see an example of this below:"
   ]
  },
  {
   "cell_type": "code",
   "execution_count": 37,
   "metadata": {},
   "outputs": [
    {
     "name": "stdout",
     "output_type": "stream",
     "text": [
      "One cousin is 12 years old.\n",
      "They are younger than me.\n",
      "\n",
      "One cousin is 24 years old.\n",
      "They are my age.\n",
      "\n",
      "One cousin is 15 years old.\n",
      "They are younger than me.\n",
      "\n",
      "One cousin is 28 years old.\n",
      "They are older than me.\n",
      "\n",
      "One cousin is 39 years old.\n",
      "They are older than me.\n",
      "\n"
     ]
    }
   ],
   "source": [
    "# Create the collection we will loop through.\n",
    "cousin_ages = [12, 24, 15, 28, 39]\n",
    "# Save my age in a variable so we can access it later in the code.\n",
    "my_age = 24\n",
    "\n",
    "\n",
    "# Loop through the list of my cousin's ages. \n",
    "# Each time we go through the loop, set `cousin_age` to the next age in the list.\n",
    "for cousin_age in cousin_ages:\n",
    "    # Print out the cousin's age.\n",
    "    print(f\"One cousin is {cousin_age} years old.\")\n",
    "    # Check whether they are younger or older and print the result.\n",
    "    if cousin_age < my_age:\n",
    "        print(\"They are younger than me.\")\n",
    "    elif cousin_age == my_age:\n",
    "        print(\"They are my age.\")\n",
    "    else:\n",
    "        print(\"They are older than me.\")\n",
    "    # Print an empty line to seperate each time the code loops.\n",
    "    print()"
   ]
  },
  {
   "cell_type": "markdown",
   "metadata": {},
   "source": [
    "If each element in the collection is a collection itself, we can use tuple unpacking and assign multiple variables at once."
   ]
  },
  {
   "cell_type": "code",
   "execution_count": 38,
   "metadata": {},
   "outputs": [
    {
     "name": "stdout",
     "output_type": "stream",
     "text": [
      "Without tuple unpacking:\n",
      "('John', 'Samantha')\n",
      "('Billy', 'Lily')\n",
      "('Charlie', 'Lola')\n",
      "\n",
      "With tuple unpacking, we can seperate each of those tuples:\n",
      "The brother is John and the sister is Samantha.\n",
      "The brother is Billy and the sister is Lily.\n",
      "The brother is Charlie and the sister is Lola.\n"
     ]
    }
   ],
   "source": [
    "siblings = [(\"John\", \"Samantha\"), (\"Billy\", \"Lily\"), (\"Charlie\", \"Lola\")]\n",
    "\n",
    "print(\"Without tuple unpacking:\")\n",
    "for bro_sis in siblings:\n",
    "    print(bro_sis)\n",
    "\n",
    "# Add empty line to seperate examples.\n",
    "print()\n",
    "\n",
    "print(\"With tuple unpacking, we can seperate each of those tuples:\")\n",
    "for brother, sister in siblings:\n",
    "    print(f\"The brother is {brother} and the sister is {sister}.\")"
   ]
  },
  {
   "cell_type": "markdown",
   "metadata": {},
   "source": [
    "Iterating through a dictionary only loops through the keys.\n",
    "\n",
    "<!-- We can access the value at each of these keys using the syntax `dict_name[key]`, like so:\n",
    "\n",
    "Luckily, we can access the values in a dictionary if we have the key. \n",
    "\n",
    "As a reminder, we can access the value at a given key in a dictionary using this syntax: `dict_name[key]` -->"
   ]
  },
  {
   "cell_type": "code",
   "execution_count": 43,
   "metadata": {},
   "outputs": [
    {
     "name": "stdout",
     "output_type": "stream",
     "text": [
      "Loop through a dictionary. Note how we only see the keys:\n",
      "breakfast\n",
      "lunch\n",
      "dinner\n",
      "\n"
     ]
    }
   ],
   "source": [
    "meals = {\"breakfast\": \"eggs\", \"lunch\": \"bagel\", \"dinner\": \"soup\"}\n",
    "\n",
    "print(\"Loop through a dictionary. Note how we only see the keys:\")\n",
    "for meal_name in meals:\n",
    "    print(meal_name)\n",
    "print()"
   ]
  },
  {
   "cell_type": "markdown",
   "metadata": {},
   "source": [
    "If we want to access the values within those keys, we must use the dictionary's syntax `dict_name[key]`, like so:"
   ]
  },
  {
   "cell_type": "code",
   "execution_count": 47,
   "metadata": {},
   "outputs": [
    {
     "name": "stdout",
     "output_type": "stream",
     "text": [
      "This time, let's use each key to access the values.\n",
      "I'll eat eggs for breakfast.\n",
      "I'll eat bagel for lunch.\n",
      "I'll eat soup for dinner.\n"
     ]
    }
   ],
   "source": [
    "print(\"This time, let's use each key to access the values.\")\n",
    "for meal_name in meals:\n",
    "    curr_food = meals[meal_name]\n",
    "    # Use the key to access the value.\n",
    "    print(f\"I'll eat {curr_food} for {meal_name}.\")"
   ]
  },
  {
   "cell_type": "markdown",
   "metadata": {},
   "source": [
    "Alternatively, we can loop through the key and value together by using the dictionary method `.items()`. This method returns each key:value pair within tuples. We can then use tuple unpacking to get the key and value from these tuples."
   ]
  },
  {
   "cell_type": "code",
   "execution_count": 48,
   "metadata": {},
   "outputs": [
    {
     "name": "stdout",
     "output_type": "stream",
     "text": [
      "dict_items([('breakfast', 'eggs'), ('lunch', 'bagel'), ('dinner', 'soup')])\n",
      "\n",
      "Now let's loop through the key and values together by unpacking those tuples.\n",
      "I'll eat eggs for breakfast.\n",
      "I'll eat bagel for lunch.\n",
      "I'll eat soup for dinner.\n"
     ]
    }
   ],
   "source": [
    "# Display the key:value pairs as tuples.\n",
    "print(meals.items())\n",
    "print()\n",
    "\n",
    "print(\"Now let's loop through the key and values together by unpacking those tuples.\")\n",
    "for curr_meal, food in meals.items():\n",
    "    print(f\"I'll eat {food} for {curr_meal}.\")"
   ]
  },
  {
   "cell_type": "markdown",
   "metadata": {},
   "source": [
    "While the above examples all displayed the variable's value, this only occured because we used the `print()` function on the variable. Without printing the variable, it will not get displayed. This can be seen in the example below."
   ]
  },
  {
   "cell_type": "code",
   "execution_count": 1,
   "metadata": {},
   "outputs": [
    {
     "name": "stdout",
     "output_type": "stream",
     "text": [
      "Hi!\n",
      "How are you?\n",
      "\n",
      "Hi!\n",
      "How are you?\n",
      "\n",
      "Go away...\n",
      "\n",
      "Hi!\n",
      "How are you?\n",
      "\n"
     ]
    }
   ],
   "source": [
    "# Run the code block each time the variable changes to the next item in the list.\n",
    "for child in [\"Bob\", \"Sam\", \"Willy\", \"Todd\"]:\n",
    "    # Say hello to everyone except Willy.\n",
    "    if child != \"Willy\":\n",
    "        print(\"Hi!\")\n",
    "        print(\"How are you?\")\n",
    "    else:\n",
    "        print(\"Go away...\")\n",
    "    print()"
   ]
  },
  {
   "cell_type": "markdown",
   "metadata": {},
   "source": [
    "### Range()"
   ]
  },
  {
   "cell_type": "markdown",
   "metadata": {},
   "source": [
    "When we just want a block of code to run a given number of times, we can use the `range()` function. The `range()` function generates a sequence of integers up to but not including a chosen endpoint. By default, the sequence will start with 0."
   ]
  },
  {
   "cell_type": "code",
   "execution_count": 12,
   "metadata": {},
   "outputs": [
    {
     "name": "stdout",
     "output_type": "stream",
     "text": [
      "[0, 1, 2, 3, 4, 5]\n"
     ]
    }
   ],
   "source": [
    "# Display a list of the numbers from 0 (inclusive) to 6 (exclusive).\n",
    "print(list(range(6)))"
   ]
  },
  {
   "cell_type": "code",
   "execution_count": 11,
   "metadata": {},
   "outputs": [
    {
     "name": "stdout",
     "output_type": "stream",
     "text": [
      "num is now 0.\n",
      "That's a great number!\n",
      "num is now 1.\n",
      "That's a great number!\n",
      "num is now 2.\n",
      "That's a great number!\n",
      "num is now 3.\n",
      "That's a great number!\n"
     ]
    }
   ],
   "source": [
    "# Make a code block run 4 times.\n",
    "for num in range(4):\n",
    "    print(f\"num is now {num}.\")\n",
    "    print(\"That's a great number!\")"
   ]
  },
  {
   "cell_type": "markdown",
   "metadata": {},
   "source": [
    "While both of those sequences started at 0, we can optionally start the sequence at a different number by passing the function two arguments instead of one."
   ]
  },
  {
   "cell_type": "code",
   "execution_count": 13,
   "metadata": {},
   "outputs": [
    {
     "name": "stdout",
     "output_type": "stream",
     "text": [
      "3\n",
      "4\n",
      "5\n"
     ]
    }
   ],
   "source": [
    "# Loop through numbers starting from 3 (inclusive) to 6 (exclusive).\n",
    "for num in range(3, 6):\n",
    "    # Display each number in this range sequence.\n",
    "    print(num)"
   ]
  },
  {
   "cell_type": "markdown",
   "metadata": {},
   "source": [
    "What if we want to change every element within a list? \n",
    "\n",
    "One way we can do this is with the `range()` function, by treating the generated numbers as indices. To do this, we must get the length of the list in question so that we can make `range()` go from 0 (the first index) until `len(this_list)` (the index it must stop before reaching). Then we can alter the elements in those positions with the list-changing syntax `list_name[index] = new_value`.\n",
    "<!-- \n",
    "\n",
    "make sure `range` stops generating once it reaches the largest index in the \n",
    "\n",
    "making it generate all numbers from 0 up until the final index in the list.\n",
    "\n",
    "treating the generated numbers as indices. \n",
    "\n",
    "\n",
    "and altering the elements in those positions with the syntax `list_name[index] = new_value`. -->"
   ]
  },
  {
   "cell_type": "code",
   "execution_count": 56,
   "metadata": {},
   "outputs": [
    {
     "name": "stdout",
     "output_type": "stream",
     "text": [
      "Originally, index 0 is storing the name John.\n",
      "Originally, index 1 is storing the name Tim.\n",
      "Originally, index 2 is storing the name Phil.\n",
      "Originally, index 3 is storing the name Harry.\n",
      "Here is the new list:\n",
      "['John Smith', 'Tim Smith', 'Phil Smith', 'Harry Smith']\n"
     ]
    }
   ],
   "source": [
    "siblings = [\"John\", \"Tim\", \"Phil\", \"Harry\"]\n",
    "\n",
    "# It is common to use the variable i for index.\n",
    "for i in range(len(siblings)):\n",
    "    # Get the name at index `i`.\n",
    "    curr_name = siblings[i]\n",
    "    # Display the current value at the index.\n",
    "    print(f\"Originally, index {i} is storing the name {curr_name}.\")\n",
    "    # Change the value at that index to also include the last name.\n",
    "    siblings[i] = f\"{curr_name} Smith\"\n",
    "\n",
    "\n",
    "print(\"Here is the new list:\")\n",
    "print(siblings)"
   ]
  },
  {
   "cell_type": "markdown",
   "metadata": {},
   "source": [
    "This works, but it can be a bit confusing to look at. A better way to do this would be using a function called `enumerate()`."
   ]
  },
  {
   "cell_type": "markdown",
   "metadata": {},
   "source": [
    "### Enumerate()"
   ]
  },
  {
   "cell_type": "markdown",
   "metadata": {},
   "source": [
    "The `enumerate()` function pairs each element of an iterator with a number.\n",
    "\n",
    "<!-- creates tuples of every element within an iterator  -->"
   ]
  },
  {
   "cell_type": "code",
   "execution_count": 52,
   "metadata": {},
   "outputs": [
    {
     "name": "stdout",
     "output_type": "stream",
     "text": [
      "(0, 'H')\n",
      "(1, 'e')\n",
      "(2, 'l')\n",
      "(3, 'l')\n",
      "(4, 'o')\n"
     ]
    }
   ],
   "source": [
    "# Enumerate the string iterator \"Hello\".\n",
    "for pair in enumerate(\"Hello\"):\n",
    "    print(pair)"
   ]
  },
  {
   "cell_type": "markdown",
   "metadata": {},
   "source": [
    "Combined with tuple unpacking, we can put these values into variables to use them within the loop. "
   ]
  },
  {
   "cell_type": "code",
   "execution_count": 50,
   "metadata": {},
   "outputs": [
    {
     "name": "stdout",
     "output_type": "stream",
     "text": [
      "blue is at index 0\n",
      "red is at index 1\n",
      "green is at index 2\n",
      "yellow is at index 3\n"
     ]
    }
   ],
   "source": [
    "colors = [\"blue\", \"red\", \"green\", \"yellow\"]\n",
    "\n",
    "for i, color in enumerate(colors):\n",
    "    print(f\"{color} is at index {i}\")"
   ]
  },
  {
   "cell_type": "markdown",
   "metadata": {},
   "source": [
    "We can also use `enumerate()` to alter values in a list. You'll notice that the first example produces the same outcome as the previous example with `range()`, but is now much easier to follow.\n",
    "\n",
    "<!-- asimplify what we earlier used `range()` to accomplish. -->"
   ]
  },
  {
   "cell_type": "code",
   "execution_count": 65,
   "metadata": {},
   "outputs": [
    {
     "name": "stdout",
     "output_type": "stream",
     "text": [
      "Originally, index 0 stored the name John.\n",
      "Originally, index 1 stored the name Tim.\n",
      "Originally, index 2 stored the name Phil.\n",
      "Originally, index 3 stored the name Harry.\n",
      "Here is the new list:\n",
      "['John Smith', 'Tim Smith', 'Phil Smith', 'Harry Smith']\n"
     ]
    }
   ],
   "source": [
    "siblings = [\"John\", \"Tim\", \"Phil\", \"Harry\"]\n",
    "\n",
    "# Alter \n",
    "for i, curr_name in enumerate(siblings):\n",
    "    print(f\"Originally, index {i} stored the name {curr_name}.\")\n",
    "    siblings[i] = f\"{curr_name} Smith\"\n",
    "    \n",
    "print(\"Here is the new list:\")\n",
    "print(siblings)"
   ]
  },
  {
   "cell_type": "code",
   "execution_count": 66,
   "metadata": {},
   "outputs": [
    {
     "name": "stdout",
     "output_type": "stream",
     "text": [
      "Original list: [6, 12, 6, 1]\n",
      "List after adding 5 to each element: [11, 17, 11, 6]\n"
     ]
    }
   ],
   "source": [
    "random_nums = [6, 12, 6, 1]\n",
    " \n",
    "print(f\"Original list: {random_nums}\")\n",
    "\n",
    "# Make the variable `i` go through each index in the list.\n",
    "for i, num in enumerate(random_nums):\n",
    "    # Add 5 to each element in the list.\n",
    "    random_nums[i] = num + 5\n",
    "    \n",
    "print(f\"List after adding 5 to each element: {random_nums}\")"
   ]
  },
  {
   "cell_type": "markdown",
   "metadata": {},
   "source": [
    "## While Loops"
   ]
  },
  {
   "cell_type": "markdown",
   "metadata": {},
   "source": [
    "In some cases, we don't know how long we want our loop to run. In those situations, we can use a while-loop instead. A while-loop runs a block of code repeatedly while a condition is true.\n",
    "\n",
    "Here is how to write a while-loop:\n",
    "\n",
    "```Python\n",
    "while some_condition:\n",
    "    # Type the code here you want to run repeatedly.\n",
    "    # This code will only run if the condition above was true.\n",
    "    # It will keep running until the condition above is no longer true.\n",
    "```\n",
    "\n",
    "In the code above, some_condition can be replaced with whatever condition you want the loop to rely on. Make sure to do something within the code block that can make the condition False, or else your loop will run forever!\n",
    "\n",
    "Below is an example of a while-loop. Note that this use of a while-loop is a bit silly, as a for-loop can do the same thing without the risk of accidentally running an infinate loop:"
   ]
  },
  {
   "cell_type": "code",
   "execution_count": null,
   "metadata": {},
   "outputs": [],
   "source": [
    "print(\"First, let's use a while-loop:\")\n",
    "num = 0\n",
    "# This loop will keep running for as long as `num` is less than 6.\n",
    "while num < 4:\n",
    "    print(\"Hi\")\n",
    "    print(\"Bye\")\n",
    "    print()\n",
    "    # If we don't change `num`, we'll be stuck in an infinite loop!\n",
    "    num += 1    # Increase the variable `num` by 1.\n",
    "    \n",
    "\n",
    "print(\"Now we will do the same with a for-loop:\")\n",
    "# Use the range() function to safely loop 4 times without any risk.\n",
    "for num in range(4):\n",
    "    print(\"Hi\")\n",
    "    print(\"Bye\")\n",
    "    print()"
   ]
  },
  {
   "cell_type": "markdown",
   "metadata": {},
   "source": [
    "We can't always use a for-loop, however. In some situations, we have no idea how long the code should run for. In these cases, we must use a while-loop."
   ]
  },
  {
   "cell_type": "code",
   "execution_count": null,
   "metadata": {},
   "outputs": [],
   "source": [
    "my_list = []\n",
    "num = int(input(\"Enter a non-zero number to add to the list.\"))\n",
    "\n",
    "# Only enter this loop if num is not equal to 0.\n",
    "# Each time the code block finishes, this condition will be checked again.\n",
    "while num != 0:\n",
    "    # Add the number to the list.\n",
    "    my_list.append(num)\n",
    "    # Change num so that the loop will stop if they type 0.\n",
    "    num = int(input(\"Enter another number to add to the list or type 0 to stop.\"))\n",
    "    \n",
    "# Once the loop is finished, print the resulting list.\n",
    "print(my_list)"
   ]
  },
  {
   "cell_type": "markdown",
   "metadata": {},
   "source": [
    "In the example above, the code keeps looping until the user enters a 0. This could not be done with a for-loop, as we do not know in advance how many numbers the user will input before deciding to enter a 0.\n",
    "\n",
    "Below is another example of a while-loop. It will keep removing elements from a list until only 3 elements remain."
   ]
  },
  {
   "cell_type": "code",
   "execution_count": null,
   "metadata": {},
   "outputs": [],
   "source": [
    "random_elements = [\"hi\", \"bye\", 12, \"leo\", \"fly\", \"zoom\"]\n",
    "\n",
    "while len(random_elements) > 3:\n",
    "    random_elements.pop()\n",
    "    \n",
    "print(random_elements)"
   ]
  },
  {
   "cell_type": "markdown",
   "metadata": {},
   "source": [
    "## Loop Keywords"
   ]
  },
  {
   "cell_type": "markdown",
   "metadata": {},
   "source": [
    "#### Break\n",
    "The keyword `break` can be used to break out of a loop early."
   ]
  },
  {
   "cell_type": "code",
   "execution_count": 52,
   "metadata": {},
   "outputs": [
    {
     "name": "stdout",
     "output_type": "stream",
     "text": [
      "apple\n",
      "pear\n",
      "We broke out of the loop before 'banana' or 'kiwi' got printed.\n"
     ]
    }
   ],
   "source": [
    "for fruit in [\"apple\", \"pear\", \"banana\", \"kiwi\"]:\n",
    "    # If the variable is storing \"banana\", leave this loop.\n",
    "    if fruit == \"banana\":\n",
    "        break\n",
    "    print(fruit)\n",
    "\n",
    "print(\"We broke out of the loop before 'banana' or 'kiwi' got printed.\")"
   ]
  },
  {
   "cell_type": "markdown",
   "metadata": {},
   "source": [
    "### Continue\n",
    "The keyword `continue` makes the code current iteration stop before reaching the end, but continues the loop."
   ]
  },
  {
   "cell_type": "code",
   "execution_count": 51,
   "metadata": {},
   "outputs": [
    {
     "name": "stdout",
     "output_type": "stream",
     "text": [
      "apple\n",
      "pear\n",
      "kiwi\n",
      "The loop continued after 'banana', so 'kiwi' still got printed even though 'banana' didn't.\n"
     ]
    }
   ],
   "source": [
    "for fruit in [\"apple\", \"pear\", \"banana\", \"kiwi\"]:\n",
    "    # If the variable is storing \"banana\", continue to next item in the loop. \n",
    "    if fruit == \"banana\":\n",
    "        continue\n",
    "    print(fruit)\n",
    "\n",
    "print(\"The loop continued after 'banana', so 'kiwi' still got printed even though 'banana' didn't.\")"
   ]
  }
 ],
 "metadata": {
  "kernelspec": {
   "display_name": "Python 3 (ipykernel)",
   "language": "python",
   "name": "python3"
  },
  "language_info": {
   "codemirror_mode": {
    "name": "ipython",
    "version": 3
   },
   "file_extension": ".py",
   "mimetype": "text/x-python",
   "name": "python",
   "nbconvert_exporter": "python",
   "pygments_lexer": "ipython3",
   "version": "3.9.19"
  }
 },
 "nbformat": 4,
 "nbformat_minor": 4
}

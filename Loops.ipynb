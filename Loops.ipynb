{
 "cells": [
  {
   "cell_type": "markdown",
   "metadata": {},
   "source": [
    "# Loops"
   ]
  },
  {
   "cell_type": "markdown",
   "metadata": {},
   "source": [
    "Loops are a way to execute the same code again and again. There are two types of loops in Python: **for loops** and **while loops**."
   ]
  },
  {
   "cell_type": "markdown",
   "metadata": {},
   "source": [
    "## For Loops"
   ]
  },
  {
   "cell_type": "markdown",
   "metadata": {
    "tags": []
   },
   "source": [
    "<!-- A **for loop** repeatedly runs a block of code for every item in a sequence. -->\n",
    "\n",
    "A **for loop** goes through a sequence (i.e. a list, string, or tuple) one item at a time. For each item it reaches, a block of code gets repeated. The code block stops repeating once every item in the sequence is reached.\n",
    "\n",
    "Here is how to write a for-loop:\n",
    "\n",
    "```Python\n",
    "for current_item in some_sequence:\n",
    "    # Type the code you want repeated here.\n",
    "    # Make sure the code is indented!\n",
    "    # You can have as many lines of code here as you want.\n",
    "```\n",
    "\n",
    "<!-- In the code above, we are looping through `some_sequence`. `some_sequence` is just the \n",
    "\n",
    "Let's walk through what everything here does.\n",
    "\n",
    "1) `some_sequence` is the sequence we are looping through.\n",
    "\n",
    "In the code above, `some_sequence` is the sequence we are looping through. You can replace that\n",
    "\n",
    "Suppose we have a sequence named `some_sequence`. We want\n",
    "\n",
    "To demonstrate how a for-loop works, here's an example:\n",
    "\n",
    "Say I have a list of colors. I want to g \n",
    "\n",
    "Say we have a list of colors:\n",
    "`colors = [\"red\", \"blue\", \"green\", \"purple\"]`\n",
    "\n",
    "For each color in this list,  -->"
   ]
  },
  {
   "cell_type": "code",
   "execution_count": null,
   "metadata": {},
   "outputs": [],
   "source": [
    "# Here, some_sequence is the list [\"red\", \"blue\", \"green\", \"purple\"]. \n",
    "# The variable `color` will store the current item we are up to in the sequence.\n",
    "for color in [\"red\", \"blue\", \"green\", \"purple\"]:\n",
    "    print(f\"Right now, the variable named `color` equals {color}\")"
   ]
  },
  {
   "cell_type": "code",
   "execution_count": null,
   "metadata": {},
   "outputs": [],
   "source": [
    "# Loop through the sequence \"Hello, class!\". \n",
    "# Keep setting the variable `char` equal to the next element in the sequence.\n",
    "for char in \"Hello, class!\":\n",
    "    # Display the character we are up to in the sequence.\n",
    "    print(f\"The current character in the string is: {char}\")"
   ]
  },
  {
   "cell_type": "code",
   "execution_count": null,
   "metadata": {},
   "outputs": [],
   "source": [
    "my_age = 24\n",
    "cousin_ages = [12, 15, 28, 39]\n",
    "\n",
    "# Loop through the list of my cousin's ages. Each time we go through the loop, set `cousin_age` to the next age in the list.\n",
    "for cousin_age in cousin_ages:\n",
    "    # Print out the cousin's age.\n",
    "    print(f\"One cousin is {cousin_age} years old.\")\n",
    "    # Check whether they are younger or older and print the result.\n",
    "    if cousin_age < my_age:\n",
    "        print(\"They are younger than me.\")\n",
    "    else:\n",
    "        print(\"They are older than me.\")\n",
    "    # Print an empty line.\n",
    "    print()"
   ]
  },
  {
   "cell_type": "code",
   "execution_count": null,
   "metadata": {},
   "outputs": [],
   "source": [
    "cousins = [[\"Tom\", 4], [\"Billy\", 9], [\"Phil\", 10]]\n",
    "\n",
    "# for cousin in cousins:\n",
    "#     print(f\"{cousin} is here!\")\n",
    "    \n",
    "for name, age in cousins:\n",
    "    print(f\"{name} is {age} years old.\")"
   ]
  },
  {
   "cell_type": "code",
   "execution_count": null,
   "metadata": {},
   "outputs": [],
   "source": [
    "# for elem in [\"Hi\", 34, \"Yo!\", True]:\n",
    "#     print(elem)\n",
    "\n",
    "\n",
    "for child in [\"Bob\", \"Sam\", \"Willy\", \"Todd\"]:\n",
    "    print(\"Hi!\")\n",
    "    print(\"Bye...\")\n",
    "    print()"
   ]
  },
  {
   "cell_type": "markdown",
   "metadata": {},
   "source": [
    "We can also use the `range()` function to loop through a range of numbers."
   ]
  },
  {
   "cell_type": "code",
   "execution_count": 1,
   "metadata": {},
   "outputs": [
    {
     "name": "stdout",
     "output_type": "stream",
     "text": [
      "0\n",
      "1\n",
      "2\n",
      "3\n",
      "4\n",
      "5\n"
     ]
    }
   ],
   "source": [
    "# Loop through numbers starting from 0 and ending before 6.\n",
    "for num in range(6):\n",
    "    print(num)"
   ]
  }
 ],
 "metadata": {
  "kernelspec": {
   "display_name": "Python 3 (ipykernel)",
   "language": "python",
   "name": "python3"
  },
  "language_info": {
   "codemirror_mode": {
    "name": "ipython",
    "version": 3
   },
   "file_extension": ".py",
   "mimetype": "text/x-python",
   "name": "python",
   "nbconvert_exporter": "python",
   "pygments_lexer": "ipython3",
   "version": "3.9.13"
  }
 },
 "nbformat": 4,
 "nbformat_minor": 4
}

{
 "cells": [
  {
   "cell_type": "markdown",
   "id": "bbd48c91-9b71-4876-87ef-04db8b2d3a05",
   "metadata": {},
   "source": [
    "# Conditional Statements (if, elif, else)"
   ]
  },
  {
   "cell_type": "markdown",
   "id": "03fa685e-55a5-4e7d-bf02-f4a2b04d64c6",
   "metadata": {},
   "source": [
    "Using an **if statement**, we can make a block of code only execute if a certain condition is true.\n",
    "\n",
    "(A code block is a group of code indented after a colon.)"
   ]
  },
  {
   "cell_type": "code",
   "execution_count": null,
   "id": "b6894698-fe84-40d2-a2d0-4090193393d1",
   "metadata": {},
   "outputs": [],
   "source": [
    "# Get user's age. Note that input is stored as a string by default.\n",
    "age = input(\"How old are you?\")\n",
    "\n",
    "# Convert the age into an `int` type so it gets treated as a number instead of as text.\n",
    "age = int(age)\n",
    "\n",
    "# Check if user's age is less than 21.\n",
    "if age < 21:\n",
    "    # Note the indentation here!\n",
    "    print(f\"You're only {age} years old? Get out of the bar!\")"
   ]
  },
  {
   "cell_type": "markdown",
   "id": "ba083c46",
   "metadata": {},
   "source": [
    "We can use multiple if statements within our code. Remember to use a colon (`:`) before indenting!"
   ]
  },
  {
   "cell_type": "code",
   "execution_count": null,
   "id": "dae9c44a-7014-4908-b2e0-dba89b67faf7",
   "metadata": {},
   "outputs": [],
   "source": [
    "# Here I picked a random age. Feel free to change it to experiment!\n",
    "age = 38\n",
    "\n",
    "# If they are younger than 21, kick them from the bar.\n",
    "if age < 21:\n",
    "    print(\"Get out of the bar!\")\n",
    "    print(\"Seriously!\")\n",
    "    print(\"Leave or I'm calling your mom!\")\n",
    "\n",
    "# If age is 38, talk about your son.\n",
    "if age == 38:\n",
    "    print(\"You're 38? My son is that same age!\")\n",
    "\n",
    "# If their age is greater or equal to 21, offer a drink.\n",
    "if age >= 21:\n",
    "    print(\"What drink can I get you today?\")"
   ]
  },
  {
   "cell_type": "markdown",
   "id": "c3559295-6d5a-45c9-8f1c-6f9a614d2a52",
   "metadata": {},
   "source": [
    "An **if-else statement** allows us to direct the code to execute an alternative action if the `if` condition is not met. When the `if` condition evaluates to False, Python will execute the block of code following the `else:`. \n",
    "\n",
    "Note that you can't write any conditions following the `else`, as `else` happens automatically once the `if` condition evaluates to False. "
   ]
  },
  {
   "cell_type": "code",
   "execution_count": null,
   "id": "1f5a97da-23b4-4e56-a7f7-a46fe912280f",
   "metadata": {},
   "outputs": [],
   "source": [
    "# This time, we'll get the user's age and convert it to an int on a single line.\n",
    "age = int(input(\"How old are you?\"))\n",
    "\n",
    "# If age was 6, invite them to your birthday party.\n",
    "if age == 6:\n",
    "    print(\"Yay, we're the same age! You should come to my birthday party!\")\n",
    "# If they weren't 6, complain instead.\n",
    "else:\n",
    "    print(\"Aww, lame, we aren't the same age...\")"
   ]
  },
  {
   "cell_type": "markdown",
   "id": "616ea032",
   "metadata": {},
   "source": [
    "If we want to test multiple conditions, we can use **elif**. Elif (short for \"else-if\") allows us to try other conditions when the if statement is else."
   ]
  },
  {
   "cell_type": "code",
   "execution_count": null,
   "id": "c93796c6-0535-4151-8cae-7234339d0410",
   "metadata": {},
   "outputs": [],
   "source": [
    "# To test this code, try a few ages, such as 3, 7, 8, 12, and 20.\n",
    "# Try to guess what the code will output before running it!\n",
    "age = int(input(\"How old are you?\"))\n",
    "\n",
    "# If age is 7, invite to party.\n",
    "if age == 7:\n",
    "    print(\"Yay, we're the same age! You should come to my birthday party!\")\n",
    "# If the age wasn't 7 but was between 5 and 8 (inclusive), begrudgingly invite them anyway.\n",
    "elif 5 <= age <= 8:\n",
    "    print(\"You aren't my age, but you're close enough. Want to come to my party?\")\n",
    "# If the age was younger than 5, don't invite them.\n",
    "elif age < 5:\n",
    "    print(\"You're still a baby. No way am I inviting you to my party.\")\n",
    "# Lastly, if all other conditions failed (meaning age must be older than 8), complain.\n",
    "else:\n",
    "    print(\"Ahh, you're so old! Stranger danger, stranger danger!\")\n",
    "\n",
    "# After the else, that if statement is done. The code resumes running like normal.\n",
    "print(\"I'm leaving, bye!\")"
   ]
  }
 ],
 "metadata": {
  "kernelspec": {
   "display_name": "Python 3 (ipykernel)",
   "language": "python",
   "name": "python3"
  },
  "language_info": {
   "codemirror_mode": {
    "name": "ipython",
    "version": 3
   },
   "file_extension": ".py",
   "mimetype": "text/x-python",
   "name": "python",
   "nbconvert_exporter": "python",
   "pygments_lexer": "ipython3",
   "version": "3.9.13"
  }
 },
 "nbformat": 4,
 "nbformat_minor": 5
}

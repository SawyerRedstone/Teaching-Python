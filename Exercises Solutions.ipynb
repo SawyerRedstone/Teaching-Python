{
 "cells": [
  {
   "cell_type": "markdown",
   "id": "d75e95d3-99ce-459a-bd5d-d814b51f3514",
   "metadata": {},
   "source": [
    "# Solutions\n",
    "When reviewing coding solutions, don’t stop at just reading them. Instead, take a moment to understand the techniques used, then look away from the solution and attempt to solve the exercise again. This is important, as it reinforces your understanding and helps you realize what parts are still tricky for you. \n",
    "\n",
    "Make sure you run your code! Even if your code looks like it matches the solution perfectly, it's easy to accidentally leave something out without noticing. Running your code is the best way confirm if you solved it correctly.\n",
    "\n",
    "*Some of these exercises can be solved in multiple ways. As a bonus, I occasionally added multiple solutions to the same exercise so you can learn different techniques.*"
   ]
  },
  {
   "cell_type": "markdown",
   "id": "cf29820c-8057-4201-bd12-a7f17a22cf0b",
   "metadata": {},
   "source": [
    "## Python"
   ]
  },
  {
   "cell_type": "markdown",
   "id": "2df19159-6b6f-4263-92c6-93207cfa71ca",
   "metadata": {},
   "source": [
    "1) Write a Python program that prints \"Hello, World!\" to the screen."
   ]
  },
  {
   "cell_type": "code",
   "execution_count": 1,
   "id": "f326197b-4b60-4b8d-92cb-c85e76b94e33",
   "metadata": {},
   "outputs": [
    {
     "name": "stdout",
     "output_type": "stream",
     "text": [
      "Hello, World!\n"
     ]
    }
   ],
   "source": [
    "# Call the print() function with the string \"Hello, World!\" as an argument.\n",
    "print(\"Hello, World!\")"
   ]
  },
  {
   "cell_type": "markdown",
   "id": "944a77f1-6205-420f-b061-7bbfa66baa8a",
   "metadata": {},
   "source": [
    "2) Create a variable called `name` and assign your name to it. Then print the value of the variable."
   ]
  },
  {
   "cell_type": "code",
   "execution_count": 2,
   "id": "358544af-6e5d-44ae-9aa9-22b96a941cdf",
   "metadata": {},
   "outputs": [
    {
     "name": "stdout",
     "output_type": "stream",
     "text": [
      "Sawyer\n"
     ]
    }
   ],
   "source": [
    "# Create a variable called `name` and assign your name to it.\n",
    "name = \"Sawyer\"\n",
    "# Print the value of the variable `name`.\n",
    "print(name)"
   ]
  },
  {
   "cell_type": "markdown",
   "id": "5f15320a-571d-4a28-ba2a-8fccb907eaed",
   "metadata": {},
   "source": [
    "3) Write a Python program that takes two numbers, adds them together, and prints the result."
   ]
  },
  {
   "cell_type": "code",
   "execution_count": 3,
   "id": "01ee1271-b566-4d1d-b594-1fdaf2a5d63e",
   "metadata": {},
   "outputs": [
    {
     "name": "stdout",
     "output_type": "stream",
     "text": [
      "8\n"
     ]
    }
   ],
   "source": [
    "# Solution 1 - Assign variables on seperate lines.\n",
    "\n",
    "# Assign two variables to numbers.\n",
    "num1 = 5\n",
    "num2 = 3\n",
    "\n",
    "# Add the numbers together and store the result.\n",
    "added = num1 + num2\n",
    "# Display the result.\n",
    "print(added)"
   ]
  },
  {
   "cell_type": "code",
   "execution_count": 4,
   "id": "417c0900-98e4-4c56-9229-5409f34b363d",
   "metadata": {},
   "outputs": [
    {
     "name": "stdout",
     "output_type": "stream",
     "text": [
      "26\n"
     ]
    }
   ],
   "source": [
    "# Solution 2 - Assign both variables on one line.\n",
    "\n",
    "# Assign both variables together. This uses tuple unpacking, as `18, 8` is treated as a tuple (18, 8) and then \"unpacked\" into the variables.\n",
    "num1, num2 = 18, 8\n",
    "\n",
    "# Add the numbers together and store the result.\n",
    "added = num1 + num2\n",
    "# Display the result.\n",
    "print(added)"
   ]
  },
  {
   "cell_type": "markdown",
   "id": "1dafc02b-712c-4574-b718-5990ad6656ae",
   "metadata": {},
   "source": [
    "4) Write a Python program that asks the user for their name and then greets them."
   ]
  },
  {
   "cell_type": "code",
   "execution_count": 5,
   "id": "5fd9c78e-5153-44b5-9fb2-159a9df6dee6",
   "metadata": {},
   "outputs": [
    {
     "name": "stdin",
     "output_type": "stream",
     "text": [
      "What's your name? Sawyer\n"
     ]
    },
    {
     "name": "stdout",
     "output_type": "stream",
     "text": [
      "Hello, Sawyer!\n"
     ]
    }
   ],
   "source": [
    "# Solution 1 - Use string concatenation to connect two strings.\n",
    "\n",
    "# Ask the user for their name using the input() function.\n",
    "name = input(\"What's your name?\")\n",
    "\n",
    "# Use the + symbol to concatenate (connect) two strings.\n",
    "print(\"Hello, \" + name + \"!\")"
   ]
  },
  {
   "cell_type": "code",
   "execution_count": 6,
   "id": "24e06a3b-1ca1-45c6-8e10-909780abf650",
   "metadata": {},
   "outputs": [
    {
     "name": "stdin",
     "output_type": "stream",
     "text": [
      "What's your name? Charlie\n"
     ]
    },
    {
     "name": "stdout",
     "output_type": "stream",
     "text": [
      "Hello, Charlie!\n"
     ]
    }
   ],
   "source": [
    "# Solution 2 - Use an f-string. \n",
    "# Unlike string concatenation which only works if everything is a string, \n",
    "# f-strings can also add other data types to strings (such as ints or list).\n",
    "\n",
    "\n",
    "# Ask the user for their name using the input() function.\n",
    "name = input(\"What's your name?\")\n",
    "# Use an f-string to put variable's value within the string.\n",
    "print(f\"Hello, {name}!\")"
   ]
  },
  {
   "cell_type": "markdown",
   "id": "8f6a59d0-b8b7-4554-8d24-812ffc319d47",
   "metadata": {},
   "source": [
    "5) Write a Python program that asks a user to input a number. Print a message saying whether the number that was inputted is positive, negative, or 0."
   ]
  },
  {
   "cell_type": "code",
   "execution_count": 7,
   "id": "8d9ee5b1-94f2-4553-b9e9-db3ef68d037e",
   "metadata": {},
   "outputs": [
    {
     "name": "stdin",
     "output_type": "stream",
     "text": [
      "Pick a number, any number. -7\n"
     ]
    },
    {
     "name": "stdout",
     "output_type": "stream",
     "text": [
      "The number is negative.\n"
     ]
    }
   ],
   "source": [
    "# Ask the user for a number.\n",
    "num = input(\"Pick a number, any number.\")\n",
    "# Since input() returns a string of what they typed, convert that into an integer.\n",
    "num = int(num)\n",
    "\n",
    "\n",
    "# Check if the value is greater than 0.\n",
    "if num > 0:\n",
    "    print(\"The number is positive.\")\n",
    "# Check if the value is equal to 0.\n",
    "elif num == 0:\n",
    "    print(\"The number is zero.\")\n",
    "# If both of the above failed, the number must be negative.\n",
    "else:\n",
    "    print(\"The number is negative.\")"
   ]
  },
  {
   "cell_type": "markdown",
   "id": "2344746f-6b88-484c-bd80-5e0b67b63231",
   "metadata": {},
   "source": [
    "6) Write a Python program that prints the numbers from 1 to 10 using a for-loop."
   ]
  },
  {
   "cell_type": "code",
   "execution_count": 8,
   "id": "9d73a885-4e74-469a-9346-8f6215883900",
   "metadata": {},
   "outputs": [
    {
     "name": "stdout",
     "output_type": "stream",
     "text": [
      "1\n",
      "2\n",
      "3\n",
      "4\n",
      "5\n",
      "6\n",
      "7\n",
      "8\n",
      "9\n",
      "10\n"
     ]
    }
   ],
   "source": [
    "# Iterate through the numbers from 1 up until (but not including) 11.\n",
    "for num in range(1, 11):\n",
    "    # Print the variable each time it gets assigned to the next number.\n",
    "    print(num)"
   ]
  },
  {
   "cell_type": "markdown",
   "id": "5ad18d7c-06d1-4a5c-9191-6b8854cd009e",
   "metadata": {},
   "source": [
    "7) Create a list of your favorite fruits and print each fruit using a for-loop."
   ]
  },
  {
   "cell_type": "code",
   "execution_count": 9,
   "id": "c4716b9b-f271-4eac-a3fa-00df39a980a7",
   "metadata": {},
   "outputs": [
    {
     "name": "stdout",
     "output_type": "stream",
     "text": [
      "mango\n",
      "pineapple\n",
      "coconut\n",
      "clementine\n"
     ]
    }
   ],
   "source": [
    "fave_fruits = [\"mango\", \"pineapple\", \"coconut\", \"clementine\"]\n",
    "\n",
    "# Loop through the list, each time assigning a variable `fruit` to the next item in the list.\n",
    "for fruit in fave_fruits:\n",
    "    # Print the current value the variable is assigned to.\n",
    "    print(fruit)"
   ]
  },
  {
   "cell_type": "markdown",
   "id": "ef8e44f8-9e7f-422e-a01e-0ca9eb7ce484",
   "metadata": {},
   "source": [
    "8) Write a function that takes a name as an argument and prints a greeting message."
   ]
  },
  {
   "cell_type": "code",
   "execution_count": 10,
   "id": "10749dae-8226-4a0d-aefb-5b3ed5798ab8",
   "metadata": {},
   "outputs": [
    {
     "name": "stdout",
     "output_type": "stream",
     "text": [
      "Hello, Sawyer! How are you?\n",
      "Hello, Charlie! How are you?\n"
     ]
    }
   ],
   "source": [
    "# Define a function called 'greet' that takes one parameter 'name'.\n",
    "# When greet() is called with a value, `name` gets assigned to it.\n",
    "def greet(name):\n",
    "    # Use an f-string to print out the value greet() was called with.\n",
    "    print(f\"Hello, {name}! How are you?\")\n",
    "    \n",
    "    \n",
    "\n",
    "# Call the function with the argument \"Sawyer\".\n",
    "greet(\"Sawyer\")\n",
    "\n",
    "# Call the function again, this time with the argument \"Charlie\".\n",
    "greet(\"Charlie\")"
   ]
  },
  {
   "cell_type": "markdown",
   "id": "cb718d45-145e-40e2-93be-a794bb999c8b",
   "metadata": {},
   "source": [
    " 9) Write a Python program that takes a string and prints it in reverse."
   ]
  },
  {
   "cell_type": "code",
   "execution_count": 11,
   "id": "9b7c1a62-d4bc-4fac-b544-13a5f60e4208",
   "metadata": {},
   "outputs": [
    {
     "name": "stdout",
     "output_type": "stream",
     "text": [
      "!egaugnal taerg a si nohtyP\n"
     ]
    }
   ],
   "source": [
    "python_string = \"Python is a great language!\"\n",
    "\n",
    "# Use Python's slicing with a negative step to step backwards through the string.\n",
    "# As a reminder, slicing uses the form `some_string[start:stop:step]`.\n",
    "# Here we are using the default start and stop values and only specifying the step.\n",
    "backwards_string = python_string[::-1]\n",
    "print(backwards_string)"
   ]
  },
  {
   "cell_type": "markdown",
   "id": "452d7b2e-e887-4272-a770-79957a800782",
   "metadata": {},
   "source": [
    "10) Write a Python program that takes a lowercase string, converts it to uppercase, and prints the result."
   ]
  },
  {
   "cell_type": "code",
   "execution_count": 12,
   "id": "81528d11-c4fa-4b11-b90a-41478b99786f",
   "metadata": {},
   "outputs": [
    {
     "name": "stdout",
     "output_type": "stream",
     "text": [
      "HOW ARE YOU?\n"
     ]
    }
   ],
   "source": [
    "quiet_string = \"how are you?\"\n",
    "\n",
    "# Use the .upper() method to get the uppercase version of the string, then save the result.\n",
    "loud_string = quiet_string.upper()\n",
    "print(loud_string)"
   ]
  },
  {
   "cell_type": "markdown",
   "id": "07825cb7-3114-40c5-940d-976ff0a27ad8",
   "metadata": {},
   "source": [
    "11) Write a Python program that takes a list and prints the number of elements in the list."
   ]
  },
  {
   "cell_type": "code",
   "execution_count": 13,
   "id": "f172d767-dd9b-4e66-9914-e4a9cdc68cc0",
   "metadata": {},
   "outputs": [
    {
     "name": "stdout",
     "output_type": "stream",
     "text": [
      "4\n"
     ]
    }
   ],
   "source": [
    "# Create a list of animals.\n",
    "animals = [\"cat\", \"dog\", \"mouse\", \"squid\"]\n",
    "\n",
    "# Use the len() function to get the length of the list.\n",
    "num_elements = len(animals)\n",
    "print(num_elements)"
   ]
  },
  {
   "cell_type": "markdown",
   "id": "7d9b3c4d-16eb-4a90-bb9d-e58bcd89180f",
   "metadata": {},
   "source": [
    "12) Write a Python program that uses a while loop to print the numbers from 1 to 5."
   ]
  },
  {
   "cell_type": "code",
   "execution_count": 14,
   "id": "fc735f33-6cbe-4655-afb1-19813efd5fb6",
   "metadata": {},
   "outputs": [
    {
     "name": "stdout",
     "output_type": "stream",
     "text": [
      "1\n",
      "2\n",
      "3\n",
      "4\n",
      "5\n"
     ]
    }
   ],
   "source": [
    "# Start with the number 1.\n",
    "num = 1\n",
    "# Keep looping while the number is less than or equal to 5.\n",
    "while num <= 5:\n",
    "    # Display the number's current value.\n",
    "    print(num)\n",
    "    # Assign `num` to the next value it should print.\n",
    "    num += 1    # This is a shorthand way of typing `num = num + 1`."
   ]
  },
  {
   "cell_type": "markdown",
   "id": "d351190b-a32a-4c49-8cea-01410c6676c6",
   "metadata": {},
   "source": [
    "13) Write a Python program that creates a dictionary with three key-value pairs and prints each key and value."
   ]
  },
  {
   "cell_type": "code",
   "execution_count": 15,
   "id": "a5d2c0ca-db56-4de6-a52e-317477b74381",
   "metadata": {},
   "outputs": [
    {
     "name": "stdout",
     "output_type": "stream",
     "text": [
      "This person's name is Sawyer.\n",
      "This person's age is 24.\n",
      "This person's city is New York.\n"
     ]
    }
   ],
   "source": [
    "# Solution 1 - loop through dictionary keys and get the value using the key.\n",
    "\n",
    "# Create a dictionary with three key-value pairs.\n",
    "person = {\"name\": \"Sawyer\", \"age\": 24, \"city\": \"New York\"}\n",
    "\n",
    "# Use a for-foop to iterate through the dictionary's keys.\n",
    "for key in person:    # `key` here is just a variable name. You can type any word there.\n",
    "    # Use the key to get its paired value.\n",
    "    value_found = person[key]\n",
    "    # Print the key and value.\n",
    "    print(f\"This person's {key} is {value_found}.\")"
   ]
  },
  {
   "cell_type": "code",
   "execution_count": 16,
   "id": "ca10fa9e-81d3-4249-9c9f-f1dd1299f013",
   "metadata": {},
   "outputs": [
    {
     "name": "stdout",
     "output_type": "stream",
     "text": [
      "This person's name is Aiko.\n",
      "This person's age is 16.\n",
      "This person's city is Tokyo.\n"
     ]
    }
   ],
   "source": [
    "# Solution 2 - loop through both the keys and values in a dictionary at once by using the dictionary's .items() method.\n",
    "\n",
    "# Create a dictionary with three key-value pairs.\n",
    "person = {\"name\": \"Aiko\", \"age\": 16, \"city\": \"Tokyo\"}\n",
    "\n",
    "# Step 2: Use a for-loop to iterate through the items, and assign the values to two variables (which here I named `key` and `val`).\n",
    "for key, val in person.items():\n",
    "    # Step 3: Print each key and value.\n",
    "    print(f\"This person's {key} is {val}.\")"
   ]
  },
  {
   "cell_type": "markdown",
   "id": "27a3681b-9c6b-41ec-84c9-56b654a071b4",
   "metadata": {},
   "source": [
    "14) Write a Python program that creates a list of squares of numbers from 1 to 5 using a list comprehension."
   ]
  },
  {
   "cell_type": "code",
   "execution_count": 17,
   "id": "f106c63d-058e-49a5-80d9-af7fc1104591",
   "metadata": {},
   "outputs": [
    {
     "name": "stdout",
     "output_type": "stream",
     "text": [
      "Result without list comprehension: [1, 4, 9, 16, 25].\n",
      "Result with list comprehension: [1, 4, 9, 16, 25]\n"
     ]
    }
   ],
   "source": [
    "# First, here is how we'd do this without list comprehension. It takes multiple lines of code:\n",
    "\n",
    "# Create an empty list.\n",
    "loop_squares = []\n",
    "for num in range(1, 6):\n",
    "    # Add num * num to the end of the list.\n",
    "    loop_squares.append(num * num)\n",
    "    \n",
    "# Print the resulting list. \n",
    "print(f\"Result without list comprehension: {loop_squares}.\")\n",
    "\n",
    "\n",
    "# Now, here is how to use list comprehension to do that code on one line.\n",
    "# List comprehension uses the format [some_expression for item in iterable].\n",
    "# Here we are trying to square numbers, so the expression is is `num * num`.\n",
    "# And the variable `num` should get assigned to each value in range(1, 6):\n",
    "\n",
    "# Make the same list as before, but using only one line!\n",
    "list_comprehension_squares = [num * num for num in range(1, 6)]\n",
    "print(f\"Result with list comprehension: {list_comprehension_squares}\")"
   ]
  },
  {
   "cell_type": "markdown",
   "id": "48b9d3d9-d893-40fe-b2e3-c50230e67aef",
   "metadata": {},
   "source": [
    "15) Write a Python program that takes a list and prints the first three elements."
   ]
  },
  {
   "cell_type": "code",
   "execution_count": 18,
   "id": "c5846e38-98f0-4606-9801-c9fd67b9cfaf",
   "metadata": {},
   "outputs": [
    {
     "name": "stdout",
     "output_type": "stream",
     "text": [
      "['blue', 'green', 'yellow']\n"
     ]
    }
   ],
   "source": [
    "# Assign a variable to a list of colors.\n",
    "colors = [\"blue\", \"green\", \"yellow\", \"orange\", \"purple\", \"silver\", \"aqua\", \"red\"]\n",
    "\n",
    "# Use slicing to get all elements from index 0 up until (but not including) index 3.\n",
    "first_elems = colors[:3]\n",
    "\n",
    "# Step 3: Print the first three elements.\n",
    "print(first_elems)"
   ]
  },
  {
   "cell_type": "markdown",
   "id": "90418919-b00b-4ab0-a36c-f3dea762b2ac",
   "metadata": {},
   "source": [
    "16) Write a function that takes two numbers as arguments, adds them, and returns the result. Call the function and print the result."
   ]
  },
  {
   "cell_type": "code",
   "execution_count": 24,
   "id": "f20395ae-8cd3-43d0-8000-5ee218254e42",
   "metadata": {},
   "outputs": [
    {
     "name": "stdout",
     "output_type": "stream",
     "text": [
      "The return value of `add(3, 5)` is 8.\n",
      "The return value of `add(9, 1)` is 10.\n"
     ]
    }
   ],
   "source": [
    "# Step 1: Define a function called 'add' with two parameters.\n",
    "def add(num1, num2):\n",
    "    # Get their sum.\n",
    "    added = num1 + num2\n",
    "    # Send the sum out of the function to be used elsewhere.\n",
    "    return added\n",
    "\n",
    "# Call the function with the arguments 3 and 5. Assign a variable to the returned value.\n",
    "three_plus_five = add(3, 5)\n",
    "# Print what the function returned.\n",
    "print(f\"The return value of `add(3, 5)` is {three_plus_five}.\")\n",
    "\n",
    "\n",
    "# Call the function with the arguments 9 and 1. Assign a variable to the returned value.\n",
    "nine_plus_one = add(9, 1)\n",
    "# Print what the function returned.\n",
    "print(f\"The return value of `add(9, 1)` is {nine_plus_one}.\")"
   ]
  },
  {
   "cell_type": "markdown",
   "id": "255dcc30-eab3-4314-a874-f4d7d635590f",
   "metadata": {},
   "source": [
    "## pandas"
   ]
  },
  {
   "cell_type": "markdown",
   "id": "def402ca-02a2-429a-9c9e-67bb0741bd4f",
   "metadata": {},
   "source": [
    "1) Create a DataFrame from a dictionary."
   ]
  },
  {
   "cell_type": "code",
   "execution_count": 20,
   "id": "0a747c53-8e48-4ae6-aae0-59f23082ca15",
   "metadata": {},
   "outputs": [
    {
     "data": {
      "text/html": [
       "<div>\n",
       "<style scoped>\n",
       "    .dataframe tbody tr th:only-of-type {\n",
       "        vertical-align: middle;\n",
       "    }\n",
       "\n",
       "    .dataframe tbody tr th {\n",
       "        vertical-align: top;\n",
       "    }\n",
       "\n",
       "    .dataframe thead th {\n",
       "        text-align: right;\n",
       "    }\n",
       "</style>\n",
       "<table border=\"1\" class=\"dataframe\">\n",
       "  <thead>\n",
       "    <tr style=\"text-align: right;\">\n",
       "      <th></th>\n",
       "      <th>Name</th>\n",
       "      <th>Age</th>\n",
       "      <th>State</th>\n",
       "    </tr>\n",
       "  </thead>\n",
       "  <tbody>\n",
       "    <tr>\n",
       "      <th>0</th>\n",
       "      <td>Sawyer</td>\n",
       "      <td>24</td>\n",
       "      <td>New York</td>\n",
       "    </tr>\n",
       "    <tr>\n",
       "      <th>1</th>\n",
       "      <td>Jogn</td>\n",
       "      <td>30</td>\n",
       "      <td>Florida</td>\n",
       "    </tr>\n",
       "    <tr>\n",
       "      <th>2</th>\n",
       "      <td>Alice</td>\n",
       "      <td>22</td>\n",
       "      <td>California</td>\n",
       "    </tr>\n",
       "  </tbody>\n",
       "</table>\n",
       "</div>"
      ],
      "text/plain": [
       "     Name  Age       State\n",
       "0  Sawyer   24    New York\n",
       "1    Jogn   30     Florida\n",
       "2   Alice   22  California"
      ]
     },
     "execution_count": 20,
     "metadata": {},
     "output_type": "execute_result"
    }
   ],
   "source": [
    "# Import pandas with the alias pd. This means we can type `pd` in the code instead of the longer word `pandas`.\n",
    "import pandas as pd\n",
    "\n",
    "# Create a dictionary with keys \"Name\", \"Age\", and \"State\" and lists of their values.\n",
    "people_data = {\"Name\": [\"Sawyer\", \"Jogn\", \"Alice\"], \n",
    "               \"Age\": [24, 30, 22], \n",
    "               \"State\": [\"New York\", \"Florida\", \"California\"]}\n",
    "\n",
    "# Convert the dictionary into a DataFrame.\n",
    "people = pd.DataFrame(people_data)\n",
    "\n",
    "# Jupyter always displays the last line without you needing to use the print() function. \n",
    "# For DataFrames, Jupyter makes it look nicer if you don't use the print() function.\n",
    "people"
   ]
  }
 ],
 "metadata": {
  "kernelspec": {
   "display_name": "Python 3 (ipykernel)",
   "language": "python",
   "name": "python3"
  },
  "language_info": {
   "codemirror_mode": {
    "name": "ipython",
    "version": 3
   },
   "file_extension": ".py",
   "mimetype": "text/x-python",
   "name": "python",
   "nbconvert_exporter": "python",
   "pygments_lexer": "ipython3",
   "version": "3.9.19"
  }
 },
 "nbformat": 4,
 "nbformat_minor": 5
}

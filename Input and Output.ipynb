{
 "cells": [
  {
   "cell_type": "markdown",
   "id": "fb85160d-7db3-4c54-95bf-79037a20776c",
   "metadata": {
    "tags": []
   },
   "source": [
    "# **Input and Output**"
   ]
  },
  {
   "cell_type": "markdown",
   "id": "0f56ba23-feae-4cbd-a7a7-590b673766a3",
   "metadata": {
    "tags": []
   },
   "source": [
    "## Output - The print() function"
   ]
  },
  {
   "cell_type": "markdown",
   "id": "7cd65e26-a55d-4da9-856c-d9c185499409",
   "metadata": {},
   "source": [
    "First, let's output a friendly greeting."
   ]
  },
  {
   "cell_type": "code",
   "execution_count": 3,
   "id": "df559955-4e70-466c-8b60-fd8acfb6c5ea",
   "metadata": {},
   "outputs": [
    {
     "name": "stdout",
     "output_type": "stream",
     "text": [
      "Nice to meet you!\n"
     ]
    }
   ],
   "source": [
    "# Store the message as a string.\n",
    "greeting = \"Nice to meet you!\"\n",
    "\n",
    "# Output the greeting.\n",
    "print(greeting)"
   ]
  },
  {
   "cell_type": "markdown",
   "id": "e7e74f1e-e5c3-470d-a42d-31195cab0133",
   "metadata": {},
   "source": [
    "This can also be done on one line, like so:"
   ]
  },
  {
   "cell_type": "code",
   "execution_count": 4,
   "id": "f414e4fd-08cd-4de1-bfaf-8a7c57634318",
   "metadata": {},
   "outputs": [
    {
     "name": "stdout",
     "output_type": "stream",
     "text": [
      "Nice to meet you!\n"
     ]
    }
   ],
   "source": [
    "print(\"Nice to meet you!\")"
   ]
  },
  {
   "cell_type": "markdown",
   "id": "fad2d223-1503-4701-a380-fe9630ca32b2",
   "metadata": {},
   "source": [
    "Now let's combine strings (called string concatenation) to output multiple variables together."
   ]
  },
  {
   "cell_type": "code",
   "execution_count": 8,
   "id": "8477c5a8-029d-45ab-9a64-c8788d817bf6",
   "metadata": {},
   "outputs": [
    {
     "name": "stdout",
     "output_type": "stream",
     "text": [
      "Hello, Finn!\n"
     ]
    }
   ],
   "source": [
    "# Pick a greeting. This can be Hello or Goodbye.\n",
    "greeting = \"Hello\"\n",
    "\n",
    "# Pick a person's name to greet.\n",
    "name = \"Finn\"\n",
    "\n",
    "# Using the + operator on strings connects them together! \n",
    "# Try changing the name or greeting to see that it still works.\n",
    "print(greeting + \", \" + name + \"!\")"
   ]
  },
  {
   "cell_type": "markdown",
   "id": "0461ddbb-0645-435b-9464-fc33f5f67e90",
   "metadata": {},
   "source": [
    "Great, works perfectly. But what if the variable contains a number?"
   ]
  },
  {
   "cell_type": "code",
   "execution_count": 9,
   "id": "e5bcb942-8248-4393-ac44-aadb7bf41be5",
   "metadata": {},
   "outputs": [
    {
     "ename": "TypeError",
     "evalue": "can only concatenate str (not \"int\") to str",
     "output_type": "error",
     "traceback": [
      "\u001b[1;31m---------------------------------------------------------------------------\u001b[0m",
      "\u001b[1;31mTypeError\u001b[0m                                 Traceback (most recent call last)",
      "\u001b[1;32m~\\AppData\\Local\\Temp\\ipykernel_15988\\362519407.py\u001b[0m in \u001b[0;36m<module>\u001b[1;34m\u001b[0m\n\u001b[0;32m      2\u001b[0m \u001b[0mage\u001b[0m \u001b[1;33m=\u001b[0m \u001b[1;36m24\u001b[0m\u001b[1;33m\u001b[0m\u001b[1;33m\u001b[0m\u001b[0m\n\u001b[0;32m      3\u001b[0m \u001b[1;33m\u001b[0m\u001b[0m\n\u001b[1;32m----> 4\u001b[1;33m \u001b[0mprint\u001b[0m\u001b[1;33m(\u001b[0m\u001b[0mname\u001b[0m \u001b[1;33m+\u001b[0m \u001b[1;34m\" is \"\u001b[0m \u001b[1;33m+\u001b[0m \u001b[0mage\u001b[0m \u001b[1;33m+\u001b[0m \u001b[1;34m\" years old.\"\u001b[0m\u001b[1;33m)\u001b[0m\u001b[1;33m\u001b[0m\u001b[1;33m\u001b[0m\u001b[0m\n\u001b[0m",
      "\u001b[1;31mTypeError\u001b[0m: can only concatenate str (not \"int\") to str"
     ]
    }
   ],
   "source": [
    "name = \"Sawyer\"\n",
    "age = 24\n",
    "\n",
    "print(name + \" is \" + age + \" years old.\")"
   ]
  },
  {
   "cell_type": "markdown",
   "id": "e31f4bdc-fa9a-49cb-8aa2-3d16434d7728",
   "metadata": {},
   "source": [
    "Uh oh! We have a problem. To understand the error, first check what line the error occured on. \n",
    "Here we can see an arrow pointing to line 4, so the error must be there!\n",
    "\n",
    "Underneath, it says the error message. In this case, it shows `TypeError: can only concatenate str (not \"int\") to str`.\n",
    "\n",
    "This is saying that the `type` (int, string, etc.) used here caused the error.\n",
    "Specifically, it says we can only concatenate str (not \"int\") to str. \n",
    "In this situation, we tried concatenating the str (string) in the `name` variable with the int (integer/whole number) stored in the `age` variable.\n",
    "\n",
    "To fix this, we can convert the int `24` into the string `\"24\"` to remove that issue. Changing the type of something is called Type Casting."
   ]
  },
  {
   "cell_type": "code",
   "execution_count": 20,
   "id": "da8b3762-5648-4d34-8dc6-2926e98e9986",
   "metadata": {},
   "outputs": [
    {
     "name": "stdout",
     "output_type": "stream",
     "text": [
      "Sawyer is 24 years old.\n"
     ]
    }
   ],
   "source": [
    "name = \"Sawyer\"\n",
    "age = 24\n",
    "\n",
    "# Try again to output the name and age, this time casting the int into a string.\n",
    "print(name + \" is \" + str(age) + \" years old.\")"
   ]
  },
  {
   "cell_type": "markdown",
   "id": "e34896f5-a1eb-44c9-bf01-82c2a287f7dd",
   "metadata": {},
   "source": [
    "Alternatively, this can be done more simply using f-strings (formatted strings). \n",
    "\n",
    "This is an easy way to create a string without needing to worry about variable types. It also doesn't use string concatenation (combining strings with pluses), so it is much easier to read and type!\n",
    "\n",
    "It can be done like so:"
   ]
  },
  {
   "cell_type": "code",
   "execution_count": 18,
   "id": "dfbb7566-5cc4-4d7f-8add-fd54db749e01",
   "metadata": {},
   "outputs": [
    {
     "name": "stdout",
     "output_type": "stream",
     "text": [
      "Sawyer is 24 years old.\n"
     ]
    }
   ],
   "source": [
    "name = \"Sawyer\"\n",
    "age = 24\n",
    "\n",
    "# Type f\" to start the f-string, then add all variables between curly brackets { }. \n",
    "# This technique keeps everything within a single string, so no extra quotes needed!\n",
    "print(f\"{name} is {age} years old.\")"
   ]
  },
  {
   "cell_type": "markdown",
   "id": "16bd2e9c-d034-4736-a06e-b8fdb9b63f5b",
   "metadata": {},
   "source": [
    "## Input - The input() function"
   ]
  },
  {
   "cell_type": "markdown",
   "id": "d9abc491-7e65-4103-b496-dc39540b8fa0",
   "metadata": {},
   "source": [
    "Now, what if we want to ask the user their name? For that, we need to take their name as input."
   ]
  },
  {
   "cell_type": "code",
   "execution_count": 26,
   "id": "5da88661-759c-4e87-9503-68f1cca36707",
   "metadata": {},
   "outputs": [
    {
     "name": "stdin",
     "output_type": "stream",
     "text": [
      "What is your name?: Jill\n"
     ]
    }
   ],
   "source": [
    "# Allow user to enter their name. Store it in the `name` variable.\n",
    "name = input(\"What is your name?:\")"
   ]
  },
  {
   "cell_type": "markdown",
   "id": "1ed5bf69-ec4b-46c0-b09e-e4be9f491aea",
   "metadata": {},
   "source": [
    "## Combining input and output"
   ]
  },
  {
   "cell_type": "markdown",
   "id": "eaef43f4-4479-497f-b613-252e0985a45a",
   "metadata": {},
   "source": [
    "Now that we have explored input and output, let's combine them together into a program!"
   ]
  },
  {
   "cell_type": "code",
   "execution_count": 27,
   "id": "6ed7f394-f4f3-4b2a-9088-ee9fa61b05fb",
   "metadata": {},
   "outputs": [
    {
     "name": "stdout",
     "output_type": "stream",
     "text": [
      "Hey, welcome to Python with Sawyer!\n"
     ]
    },
    {
     "name": "stdin",
     "output_type": "stream",
     "text": [
      "What's your name? Finn\n"
     ]
    },
    {
     "name": "stdout",
     "output_type": "stream",
     "text": [
      "Finn is a lovely name!\n"
     ]
    }
   ],
   "source": [
    "# Output a message to the user.\n",
    "print(\"Hey, welcome to Python with Sawyer!\")\n",
    "\n",
    "# Allow user to type their name and store the results.\n",
    "name = input(\"What's your name?\")\n",
    "\n",
    "# Now use the name they inputted to give them a complement. :)\n",
    "# Use f-strings for simplicity.\n",
    "print(f\"{name} is a lovely name!\")"
   ]
  },
  {
   "cell_type": "markdown",
   "id": "047963fb-4af0-4340-b16e-323a80cc47b5",
   "metadata": {},
   "source": [
    "Remember, the user can input whatever they want. Be careful not to make your output rely on a specific answer!"
   ]
  },
  {
   "cell_type": "code",
   "execution_count": 36,
   "id": "f8bfcfe5-4cae-44dd-966c-24b2e9de918c",
   "metadata": {},
   "outputs": [
    {
     "name": "stdin",
     "output_type": "stream",
     "text": [
      "What's your mood?: sad\n"
     ]
    },
    {
     "name": "stdout",
     "output_type": "stream",
     "text": [
      "Oh, your mood is sad? I'm so glad!\n"
     ]
    }
   ],
   "source": [
    "# Ask user for their mood and store it in the `mood` variable.\n",
    "mood = input(\"What's your mood?:\")\n",
    "\n",
    "# Don't do this unless you want to be a jerk to anyone sad!\n",
    "print(f\"Oh, your mood is {mood}? I'm so glad!\")"
   ]
  }
 ],
 "metadata": {
  "kernelspec": {
   "display_name": "Python 3 (ipykernel)",
   "language": "python",
   "name": "python3"
  },
  "language_info": {
   "codemirror_mode": {
    "name": "ipython",
    "version": 3
   },
   "file_extension": ".py",
   "mimetype": "text/x-python",
   "name": "python",
   "nbconvert_exporter": "python",
   "pygments_lexer": "ipython3",
   "version": "3.9.13"
  }
 },
 "nbformat": 4,
 "nbformat_minor": 5
}

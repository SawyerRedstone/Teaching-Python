{
 "cells": [
  {
   "cell_type": "markdown",
   "id": "45850adc-eee5-4524-8071-29f0f3efe410",
   "metadata": {},
   "source": [
    "# Objects"
   ]
  },
  {
   "cell_type": "markdown",
   "id": "94cf9269-5788-4600-abed-73041a926d2e",
   "metadata": {},
   "source": [
    "Python is an object-oriented programming (OOP) language. Everything in Python (apart from keywords like `if` and `def`) is an object. If you type the number 5 or the text \"hello\", both of those are creating an object. So what is an object?\n",
    "\n",
    "An object is something with attributes. These attributes include data about the object (such as their value and the type of object they are, like numbers or text) and things you can do with that object (such as whether you can add them together or find their length).\n",
    "\n",
    "Objects are stored in your computer's memory as a bunch of 0s and 1s. "
   ]
  },
  {
   "cell_type": "markdown",
   "id": "683cedfa-d0b4-4d1c-b401-3b6630ca5316",
   "metadata": {},
   "source": [
    "# Variables"
   ]
  },
  {
   "cell_type": "markdown",
   "id": "6b1b5224-265f-4293-9a4a-bdbf4424e4f2",
   "metadata": {},
   "source": [
    "Sometimes you'll want to reference the same object multiple times in your code. For this you need a **variable**. \n",
    "\n",
    "A variable points to an object's location in memory so that the computer can locate that data and use it at a later time. But that all happens behind the scenes; as a coder, you don't need to know the actual location in your computer's memory where the object is stored. Creating a variable is as simple as giving a name to an object. If your code needs to store someone's age, the object will be their age (say, 13), and you can make a variable store that information by typing this line of code: `age = 13`.\n",
    "\n",
    "That line creates the object 13 in the computer's memory and then creates a variables named `age` which points to that 13 in memory. \n",
    "\n",
    "The variable didn't have to be named `age`. If we wanted to specify that this is Bob's age (and not John or Stacy's age), we could have written the line as `bob_age = 13`. You as a coder can decide the best name for your variable. It should be a name that makes it clear what information the variable points to, since otherwise you (and anyone else working with your code) can easily get confused and not remember which variables store what information. When you create a variable, you must assign the variable an object to point at.\n",
    "\n",
    "There are certain rules for naming variables:\n",
    "\n",
    "1) A variable must start with a letter or underscore (`_`).\n",
    "2) A variable name can only contain letters, numbers, and underscores (`_`). They cannot contain spaces or other symbols.\n",
    "3) A variable cannot share a name with any built-in keywords in Python.\n",
    "\n",
    "Tip: when naming a variable that contains multiple words, it is recommended to name them using **snake_case** (also known as \"lower_case_with_underscores\"). snake_case is a style of naming variables where all words are lowercase and all spaces are replaced by underscores. For example, if you wanted a variable storing delicious foods, you'd name it `delicious_foods`.\n",
    "\n",
    "While it's generally recommended to name variables using snake_case, there is one notable exception: when working with a company, it is best to stay consistant with whatever style they use. For example, if they prefer to name variables using camelCase (first letter lowercase, then all future words beginning in a capital letter), you should copy their style and name your variable `deliciousFoods` instead.\n",
    "\n",
    "Below are some examples of creating variables:"
   ]
  },
  {
   "cell_type": "code",
   "execution_count": 5,
   "id": "da5dab75-2997-4ec2-a8dc-d6a16ca7db39",
   "metadata": {},
   "outputs": [],
   "source": [
    "# Assign a variable `is_happy` to True.\n",
    "is_happy = True\n",
    "\n",
    "# Assign the variable `name` to \"Sawyer\".\n",
    "name = \"Sawyer\"\n",
    "\n",
    "# Assign the variable `children` to a list of children's names.\n",
    "children = [\"John\", \"Bob\", \"Caleb\"]"
   ]
  },
  {
   "cell_type": "markdown",
   "id": "7fcad7ce-5da7-4fda-a7fd-cc48e90780c5",
   "metadata": {},
   "source": [
    "<!-- Since variables merely point to the object they are assigned to -->\n",
    "We can use the `is` operator to check if two variables are referencing the same object."
   ]
  },
  {
   "cell_type": "code",
   "execution_count": 6,
   "id": "d32ba7be-6e72-4dd5-8fed-8be3fe78d567",
   "metadata": {},
   "outputs": [
    {
     "name": "stdout",
     "output_type": "stream",
     "text": [
      "var1 points to the same object as var2: True\n"
     ]
    }
   ],
   "source": [
    "# Assign two variables to the same object.\n",
    "var1 = [1, 2, 3]\n",
    "var2 = var1\n",
    "\n",
    "# Confirm that both variables point to the same object.\n",
    "print(f\"var1 points to the same object as var2: {var1 is var2}\")"
   ]
  },
  {
   "cell_type": "markdown",
   "id": "73478e03-4f73-4a3d-932f-7631d80724e6",
   "metadata": {},
   "source": [
    "Likewise, we can use `is not` to check if two variables point to different objects."
   ]
  },
  {
   "cell_type": "code",
   "execution_count": 7,
   "id": "89c7a7a4-ed35-4b3c-be09-b84f76b4f22a",
   "metadata": {},
   "outputs": [
    {
     "name": "stdout",
     "output_type": "stream",
     "text": [
      "Does var3 point to the same object as var4?: False\n",
      "var3 points to a different object from var4: True\n"
     ]
    }
   ],
   "source": [
    "# Assign variables to two seperate objects.\n",
    "var3 = [1, 2, 3]\n",
    "var4 = [1, 2, 3]\n",
    "\n",
    "# Even though both objects look the same, they are stored on different parts of memory!\n",
    "print(f\"Does var3 point to the same object as var4?: {var3 is var4}\")\n",
    "print(f\"var3 points to a different object from var4: {var3 is not var4}\")"
   ]
  },
  {
   "cell_type": "markdown",
   "id": "17eb4324-d5ed-4143-8327-89c9d56e669c",
   "metadata": {
    "tags": []
   },
   "source": [
    "# Expressions"
   ]
  },
  {
   "cell_type": "markdown",
   "id": "a630198b-95c6-4d1e-87ac-51b3717abe16",
   "metadata": {},
   "source": [
    "An `expression` is a piece of code that evaluates to a single value. Below are some examples of expressions:\n",
    "| Expression       | Result   | \n",
    "|------------------|----------|\n",
    "| 5                | Evaluates to 5. | \n",
    "| x                | Evaluates to the value the variable `x` points at.|\n",
    "| 4 - 1            | Evaluates to 3.|\n",
    "| 2 < 5            | Evaluates to True.|\n",
    "| foo()            | Evaluates to the return value of the function foo().|\n",
    "\n",
    "Since expressions get evaluated to single values, we can use them anywhere a single value is allowed. \n",
    "\n",
    "For example, when you write the code `x = 3 + 1`, Python evaluates the expression `3 + 1` to 4 and then assigns the value 4 to x."
   ]
  },
  {
   "cell_type": "code",
   "execution_count": 8,
   "id": "cd925f1b-70be-4bf2-9f78-bbd44b24172f",
   "metadata": {},
   "outputs": [
    {
     "name": "stdout",
     "output_type": "stream",
     "text": [
      "True\n"
     ]
    }
   ],
   "source": [
    "# Exaluate the expression 23 > 9, then print the result.\n",
    "print(23 > 9)"
   ]
  },
  {
   "cell_type": "markdown",
   "id": "427c9c21-affe-4a2c-b56b-e5112296fbae",
   "metadata": {
    "tags": []
   },
   "source": [
    "# Object Types"
   ]
  },
  {
   "cell_type": "markdown",
   "id": "d90ff89b-651f-4670-8c4a-e48248781c31",
   "metadata": {},
   "source": [
    "As was mentioned earlier, we are constantly working with objects in Python (like numbers, text, lists, etc.). The objects's **type** (also called their **data type**) determines what we can do with that object. For example, we can multiply numbers like `3 * 5`, but we can't multiply text like `\"hello\" * \"goodbye\"`.\n",
    "\n",
    "We can check an object's type in Python by using the `type()` function. Let's go over some of the different data types in Python. "
   ]
  },
  {
   "cell_type": "markdown",
   "id": "fe655cd8",
   "metadata": {
    "tags": []
   },
   "source": [
    "## Numeric Object Types\n",
    "Python has two numeric object types: ints and floats."
   ]
  },
  {
   "cell_type": "markdown",
   "id": "2f5fcfff-4fb7-46d3-9425-369884dc713a",
   "metadata": {
    "tags": []
   },
   "source": [
    "### Integers (int)"
   ]
  },
  {
   "cell_type": "markdown",
   "id": "679d43ae-6852-4d87-8524-59811cd74b13",
   "metadata": {},
   "source": [
    "Integers (shortened to `int` in Python) are numbers without decimals. Some examples of ints are -12, 0, and 92. "
   ]
  },
  {
   "cell_type": "code",
   "execution_count": null,
   "id": "dd517713-4e28-4de0-80f0-361332365448",
   "metadata": {},
   "outputs": [],
   "source": [
    "# Use the type() function to see a value's data type.\n",
    "\n",
    "# Which of the following evaluate to type `int`? Uncomment one at a time:\n",
    "\n",
    "# print(type(4))\n",
    "# print(type(3.1))\n",
    "# print(type(\"42\"))\n",
    "# print(type(3 + 1))\n",
    "# print(type(int))\n",
    "# print(type(3.0))\n",
    "# print(type(4 * (2 - 1)))"
   ]
  },
  {
   "cell_type": "markdown",
   "id": "1441e01f-b368-4812-a3c4-30843bc7901c",
   "metadata": {
    "tags": []
   },
   "source": [
    "### Floats"
   ]
  },
  {
   "cell_type": "markdown",
   "id": "6851312c-4640-423a-bf81-23ca8521b5a1",
   "metadata": {},
   "source": [
    "Floats are numbers that contain decimals. For example, -2.3, 12.345, and 3.8."
   ]
  },
  {
   "cell_type": "code",
   "execution_count": null,
   "id": "756c49c6-c38b-4cc9-a998-377978cbe6d5",
   "metadata": {},
   "outputs": [],
   "source": [
    "# Which of the following evaluate to type `float`? Uncomment one at a time:\n",
    "\n",
    "# print(type(32.1))\n",
    "# print(type(4))\n",
    "# print(type(\"42.9\"))\n",
    "# print(type(2.0))\n",
    "# print(type(8.))\n",
    "# print(type(float))\n",
    "# print(type(.5))\n",
    "# print(type(5 / 2))"
   ]
  },
  {
   "cell_type": "markdown",
   "id": "dd9addfc-a49a-4fde-a55f-050c183b28c3",
   "metadata": {},
   "source": [
    "We can use the following operations on ints and floats to do calculations.\n",
    "\n",
    "| Operator   | Name           | Description                                       |\n",
    "|------------|----------------|---------------------------------------------------|\n",
    "| `a + b`    | Addition       | Sum of `a` and `b`                                |\n",
    "| `a - b`    | Subtraction    | Difference of `a` and `b`                         |\n",
    "| `a * b`    | Multiplication | Product of `a` and `b`                            |\n",
    "| `a / b`    | True division  | Quotient of `a` and `b`                           |\n",
    "| `a // b`   | Floor division | Quotient of `a` and `b`, removing fractional parts|\n",
    "| `a % b`    | Modulus        | Remainder after division of `a` by `b`            |\n",
    "| `a ** b`   | Exponentiation | `a` raised to the power of `b` (`a`<sup>`b`</sup>)|\n",
    "| `-a`       | Negation       | The negative of `a`                               |\n",
    "\n",
    "We can also use parentheses for grouping."
   ]
  },
  {
   "cell_type": "code",
   "execution_count": null,
   "id": "f846849a-7d5c-44c9-bd78-fe89277787fd",
   "metadata": {},
   "outputs": [],
   "source": [
    "# Uncomment the below code one line at a time.\n",
    "# print(1 + 2)\n",
    "# print(3 * 4.0)\n",
    "# print(1 + 3 * 4)\n",
    "# print((1 + 3) * 4)\n",
    "# print(2**3)\n",
    "# print(5 / 3)\n",
    "# print(5 // 3)\n",
    "# print(5 % 3)"
   ]
  },
  {
   "cell_type": "markdown",
   "id": "68feb975-6cdc-481a-9cb7-3a014ceddd26",
   "metadata": {
    "tags": []
   },
   "source": [
    "## Booleans (bool)"
   ]
  },
  {
   "cell_type": "markdown",
   "id": "01b5fe56-b197-4137-8843-49b899c24c35",
   "metadata": {},
   "source": [
    "Boolean (shortened to `bool` in Python) is the data type of the objects `True` and `False`."
   ]
  },
  {
   "cell_type": "code",
   "execution_count": null,
   "id": "67243c3b-d0a9-461d-8b23-7907e3dea184",
   "metadata": {},
   "outputs": [],
   "source": [
    "# Which of the following evaluate to type `bool`? Uncomment one at a time:\n",
    "\n",
    "# print(type(True))\n",
    "# print(type(3 + 4))\n",
    "# print(type(4 < 2))\n",
    "# print(type(False))\n",
    "# print(type(\"True\"))\n",
    "# print(type(true))"
   ]
  },
  {
   "cell_type": "markdown",
   "id": "fc67f449-a62a-440c-b964-7b81883c97a1",
   "metadata": {},
   "source": [
    "Using the word `not` before a boolean swaps its value. `not True` evaluates to False, and `not False` evaluates to True."
   ]
  },
  {
   "cell_type": "code",
   "execution_count": 9,
   "id": "92bfdf12-2856-4758-a925-49c02e68297f",
   "metadata": {},
   "outputs": [
    {
     "name": "stdout",
     "output_type": "stream",
     "text": [
      "False\n"
     ]
    }
   ],
   "source": [
    "print(not True)"
   ]
  },
  {
   "cell_type": "markdown",
   "id": "e17a832e-78e5-4d88-af1f-254c907bb540",
   "metadata": {},
   "source": [
    "## NoneType"
   ]
  },
  {
   "cell_type": "markdown",
   "id": "e36e6a68-edb0-4341-97f4-f3c3352b8380",
   "metadata": {},
   "source": [
    "NoneType is only the type of one object: `None`. There is only one `None` object, so all variables assigned to `None` points to the same object."
   ]
  },
  {
   "cell_type": "code",
   "execution_count": 23,
   "id": "ec0de2d0-2929-44d9-95c3-bf8aa8660f7d",
   "metadata": {},
   "outputs": [
    {
     "name": "stdout",
     "output_type": "stream",
     "text": [
      "<class 'NoneType'>\n",
      "True\n"
     ]
    }
   ],
   "source": [
    "a = None\n",
    "b = None\n",
    "\n",
    "# Check the type of `a`.\n",
    "print(type(a))\n",
    "\n",
    "# Confirm that both variables point to the same object.\n",
    "print(a is b)"
   ]
  },
  {
   "cell_type": "markdown",
   "id": "dc45077a-d10e-4f3c-b6a6-d19405e69147",
   "metadata": {
    "tags": []
   },
   "source": [
    "## Sequences"
   ]
  },
  {
   "cell_type": "markdown",
   "id": "d94cf915-7ed1-460d-a5c0-3d88129d1f9c",
   "metadata": {},
   "source": [
    "Sequences are objects that store ordered collections of data. Python has three main sequence data types: strings, lists, and tuples."
   ]
  },
  {
   "cell_type": "markdown",
   "id": "b2eb6018-d90c-428e-a155-31dcfae1ca56",
   "metadata": {
    "tags": []
   },
   "source": [
    "### Strings (str)"
   ]
  },
  {
   "cell_type": "markdown",
   "id": "7baa8892-7db2-4380-9b7c-b85a5f54ff30",
   "metadata": {},
   "source": [
    "Strings (shortened to `str` in Python) is the data type for text objects. Strings are surrounded by single or double quotes.\n",
    "\n",
    "Examples of strings include `'Hello'`, `\"I am 3!\"`, and even the empty string `\"\"`.\n",
    "\n",
    "A string is a sequence of characters. In the string `\"Hi Bye\"`, the first character in the sequence is `\"H\"`, the next is `\"i\"`, then `\" \"`, then `\"B\"`, up until the final character in the sequence, `\"e\"`."
   ]
  },
  {
   "cell_type": "code",
   "execution_count": null,
   "id": "51a3ecbb-a710-41c2-9e26-0b0516dca5eb",
   "metadata": {},
   "outputs": [],
   "source": [
    "# Which of the following evaluate to type `str`? Uncomment one at a time:\n",
    "# print(type(\"I'm batman.\"))\n",
    "# print(type(hello))\n",
    "# print(type(\"\"))\n",
    "# print(type(\"True\"))\n",
    "# print(type('hi'))\n",
    "# print(type(\"3\"))"
   ]
  },
  {
   "cell_type": "markdown",
   "id": "7c13a369",
   "metadata": {},
   "source": [
    "### Lists"
   ]
  },
  {
   "cell_type": "markdown",
   "id": "f37d41f3",
   "metadata": {},
   "source": [
    "A list is an object that can store multiple objects within it. The objects within a list are written between square brackets (`[` and `]`) and are seperated by commas.\n",
    " \n",
    "Examples of lists include `[1, 2, 3, 2]`, `[True, True, False]`, `[\"happy\", \"sad\", \"indifferent\"]`, and even the empty list `[]`. \n",
    "\n",
    "Lists can even have lists inside of them! `[[1, 2, 3], [4. 5, 6]]` is a list where the first element is `[1, 2, 3]` and the second element is `[4, 5, 6]`."
   ]
  },
  {
   "cell_type": "code",
   "execution_count": null,
   "id": "74f3031a",
   "metadata": {},
   "outputs": [],
   "source": [
    "# Which of the following evaluate to type `list`? Uncomment one at a time:\n",
    "\n",
    "# print(type([3, 54, 1, 23, 2]))\n",
    "# print(type([]))\n",
    "# print(type(\"[2, 1]\"))\n",
    "# print(type(2, 3))\n",
    "# print(type([True]))\n",
    "# print(type([2, \"banana\", 3.2, True]))\n",
    "# print(type([[1, 2], [2, 4], [\"apple\"]]))"
   ]
  },
  {
   "cell_type": "markdown",
   "id": "5548644a",
   "metadata": {},
   "source": [
    "Lists are mutable, which means they can be modified after creating them. For example, we can use the method* `.append()` to add an item to a list, and the method `.pop()` to remove the last item in a list.\n",
    "\n",
    "*A **method** is a function that only works with a specific object type. ints, strings, lists, etc., all contain several methods you can use with them."
   ]
  },
  {
   "cell_type": "code",
   "execution_count": null,
   "id": "e9c10ada",
   "metadata": {},
   "outputs": [],
   "source": [
    "# Create a list and display it.\n",
    "example = [1, 2, 3]\n",
    "print(example)\n",
    "\n",
    "# Attach the object 4 to the end of the list and display it.\n",
    "example.append(4)\n",
    "print(example)\n",
    "\n",
    "# Remove the last element from the list and display result.\n",
    "example.pop()\n",
    "print(example)"
   ]
  },
  {
   "cell_type": "markdown",
   "id": "1f687f59",
   "metadata": {},
   "source": [
    "### Tuples"
   ]
  },
  {
   "cell_type": "markdown",
   "id": "f284f0d5",
   "metadata": {},
   "source": [
    "Tuples are very similar to lists, but they are immutable. This means that they cannot be changed after creation. Tuples are created in parentheses instead of square brackets."
   ]
  },
  {
   "cell_type": "code",
   "execution_count": null,
   "id": "5d559233",
   "metadata": {},
   "outputs": [],
   "source": [
    "tuple_example = (1, 2, 3)\n",
    "print(tuple_example)"
   ]
  },
  {
   "cell_type": "markdown",
   "id": "9b361794-e238-47dc-ade4-cd509031fcdc",
   "metadata": {
    "tags": []
   },
   "source": [
    "### Sequence Features\n",
    "<!-- Sequences  -->\n",
    "<!-- All sequence objects can be indexed and sliced. -->\n",
    "\n",
    "Sequences in Python are zero-indexed, which means that the first element is at index 0, the second element at index 1, etc.\n",
    "\n",
    "For example, in the string `\"Sawyer\"`, the character \"S\" is at index 0, the character \"a\" is at index 1, and the character \"y\" is at index 3.\n",
    "Likewise, in the list `[\"Hello\", \"Goodbye\", \"See ya\"]`, \"Hello\" (the list's first element) is at index 0, \"Goodbye\" is at index 1, and \"See ya\" is at index 2.\n",
    "\n",
    "<!-- . For example, `\"Sawyer\"[0]` corresponds to \"S\", `\"Sawyer\"[1]` corresponds to \"a\", and so on. -->\n",
    "\n",
    "Here are some things you can do with all sequence data types:"
   ]
  },
  {
   "cell_type": "markdown",
   "id": "4a7d75be-509d-4696-949d-20586e28064e",
   "metadata": {},
   "source": [
    "#### Indexing\n",
    "\n",
    "To access an element of a sequence at a given index, we can put the index between square brackets (`[`, `]`), like so:\n",
    "\n",
    "<!-- We can access the element\n",
    "\n",
    "individual elements in a sequence by using square brackets (`[`, `]`) with an index inside.\n",
    "\n",
    "<!--  \n",
    "\n",
    "Sequences in Python are zero-indexed, which means that the first element is at index 0. For example, \"Sawyer\"[0] corresponds to \"S\", \"Sawyer\"[1] corresponds to \"a\", and so on. -->"
   ]
  },
  {
   "cell_type": "code",
   "execution_count": null,
   "id": "dd64ea76-a863-4551-91f0-7d1576c6dd8b",
   "metadata": {},
   "outputs": [],
   "source": [
    "# Display the element at index 0 in a string.\n",
    "print(\"Hello, class!\"[0])\n",
    "\n",
    "# Display the element at index 3 in a list.\n",
    "print([12, 3, 4, 9][3])\n",
    "\n",
    "# Display the element at index 2 in a tuple.\n",
    "print((True, True, False)[2])"
   ]
  },
  {
   "cell_type": "markdown",
   "id": "00ee4466-7a45-47a5-a904-a767b9772518",
   "metadata": {},
   "source": [
    "If we want to access a number from the end of a sequence instead, we can use a negative number. Indexing with `[-1]` accesses the final element in the sequence, `[-2]` accesses the second to last, and so on.\n",
    "\n",
    "<!-- We can also use negati -->\n",
    "\n",
    "<!-- If we want to access a number from the end of a sequence instead, we can use negative indexing. The last element in a sequence is at index -1 -->\n",
    "\n",
    "<!-- Indexing with a negative number finds the element  -->"
   ]
  },
  {
   "cell_type": "code",
   "execution_count": null,
   "id": "32f34d81-6fc8-4759-912c-e87c524052bf",
   "metadata": {},
   "outputs": [],
   "source": [
    "# Display the last element in the string.\n",
    "print(\"How are you?\"[-1])\n",
    "\n",
    "# Display the second to last element in a list.\n",
    "print([\"blue\", \"green\", \"purple\", \"orange\", \"silver\"][-2])\n",
    "\n",
    "# Display the third to last element in a tuple.\n",
    "print((\"hi\", \"bye\", \"hello\", \"how are you?\", \"Sup?\", \"Nice to meet you!\", \"Howdy\")[-3])"
   ]
  },
  {
   "cell_type": "markdown",
   "id": "bbb67d84-0f17-4362-926f-3c5369f89df5",
   "metadata": {},
   "source": [
    "Try to guess what the following examples will display, then uncomment them one at a time to see if your guess was correct."
   ]
  },
  {
   "cell_type": "code",
   "execution_count": null,
   "id": "1d151901-3e9b-4302-9340-18aef98f2751",
   "metadata": {},
   "outputs": [],
   "source": [
    "example_string = \"Hello there!\"\n",
    "\n",
    "# Uncomment one at a time and guess what will get printed.\n",
    "# print(example_string[0])    # Access the first character in the string.\n",
    "# print(example_string[1])\n",
    "# print(example_string[2])\n",
    "# print(example_string[6])\n",
    "# print(example_string[-1])\n",
    "# print(\"What's your name?\"[2])\n",
    "# print(\"How are you?\"[-2])\n",
    "\n",
    "\n",
    "example_list = [1, 4, 3, 8, 12]\n",
    "# print(example_list[0])\n",
    "# print(example_list[2])\n",
    "# print([\"happy\", \"sad\", \"angry\", \"blissful\"][-1])\n",
    "# print(example_list[-2])\n",
    "\n",
    "\n",
    "example_tuple = (\"run\", \"jump\", \"eat\", \"play\")\n",
    "# print(example_tuple[1])\n",
    "# print(example_tuple[-2])\n",
    "\n",
    "\n",
    "# For a more complicated example, let's try with a list that contains lists inside it.\n",
    "nested_list = [[1, 2], [3, 4], [5, 6], [7, 8]]\n",
    "# print(nested_list[1])\n",
    "# print(nested_list[-1])\n",
    "# print([[\"hi\", \"bye\"], [True], [43, 108, 2, 4, 5]][0])"
   ]
  },
  {
   "cell_type": "markdown",
   "id": "fbd4c4ac-8e5f-494d-9621-6cd1f594ca71",
   "metadata": {},
   "source": [
    "As was mentioned before, lists are mutable, which means they can be changed after creation. One way a list can be mutated (changed) is through indexing, as demonstrated below.\n",
    "\n",
    "\n",
    "<!-- item assignment, where you set the item at a given index to a new item. -->\n",
    "\n"
   ]
  },
  {
   "cell_type": "code",
   "execution_count": 10,
   "id": "e94c8d65-443d-4b50-a39a-b0bec7580a4a",
   "metadata": {},
   "outputs": [
    {
     "name": "stdout",
     "output_type": "stream",
     "text": [
      "[1, 2, 3, 4, 5]\n",
      "['Hello', 2, 3, 4, 5]\n",
      "['Hello', 2, True, 4, 5]\n"
     ]
    }
   ],
   "source": [
    "# Create a list and display it.\n",
    "example_list = [1, 2, 3, 4, 5]\n",
    "print(example_list)\n",
    "\n",
    "# Now change the element at index 0 to the string \"Hello\".\n",
    "example_list[0] = \"Hello\"\n",
    "print(example_list)\n",
    "\n",
    "# Now change the element at index 2 to the boolean value True.\n",
    "example_list[2] = True\n",
    "print(example_list)"
   ]
  },
  {
   "cell_type": "markdown",
   "id": "7fdc242b-d08b-4d53-846c-118e009294ea",
   "metadata": {},
   "source": [
    "Changing the items in a list this way is called item assignment, as we are assigning a new item to the chosen index. Since strings and tuples are immutable, trying to assign an item to them causes an error message."
   ]
  },
  {
   "cell_type": "code",
   "execution_count": 12,
   "id": "6f53658f-7d28-43d1-bc53-658e1a39ae9b",
   "metadata": {},
   "outputs": [
    {
     "ename": "TypeError",
     "evalue": "'str' object does not support item assignment",
     "output_type": "error",
     "traceback": [
      "\u001b[1;31m---------------------------------------------------------------------------\u001b[0m",
      "\u001b[1;31mTypeError\u001b[0m                                 Traceback (most recent call last)",
      "Cell \u001b[1;32mIn[12], line 3\u001b[0m\n\u001b[0;32m      1\u001b[0m example_string \u001b[38;5;241m=\u001b[39m \u001b[38;5;124m\"\u001b[39m\u001b[38;5;124mHello\u001b[39m\u001b[38;5;124m\"\u001b[39m\n\u001b[0;32m      2\u001b[0m \u001b[38;5;66;03m# Try to change the H into a B.\u001b[39;00m\n\u001b[1;32m----> 3\u001b[0m example_string[\u001b[38;5;241m0\u001b[39m] \u001b[38;5;241m=\u001b[39m \u001b[38;5;124m\"\u001b[39m\u001b[38;5;124mB\u001b[39m\u001b[38;5;124m\"\u001b[39m\n",
      "\u001b[1;31mTypeError\u001b[0m: 'str' object does not support item assignment"
     ]
    }
   ],
   "source": [
    "example_string = \"Hello\"\n",
    "# Try to change the H into a B.\n",
    "example_string[0] = \"B\""
   ]
  },
  {
   "cell_type": "markdown",
   "id": "a93c6587-a5fd-45aa-b054-5b909d133dce",
   "metadata": {
    "tags": []
   },
   "source": [
    "#### Slicing\n",
    "Whereas indexing only accesses one element of a sequence at a time, we can use slicing to access several at once. Slices are written in the form of `sequence_name[starting_index:index_to_end_before]`. For example, if you wanted to get a slice of the string \"How are you\" starting at index 1 (inclusive) and ending at index 3 (exclusive), you'd type `\"How are you\"[1:3]`.\n",
    "\n",
    "Below are some examples of slicing.\n",
    "\n",
    "<!-- Making a copy of part of a sequence is called **slicing**.  -->"
   ]
  },
  {
   "cell_type": "code",
   "execution_count": 13,
   "id": "d96d875e-2023-45f9-bfa3-8c771cc4d52c",
   "metadata": {},
   "outputs": [
    {
     "name": "stdout",
     "output_type": "stream",
     "text": [
      "ello th\n",
      "[3, 4]\n",
      "Hope you\n",
      "'re feeling okay.\n"
     ]
    }
   ],
   "source": [
    "# Access all elements of a string starting at index 1 and ending before index 8.\n",
    "print(\"Hello there.\"[1:8])\n",
    "\n",
    "# Access all elements of a list starting from index 2 and ending before index 4.\n",
    "print([1, 2, 3, 4, 5, 6][2:4])\n",
    "\n",
    "# We can leave out the number before the colon to make the starting index default to 0.\n",
    "print(\"Hope you're feeling okay.\"[:8])\n",
    "\n",
    "# Leaving out the number after the colon makes the slice end at the end of the sequence.\n",
    "print(\"Hope you're feeling okay.\"[8:])"
   ]
  },
  {
   "cell_type": "markdown",
   "id": "be47a899-5551-4353-9b87-2c4c33556fb9",
   "metadata": {},
   "source": [
    "## Other Collections\n",
    "Sequences are ordered collections of data, which allows them to be accessed by their index. However, not all collection type objects can be accessed by their index. Some data types don't store an order at all. Two examples of unordered collections are sets and dictionaries.\n",
    "<!-- \n",
    "When you create a string, for example, the characters are all order\n",
    "\n",
    "\n",
    "order of the characters \n",
    "\n",
    "order you originally type the characters in is \n",
    "Dictionaries (dict) -->"
   ]
  },
  {
   "cell_type": "markdown",
   "id": "be06644d-b394-4f6f-a3b3-c7a208327cb0",
   "metadata": {},
   "source": [
    "### Sets"
   ]
  },
  {
   "cell_type": "markdown",
   "id": "3df08848-f169-490c-ba21-1d2b6bd21ab2",
   "metadata": {},
   "source": [
    "Similarly to lists and tuples, a set is an object that can store multiple objects within it. However, objects in sets must be immutable. The objects within a set are written between curly brackets (`{` and `}`) and are seperated by commas.\n",
    "\n",
    "Sets are unordered, which means that the order you type the elements in doesn't matter. They also do not contain any duplicates, so even if you add the same element several times, it will only be stored once in the set.\n",
    "<!-- \n",
    "\n",
    "\n",
    "A set is an unordered collection which contains no duplicates. Sets are created by typing the objects they contain seperated by commas within curly braces,\n",
    "\n",
    "A list is an object that can store multiple objects within it. The objects within a list are written between square brackets ([ and ]) and are seperated by commas. -->"
   ]
  },
  {
   "cell_type": "code",
   "execution_count": 14,
   "id": "1eec5187-8882-4b13-af30-4917a7bd1f88",
   "metadata": {},
   "outputs": [
    {
     "name": "stdout",
     "output_type": "stream",
     "text": [
      "{1, 2, 3}\n"
     ]
    }
   ],
   "source": [
    "# Create a set with duplicates.\n",
    "example_set = {2, 2, 1, 3}\n",
    "# Print the set. Note how the order changed and all duplicates were removed.\n",
    "print(example_set)"
   ]
  },
  {
   "cell_type": "markdown",
   "id": "8b326cf0-8990-45d4-bba4-14298203cd7b",
   "metadata": {},
   "source": [
    "### Dictionaries (dict)"
   ]
  },
  {
   "cell_type": "markdown",
   "id": "b78fc23b-5044-4e3f-8ef2-1e26ff7d448f",
   "metadata": {},
   "source": [
    "A dictionary (shortened to `dict` in Python) is an object type that stores data in key:value pairs.\n",
    "\n",
    "<!-- \n",
    "Much like you can get the value at index 0 of a string  -->\n",
    "\n",
    "Similarly to sets, dictionary values are written within curly brackets (`{`, `}`), but unlike sets, everything in a dictionary contains both a key and a value, seperated by a colon.\n",
    "\n",
    "Their keys work similarly to indices in sequences and cannot contain duplicates.\n",
    "\n",
    "<!-- A dictionary's  -->\n",
    "<!-- Their keys work similarly to indexes in sequences. -->"
   ]
  },
  {
   "cell_type": "code",
   "execution_count": 15,
   "id": "7d296ec4-7b8b-4b08-bc58-ac24cac23df6",
   "metadata": {},
   "outputs": [
    {
     "name": "stdout",
     "output_type": "stream",
     "text": [
      "black\n",
      "24\n"
     ]
    }
   ],
   "source": [
    "person_info = {\"name\": \"Sawyer\", \"age\": 24, \"favorite color\": \"black\"}\n",
    "\n",
    "# Use a key to access the value it is paired with.\n",
    "print(person_info[\"favorite color\"])\n",
    "print(person_info[\"age\"])"
   ]
  },
  {
   "cell_type": "markdown",
   "id": "55e52eb5-f5f5-4868-a99d-cde4a4c8225b",
   "metadata": {},
   "source": [
    "Let's try using a dictionary to send a hidden message!"
   ]
  },
  {
   "cell_type": "code",
   "execution_count": 16,
   "id": "ddf3011d-2aaa-48e6-a793-b97602a93a8a",
   "metadata": {},
   "outputs": [
    {
     "name": "stdout",
     "output_type": "stream",
     "text": [
      "H\n",
      "e\n",
      "l\n",
      "l\n",
      "o\n"
     ]
    }
   ],
   "source": [
    "# Create a dictionary where the keys are numbers and the values are the letters they secretly mean.\n",
    "secret_message_dict = {18: \"o\", 1: \"H\", 22: \"r\", 5: \"l\", 23: \"e\", 42: \"x\"}\n",
    "\n",
    "hidden_message = [1, 23, 5, 5, 18]\n",
    "\n",
    "# loop through the hidden message, using the dictionary to find the letter each number turns into.\n",
    "for num in hidden_message:\n",
    "    # Display each hidden letter as we find them out.\n",
    "    print(secret_message_dict[num])"
   ]
  },
  {
   "cell_type": "markdown",
   "id": "2cde176d-40ea-42f4-828b-de0b1bef1dba",
   "metadata": {},
   "source": [
    "We can get the length of all collection objects with the `len()` function. \n",
    "\n",
    "The `len()` function returns the number of items the collection contains. In the case of a dictionary, the function returns how many keys it contains. Note that sets remove duplicates, so adding the same element multiple times to a set will not increase the set's length."
   ]
  },
  {
   "cell_type": "code",
   "execution_count": 17,
   "id": "d1c6bf4c-2334-4ca3-b0b7-0803a416e1d5",
   "metadata": {},
   "outputs": [],
   "source": [
    "# Print the length of strings. Uncomment one at a time:\n",
    "# print(len(\"hello\"))\n",
    "# print(len(\"How are you?\"))\n",
    "\n",
    "# Print the length of lists. Uncomment one at a time:\n",
    "# print(len([1, 2, 3]))\n",
    "# print(len([[1, 2], [3, 4], [5, 6]]))\n",
    "# print(len([1, 2, 1, 3]))\n",
    "\n",
    "\n",
    "# Print the length of tuples. Uncomment one at a time:\n",
    "# print(len((\"Hello\", \"Bye\")))\n",
    "# print(len((\"I'm Bob\", \"I'm Tim\", \"I'm Jimmy\")))\n",
    "\n",
    "# Print the length of sets. Uncomment one at a time:\n",
    "# print(len({2, 4, 5}))\n",
    "# print(len({4, 5, 1, 2, 1}))  \n",
    "\n",
    "# Print the length of dicts. Uncomment one at a time:\n",
    "# print(len({\"hour\": 2, \"minute\": 52, \"second\": 40}))\n",
    "# print(len({\"animal\": \"jellyfish\", \"fruit\": \"apple\", \"number\": 8}))"
   ]
  }
 ],
 "metadata": {
  "kernelspec": {
   "display_name": "Python 3 (ipykernel)",
   "language": "python",
   "name": "python3"
  },
  "language_info": {
   "codemirror_mode": {
    "name": "ipython",
    "version": 3
   },
   "file_extension": ".py",
   "mimetype": "text/x-python",
   "name": "python",
   "nbconvert_exporter": "python",
   "pygments_lexer": "ipython3",
   "version": "3.9.19"
  }
 },
 "nbformat": 4,
 "nbformat_minor": 5
}

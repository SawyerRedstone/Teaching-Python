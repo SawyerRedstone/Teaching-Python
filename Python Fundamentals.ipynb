{
 "cells": [
  {
   "cell_type": "markdown",
   "id": "45850adc-eee5-4524-8071-29f0f3efe410",
   "metadata": {},
   "source": [
    "# Objects"
   ]
  },
  {
   "cell_type": "markdown",
   "id": "94cf9269-5788-4600-abed-73041a926d2e",
   "metadata": {},
   "source": [
    "Python is an object-oriented programming (OOP) language. Everything in Python (apart from keywords like `if` and `def`) is an object. If you type the number 5, the text \"hello\", or define a functions, all of those are creating an object. So what is an object?\n",
    "\n",
    "An object is something with attributes. These attributes include data about the object (such as their value and the type of object they are, like numbers or text) and things you can do with that object (such as whether you can add them together or find their length).\n",
    "\n",
    "The syntax to access an object's attributes is `object_name.attribute_name`. Attributes that do things with the object are called `methods`, and must be followed by parentheses, like so: `object_name.method_name()`.\n",
    "\n",
    "Objects are stored in your computer's memory as a bunch of 0s and 1s. "
   ]
  },
  {
   "cell_type": "markdown",
   "id": "683cedfa-d0b4-4d1c-b401-3b6630ca5316",
   "metadata": {},
   "source": [
    "# Variables"
   ]
  },
  {
   "cell_type": "markdown",
   "id": "6b1b5224-265f-4293-9a4a-bdbf4424e4f2",
   "metadata": {},
   "source": [
    "Sometimes you'll want to reference the same object multiple times in your code. For this you need a **variable**. \n",
    "\n",
    "A variable points to an object's location in memory so that the computer can locate that data and use it at a later time. But that all happens behind the scenes; as a coder, you don't need to know the actual location in your computer's memory where the object is stored. Creating a variable is as simple as giving a name to an object. If your code needs to store someone's age, the object will be their age (say, 13), and you can make a variable store that information by typing this line of code: `age = 13`.\n",
    "\n",
    "That line creates the object 13 in the computer's memory and then creates a variables named `age` which points to that 13 in memory. \n",
    "\n",
    "The variable didn't have to be named `age`. If we wanted to specify that this is Bob's age (and not John or Stacy's age), we could have written the line as `bob_age = 13`. You as a coder can decide the best name for your variable. It should be a name that makes it clear what information the variable points to, since otherwise you (and anyone else working with your code) can easily get confused and not remember which variables store what information. When you create a variable, you must assign the variable an object to point at.\n",
    "\n",
    "There are certain rules for naming variables:\n",
    "\n",
    "1) A variable must start with a letter or underscore (`_`).\n",
    "2) A variable name can only contain letters, numbers, and underscores (`_`). They cannot contain spaces or other symbols.\n",
    "3) A variable cannot share a name with any built-in keywords in Python.\n",
    "\n",
    "Tip: when naming a variable that contains multiple words, it is recommended to name them using **snake_case** (also known as \"lower_case_with_underscores\"). snake_case is a style of naming variables where all words are lowercase and all spaces are replaced by underscores. For example, if you wanted a variable storing delicious foods, you'd name it `delicious_foods`.\n",
    "\n",
    "While it's generally recommended to name variables using snake_case, there is one notable exception: when working with a company, it is best to stay consistant with whatever style they use. For example, if they prefer to name variables using camelCase (first letter lowercase, then all future words beginning in a capital letter), you should copy their style and name your variable `deliciousFoods` instead.\n",
    "\n",
    "Below are some examples of creating variables:"
   ]
  },
  {
   "cell_type": "code",
   "execution_count": 1,
   "id": "da5dab75-2997-4ec2-a8dc-d6a16ca7db39",
   "metadata": {},
   "outputs": [],
   "source": [
    "# Assign a variable `is_happy` to True.\n",
    "is_happy = True\n",
    "\n",
    "# Assign the variable `name` to \"Sawyer\".\n",
    "name = \"Sawyer\"\n",
    "\n",
    "# Assign the variable `children` to a list of children's names.\n",
    "children = [\"John\", \"Bob\", \"Caleb\"]"
   ]
  },
  {
   "cell_type": "markdown",
   "id": "7fcad7ce-5da7-4fda-a7fd-cc48e90780c5",
   "metadata": {},
   "source": [
    "<!-- Since variables merely point to the object they are assigned to -->\n",
    "We can use the `is` operator to check if two variables are referencing the same object."
   ]
  },
  {
   "cell_type": "code",
   "execution_count": 2,
   "id": "d32ba7be-6e72-4dd5-8fed-8be3fe78d567",
   "metadata": {},
   "outputs": [
    {
     "name": "stdout",
     "output_type": "stream",
     "text": [
      "var1 points to the same object as var2: True\n"
     ]
    }
   ],
   "source": [
    "# Assign two variables to the same object.\n",
    "var1 = [1, 2, 3]\n",
    "var2 = var1\n",
    "\n",
    "# Confirm that both variables point to the same object.\n",
    "print(f\"var1 points to the same object as var2: {var1 is var2}\")"
   ]
  },
  {
   "cell_type": "markdown",
   "id": "73478e03-4f73-4a3d-932f-7631d80724e6",
   "metadata": {},
   "source": [
    "Likewise, we can use `is not` to check if two variables point to different objects."
   ]
  },
  {
   "cell_type": "code",
   "execution_count": 3,
   "id": "89c7a7a4-ed35-4b3c-be09-b84f76b4f22a",
   "metadata": {},
   "outputs": [
    {
     "name": "stdout",
     "output_type": "stream",
     "text": [
      "Does var3 point to the same object as var4?: False\n",
      "var3 points to a different object from var4: True\n"
     ]
    }
   ],
   "source": [
    "# Assign variables to two seperate objects.\n",
    "var3 = [1, 2, 3]\n",
    "var4 = [1, 2, 3]\n",
    "\n",
    "# Even though both objects look the same, they are stored on different parts of memory!\n",
    "print(f\"Does var3 point to the same object as var4?: {var3 is var4}\")\n",
    "print(f\"var3 points to a different object from var4: {var3 is not var4}\")"
   ]
  },
  {
   "cell_type": "markdown",
   "id": "17eb4324-d5ed-4143-8327-89c9d56e669c",
   "metadata": {
    "tags": []
   },
   "source": [
    "# Expressions"
   ]
  },
  {
   "cell_type": "markdown",
   "id": "a630198b-95c6-4d1e-87ac-51b3717abe16",
   "metadata": {},
   "source": [
    "An `expression` is a piece of code that evaluates to a single value. Below are some examples of expressions:\n",
    "| Expression       | Result   | \n",
    "|------------------|----------|\n",
    "| 5                | Evaluates to 5. | \n",
    "| x                | Evaluates to the value the variable `x` points at.|\n",
    "| 4 - 1            | Evaluates to 3.|\n",
    "| 2 < 5            | Evaluates to True.|\n",
    "| foo()            | Evaluates to the return value of the function foo().|\n",
    "\n",
    "Since expressions get evaluated to single values, we can use them anywhere a single value is allowed. \n",
    "\n",
    "For example, when you write the code `x = 3 + 1`, Python evaluates the expression `3 + 1` to 4 and then assigns the value 4 to x."
   ]
  },
  {
   "cell_type": "code",
   "execution_count": 4,
   "id": "cd925f1b-70be-4bf2-9f78-bbd44b24172f",
   "metadata": {},
   "outputs": [
    {
     "name": "stdout",
     "output_type": "stream",
     "text": [
      "True\n"
     ]
    }
   ],
   "source": [
    "# Exaluate the expression 23 > 9, then print the result.\n",
    "print(23 > 9)"
   ]
  },
  {
   "cell_type": "markdown",
   "id": "427c9c21-affe-4a2c-b56b-e5112296fbae",
   "metadata": {
    "tags": []
   },
   "source": [
    "# Object Types"
   ]
  },
  {
   "cell_type": "markdown",
   "id": "d90ff89b-651f-4670-8c4a-e48248781c31",
   "metadata": {},
   "source": [
    "As was mentioned earlier, we are constantly working with objects in Python (like numbers, text, lists, etc.). The objects's **type** (also called their **data type**) determines what we can do with that object. For example, we can multiply numbers like `3 * 5`, but we can't multiply text like `\"hello\" * \"goodbye\"`.\n",
    "\n",
    "We can check an object's type in Python by using the `type()` function. Let's go over some of the different data types in Python. "
   ]
  },
  {
   "cell_type": "markdown",
   "id": "fe655cd8",
   "metadata": {
    "tags": []
   },
   "source": [
    "## Numeric Object Types\n",
    "Python has two numeric object types: ints and floats."
   ]
  },
  {
   "cell_type": "markdown",
   "id": "2f5fcfff-4fb7-46d3-9425-369884dc713a",
   "metadata": {
    "tags": []
   },
   "source": [
    "### Integers (int)"
   ]
  },
  {
   "cell_type": "markdown",
   "id": "679d43ae-6852-4d87-8524-59811cd74b13",
   "metadata": {},
   "source": [
    "Integers (shortened to `int` in Python) are numbers without decimals. Some examples of ints are -12, 0, and 92. "
   ]
  },
  {
   "cell_type": "code",
   "execution_count": 5,
   "id": "dd517713-4e28-4de0-80f0-361332365448",
   "metadata": {},
   "outputs": [],
   "source": [
    "# Use the type() function to see a value's data type.\n",
    "\n",
    "# Which of the following evaluate to type `int`? Uncomment one at a time:\n",
    "\n",
    "# print(type(4))\n",
    "# print(type(3.1))\n",
    "# print(type(\"42\"))\n",
    "# print(type(3 + 1))\n",
    "# print(type(int))\n",
    "# print(type(3.0))\n",
    "# print(type(4 * (2 - 1)))"
   ]
  },
  {
   "cell_type": "markdown",
   "id": "1441e01f-b368-4812-a3c4-30843bc7901c",
   "metadata": {
    "tags": []
   },
   "source": [
    "### Floats"
   ]
  },
  {
   "cell_type": "markdown",
   "id": "6851312c-4640-423a-bf81-23ca8521b5a1",
   "metadata": {},
   "source": [
    "Floats are numbers that contain decimals. For example, -2.3, 12.345, and 3.8."
   ]
  },
  {
   "cell_type": "code",
   "execution_count": 6,
   "id": "756c49c6-c38b-4cc9-a998-377978cbe6d5",
   "metadata": {},
   "outputs": [],
   "source": [
    "# Which of the following evaluate to type `float`? Uncomment one at a time:\n",
    "\n",
    "# print(type(32.1))\n",
    "# print(type(4))\n",
    "# print(type(\"42.9\"))\n",
    "# print(type(2.0))\n",
    "# print(type(8.))\n",
    "# print(type(float))\n",
    "# print(type(.5))\n",
    "# print(type(5 / 2))"
   ]
  },
  {
   "cell_type": "markdown",
   "id": "dd9addfc-a49a-4fde-a55f-050c183b28c3",
   "metadata": {},
   "source": [
    "We can use the following operations on ints and floats to do calculations.\n",
    "\n",
    "| Operator   | Name           | Description                                       |\n",
    "|------------|----------------|---------------------------------------------------|\n",
    "| `a + b`    | Addition       | Sum of `a` and `b`                                |\n",
    "| `a - b`    | Subtraction    | Difference of `a` and `b`                         |\n",
    "| `a * b`    | Multiplication | Product of `a` and `b`                            |\n",
    "| `a / b`    | True division  | Quotient of `a` and `b`                           |\n",
    "| `a // b`   | Floor division | Quotient of `a` and `b`, removing fractional parts|\n",
    "| `a % b`    | Modulus        | Remainder after division of `a` by `b`            |\n",
    "| `a ** b`   | Exponentiation | `a` raised to the power of `b` (`a`<sup>`b`</sup>)|\n",
    "| `-a`       | Negation       | The negative of `a`                               |\n",
    "\n",
    "We can also use parentheses for grouping."
   ]
  },
  {
   "cell_type": "code",
   "execution_count": 7,
   "id": "f846849a-7d5c-44c9-bd78-fe89277787fd",
   "metadata": {},
   "outputs": [],
   "source": [
    "# Uncomment the below code one line at a time.\n",
    "# print(1 + 2)\n",
    "# print(3 * 4.0)\n",
    "# print(1 + 3 * 4)\n",
    "# print((1 + 3) * 4)\n",
    "# print(2**3)\n",
    "# print(5 / 3)\n",
    "# print(5 // 3)\n",
    "# print(5 % 3)"
   ]
  },
  {
   "cell_type": "markdown",
   "id": "68feb975-6cdc-481a-9cb7-3a014ceddd26",
   "metadata": {
    "tags": []
   },
   "source": [
    "## Booleans (bool)"
   ]
  },
  {
   "cell_type": "markdown",
   "id": "01b5fe56-b197-4137-8843-49b899c24c35",
   "metadata": {},
   "source": [
    "Boolean (shortened to `bool` in Python) is the data type of the objects `True` and `False`."
   ]
  },
  {
   "cell_type": "code",
   "execution_count": 8,
   "id": "67243c3b-d0a9-461d-8b23-7907e3dea184",
   "metadata": {},
   "outputs": [],
   "source": [
    "# Which of the following evaluate to type `bool`? Uncomment one at a time:\n",
    "\n",
    "# print(type(True))\n",
    "# print(type(3 + 4))\n",
    "# print(type(4 < 2))\n",
    "# print(type(False))\n",
    "# print(type(\"True\"))\n",
    "# print(type(true))"
   ]
  },
  {
   "cell_type": "markdown",
   "id": "fc67f449-a62a-440c-b964-7b81883c97a1",
   "metadata": {},
   "source": [
    "Using the word `not` before a boolean swaps its value. `not True` evaluates to False, and `not False` evaluates to True."
   ]
  },
  {
   "cell_type": "code",
   "execution_count": 9,
   "id": "92bfdf12-2856-4758-a925-49c02e68297f",
   "metadata": {},
   "outputs": [
    {
     "name": "stdout",
     "output_type": "stream",
     "text": [
      "False\n"
     ]
    }
   ],
   "source": [
    "print(not True)"
   ]
  },
  {
   "cell_type": "markdown",
   "id": "e17a832e-78e5-4d88-af1f-254c907bb540",
   "metadata": {},
   "source": [
    "## NoneType"
   ]
  },
  {
   "cell_type": "markdown",
   "id": "e36e6a68-edb0-4341-97f4-f3c3352b8380",
   "metadata": {},
   "source": [
    "NoneType is only the type of one object: `None`. There is only one `None` object, so all variables assigned to `None` points to the same object."
   ]
  },
  {
   "cell_type": "code",
   "execution_count": 42,
   "id": "ec0de2d0-2929-44d9-95c3-bf8aa8660f7d",
   "metadata": {},
   "outputs": [
    {
     "name": "stdout",
     "output_type": "stream",
     "text": [
      "<class 'NoneType'>\n",
      "True\n"
     ]
    }
   ],
   "source": [
    "a = None\n",
    "b = None\n",
    "\n",
    "# Check the type of `a`.\n",
    "print(type(a))\n",
    "\n",
    "# Confirm that both variables point to the same object.\n",
    "print(a is b)"
   ]
  },
  {
   "cell_type": "markdown",
   "id": "6d96b1cc-5742-499f-8c22-b9f62393de07",
   "metadata": {
    "tags": []
   },
   "source": [
    "## Iterators"
   ]
  },
  {
   "cell_type": "markdown",
   "id": "9dd78db6-c164-42ca-b3db-b63ed4a203f9",
   "metadata": {},
   "source": [
    "<!-- Some objects contain multiple values within them. These are called collections. -->\n",
    "\n",
    "**Iterators** (sometimes called **collections**) are objects that contain multiple items within them, called their elements. These elements can be iterated over, which means that their values can be accessed one at a time. The following are iterators:"
   ]
  },
  {
   "cell_type": "markdown",
   "id": "b2eb6018-d90c-428e-a155-31dcfae1ca56",
   "metadata": {
    "tags": []
   },
   "source": [
    "### Strings (str)"
   ]
  },
  {
   "cell_type": "markdown",
   "id": "7baa8892-7db2-4380-9b7c-b85a5f54ff30",
   "metadata": {},
   "source": [
    "Strings (shortened to `str` in Python) is the data type for text objects. Strings are surrounded by single or double quotes.\n",
    "\n",
    "Examples of strings include `'Hello'`, `\"I am 3!\"`, and even the empty string `\"\"`.\n",
    "\n",
    "The elements within a string are its **characters**. A character is a string of length 1. For example, `\"H\"` is a character, and so is `\":\"` and `\" \"`. \n",
    "\n",
    "Below, we can see all the elements in the string `\"blue, purple\"`:\n",
    "\n",
    "\n",
    "<!-- \n",
    "A string is a sequence of characters. In the string `\"Hi Bye\"`, the first character in the sequence is `\"H\"`, the next is `\"i\"`, then `\" \"`, then `\"B\"`, up until the final character in the sequence, `\"e\"`. -->"
   ]
  },
  {
   "cell_type": "code",
   "execution_count": 43,
   "id": "40e3a319-c63e-42bb-9c3c-dd1f77dd8541",
   "metadata": {},
   "outputs": [
    {
     "name": "stdout",
     "output_type": "stream",
     "text": [
      "['b', 'l', 'u', 'e', ',', ' ', 'p', 'u', 'r', 'p', 'l', 'e']\n"
     ]
    }
   ],
   "source": [
    "# See a list of all the characters in the string \"blue, purple\":\n",
    "print(list(\"blue, purple\"))"
   ]
  },
  {
   "cell_type": "code",
   "execution_count": 44,
   "id": "51a3ecbb-a710-41c2-9e26-0b0516dca5eb",
   "metadata": {},
   "outputs": [],
   "source": [
    "# Which of the following evaluate to type `str`? Uncomment one at a time:\n",
    "# print(type(\"I'm batman.\"))\n",
    "# print(type(hello))\n",
    "# print(type(\"\"))\n",
    "# print(type(\"True\"))\n",
    "# print(type('hi'))\n",
    "# print(type(\"3\"))"
   ]
  },
  {
   "cell_type": "markdown",
   "id": "7c13a369",
   "metadata": {},
   "source": [
    "### Lists"
   ]
  },
  {
   "cell_type": "markdown",
   "id": "f37d41f3",
   "metadata": {},
   "source": [
    "A list is an object that can store multiple objects within it. The objects within a list are written between square brackets (`[` and `]`) and are seperated by commas.\n",
    " \n",
    "Examples of lists include `[1, 2, 3, 2]`, `[True, True, False]`, `[\"happy\", \"sad\", \"indifferent\"]`, and even the empty list `[]`. \n",
    "\n",
    "Lists can even have lists inside of them! `[[1, 2, 3], [4. 5, 6]]` is a list where the first element is `[1, 2, 3]` and the second element is `[4, 5, 6]`."
   ]
  },
  {
   "cell_type": "code",
   "execution_count": 12,
   "id": "74f3031a",
   "metadata": {},
   "outputs": [],
   "source": [
    "# Which of the following evaluate to type `list`? Uncomment one at a time:\n",
    "\n",
    "# print(type([3, 54, 1, 23, 2]))\n",
    "# print(type([]))\n",
    "# print(type(\"[2, 1]\"))\n",
    "# print(type(2, 3))\n",
    "# print(type([True]))\n",
    "# print(type([2, \"banana\", 3.2, True]))\n",
    "# print(type([[1, 2], [2, 4], [\"apple\"]]))"
   ]
  },
  {
   "cell_type": "markdown",
   "id": "5548644a",
   "metadata": {},
   "source": [
    "Lists are mutable, which means they can be modified after creating them. For example, we can use the method* `.append()` to add an item to a list, and the method `.pop()` to remove the last item in a list.\n",
    "\n",
    "*A **method** is a function that only works with a specific object type. ints, strings, lists, etc., all contain several methods you can use with them."
   ]
  },
  {
   "cell_type": "code",
   "execution_count": 13,
   "id": "e9c10ada",
   "metadata": {},
   "outputs": [
    {
     "name": "stdout",
     "output_type": "stream",
     "text": [
      "[1, 2, 3]\n",
      "[1, 2, 3, 4]\n",
      "[1, 2, 3]\n"
     ]
    }
   ],
   "source": [
    "# Create a list and display it.\n",
    "example = [1, 2, 3]\n",
    "print(example)\n",
    "\n",
    "# Attach the object 4 to the end of the list and display it.\n",
    "example.append(4)\n",
    "print(example)\n",
    "\n",
    "# Remove the last element from the list and display result.\n",
    "example.pop()\n",
    "print(example)"
   ]
  },
  {
   "cell_type": "markdown",
   "id": "1f687f59",
   "metadata": {},
   "source": [
    "### Tuples"
   ]
  },
  {
   "cell_type": "markdown",
   "id": "f284f0d5",
   "metadata": {},
   "source": [
    "Tuples are very similar to lists, but they are immutable. This means that they cannot be changed after creation. Tuples are created in parentheses instead of square brackets."
   ]
  },
  {
   "cell_type": "code",
   "execution_count": 14,
   "id": "5d559233",
   "metadata": {},
   "outputs": [
    {
     "name": "stdout",
     "output_type": "stream",
     "text": [
      "(1, 2, 3)\n"
     ]
    }
   ],
   "source": [
    "tuple_example = (1, 2, 3)\n",
    "print(tuple_example)"
   ]
  },
  {
   "cell_type": "markdown",
   "id": "f5a64433-6ce0-43fc-84c7-cf38bd9a94d0",
   "metadata": {},
   "source": [
    "If we write multiple items seperated with commas and do not surround it with `[` `]` or `(` `)`, Python will assume we are trying to make a tuple and turn it into one."
   ]
  },
  {
   "cell_type": "code",
   "execution_count": 15,
   "id": "9b77da36-d21e-465e-bb62-f1ec01f9d8f5",
   "metadata": {},
   "outputs": [
    {
     "name": "stdout",
     "output_type": "stream",
     "text": [
      "('red', 'blue', 'green')\n"
     ]
    }
   ],
   "source": [
    "# Create a tuple without parentheses.\n",
    "no_paren_example = \"red\", \"blue\", \"green\"\n",
    "print(no_paren_example)"
   ]
  },
  {
   "cell_type": "markdown",
   "id": "9b361794-e238-47dc-ade4-cd509031fcdc",
   "metadata": {
    "tags": []
   },
   "source": [
    "### Sequence Features\n",
    "<!-- Sequences  -->\n",
    "<!-- All sequence objects can be indexed and sliced. -->\n",
    "\n",
    "All the above iterators (strings, lists, and tuples) were sequences. A sequence is an iterator where each of the elements are ordered and can be accessed by their position.\n",
    "\n",
    "Sequences in Python are zero-indexed, which means that the first element is at index 0, the second element at index 1, etc.\n",
    "\n",
    "For example, in the string `\"Sawyer\"`, the character \"S\" is at index 0, the character \"a\" is at index 1, and the character \"y\" is at index 3.\n",
    "Likewise, in the list `[\"Hello\", \"Goodbye\", \"See ya\"]`, \"Hello\" (the list's first element) is at index 0, \"Goodbye\" is at index 1, and \"See ya\" is at index 2.\n",
    "\n",
    "<!-- . For example, `\"Sawyer\"[0]` corresponds to \"S\", `\"Sawyer\"[1]` corresponds to \"a\", and so on. -->\n",
    "\n",
    "Here are some things you can do with all sequence data types:"
   ]
  },
  {
   "cell_type": "markdown",
   "id": "4a7d75be-509d-4696-949d-20586e28064e",
   "metadata": {},
   "source": [
    "#### Indexing\n",
    "\n",
    "To access an element of a sequence at a given index, we can put the index between square brackets (`[`, `]`), like so:\n",
    "\n",
    "<!-- We can access the element\n",
    "\n",
    "individual elements in a sequence by using square brackets (`[`, `]`) with an index inside.\n",
    "\n",
    "<!--  \n",
    "\n",
    "Sequences in Python are zero-indexed, which means that the first element is at index 0. For example, \"Sawyer\"[0] corresponds to \"S\", \"Sawyer\"[1] corresponds to \"a\", and so on. -->"
   ]
  },
  {
   "cell_type": "code",
   "execution_count": 16,
   "id": "dd64ea76-a863-4551-91f0-7d1576c6dd8b",
   "metadata": {},
   "outputs": [
    {
     "name": "stdout",
     "output_type": "stream",
     "text": [
      "H\n",
      "9\n",
      "False\n"
     ]
    }
   ],
   "source": [
    "# Display the element at index 0 in a string.\n",
    "print(\"Hello, class!\"[0])\n",
    "\n",
    "# Display the element at index 3 in a list.\n",
    "print([12, 3, 4, 9][3])\n",
    "\n",
    "# Display the element at index 2 in a tuple.\n",
    "print((True, True, False)[2])"
   ]
  },
  {
   "cell_type": "markdown",
   "id": "00ee4466-7a45-47a5-a904-a767b9772518",
   "metadata": {},
   "source": [
    "If we want to access a number from the end of a sequence instead, we can use a negative number. Indexing with `[-1]` accesses the final element in the sequence, `[-2]` accesses the second to last, and so on.\n",
    "\n",
    "<!-- We can also use negati -->\n",
    "\n",
    "<!-- If we want to access a number from the end of a sequence instead, we can use negative indexing. The last element in a sequence is at index -1 -->\n",
    "\n",
    "<!-- Indexing with a negative number finds the element  -->"
   ]
  },
  {
   "cell_type": "code",
   "execution_count": 17,
   "id": "32f34d81-6fc8-4759-912c-e87c524052bf",
   "metadata": {},
   "outputs": [
    {
     "name": "stdout",
     "output_type": "stream",
     "text": [
      "?\n",
      "orange\n",
      "Sup?\n"
     ]
    }
   ],
   "source": [
    "# Display the last element in the string.\n",
    "print(\"How are you?\"[-1])\n",
    "\n",
    "# Display the second to last element in a list.\n",
    "print([\"blue\", \"green\", \"purple\", \"orange\", \"silver\"][-2])\n",
    "\n",
    "# Display the third to last element in a tuple.\n",
    "print((\"hi\", \"bye\", \"hello\", \"how are you?\", \"Sup?\", \"Nice to meet you!\", \"Howdy\")[-3])"
   ]
  },
  {
   "cell_type": "markdown",
   "id": "bbb67d84-0f17-4362-926f-3c5369f89df5",
   "metadata": {},
   "source": [
    "Try to guess what the following examples will display, then uncomment them one at a time to see if your guess was correct."
   ]
  },
  {
   "cell_type": "code",
   "execution_count": 18,
   "id": "1d151901-3e9b-4302-9340-18aef98f2751",
   "metadata": {},
   "outputs": [],
   "source": [
    "example_string = \"Hello there!\"\n",
    "\n",
    "# Uncomment one at a time and guess what will get printed.\n",
    "# print(example_string[0])    # Access the first character in the string.\n",
    "# print(example_string[1])\n",
    "# print(example_string[2])\n",
    "# print(example_string[6])\n",
    "# print(example_string[-1])\n",
    "# print(\"What's your name?\"[2])\n",
    "# print(\"How are you?\"[-2])\n",
    "\n",
    "\n",
    "example_list = [1, 4, 3, 8, 12]\n",
    "# print(example_list[0])\n",
    "# print(example_list[2])\n",
    "# print([\"happy\", \"sad\", \"angry\", \"blissful\"][-1])\n",
    "# print(example_list[-2])\n",
    "\n",
    "\n",
    "example_tuple = (\"run\", \"jump\", \"eat\", \"play\")\n",
    "# print(example_tuple[1])\n",
    "# print(example_tuple[-2])\n",
    "\n",
    "\n",
    "# For a more complicated example, let's try with a list that contains lists inside it.\n",
    "nested_list = [[1, 2], [3, 4], [5, 6], [7, 8]]\n",
    "# print(nested_list[1])\n",
    "# print(nested_list[-1])\n",
    "# print([[\"hi\", \"bye\"], [True], [43, 108, 2, 4, 5]][0])"
   ]
  },
  {
   "cell_type": "markdown",
   "id": "fbd4c4ac-8e5f-494d-9621-6cd1f594ca71",
   "metadata": {},
   "source": [
    "As was mentioned before, lists are mutable, which means they can be changed after creation. One way a list can be mutated (changed) is through indexing, as demonstrated below.\n",
    "\n",
    "\n",
    "<!-- item assignment, where you set the item at a given index to a new item. -->\n",
    "\n"
   ]
  },
  {
   "cell_type": "code",
   "execution_count": 19,
   "id": "e94c8d65-443d-4b50-a39a-b0bec7580a4a",
   "metadata": {},
   "outputs": [
    {
     "name": "stdout",
     "output_type": "stream",
     "text": [
      "[1, 2, 3, 4, 5]\n",
      "['Hello', 2, 3, 4, 5]\n",
      "['Hello', 2, True, 4, 5]\n"
     ]
    }
   ],
   "source": [
    "# Create a list and display it.\n",
    "example_list = [1, 2, 3, 4, 5]\n",
    "print(example_list)\n",
    "\n",
    "# Now change the element at index 0 to the string \"Hello\".\n",
    "example_list[0] = \"Hello\"\n",
    "print(example_list)\n",
    "\n",
    "# Now change the element at index 2 to the boolean value True.\n",
    "example_list[2] = True\n",
    "print(example_list)"
   ]
  },
  {
   "cell_type": "markdown",
   "id": "7fdc242b-d08b-4d53-846c-118e009294ea",
   "metadata": {},
   "source": [
    "Changing the items in a list this way is called item assignment, as we are assigning a new item to the chosen index. Since strings and tuples are immutable, trying to assign an item to them causes an error message."
   ]
  },
  {
   "cell_type": "code",
   "execution_count": 20,
   "id": "6f53658f-7d28-43d1-bc53-658e1a39ae9b",
   "metadata": {},
   "outputs": [
    {
     "ename": "TypeError",
     "evalue": "'str' object does not support item assignment",
     "output_type": "error",
     "traceback": [
      "\u001b[1;31m---------------------------------------------------------------------------\u001b[0m",
      "\u001b[1;31mTypeError\u001b[0m                                 Traceback (most recent call last)",
      "Cell \u001b[1;32mIn[20], line 3\u001b[0m\n\u001b[0;32m      1\u001b[0m example_string \u001b[38;5;241m=\u001b[39m \u001b[38;5;124m\"\u001b[39m\u001b[38;5;124mHello\u001b[39m\u001b[38;5;124m\"\u001b[39m\n\u001b[0;32m      2\u001b[0m \u001b[38;5;66;03m# Try to change the H into a B.\u001b[39;00m\n\u001b[1;32m----> 3\u001b[0m example_string[\u001b[38;5;241m0\u001b[39m] \u001b[38;5;241m=\u001b[39m \u001b[38;5;124m\"\u001b[39m\u001b[38;5;124mB\u001b[39m\u001b[38;5;124m\"\u001b[39m\n",
      "\u001b[1;31mTypeError\u001b[0m: 'str' object does not support item assignment"
     ]
    }
   ],
   "source": [
    "example_string = \"Hello\"\n",
    "# Try to change the H into a B.\n",
    "example_string[0] = \"B\""
   ]
  },
  {
   "cell_type": "markdown",
   "id": "a93c6587-a5fd-45aa-b054-5b909d133dce",
   "metadata": {
    "tags": []
   },
   "source": [
    "#### Slicing\n",
    "Whereas indexing only accesses one element of a sequence at a time, we can use slicing to access several at once. Slices are written in the form of `sequence_name[starting_index:index_to_end_before]`. For example, if you wanted to get a slice of the string \"How are you\" starting at index 1 (inclusive) and ending at index 3 (exclusive), you'd type `\"How are you\"[1:3]`.\n",
    "\n",
    "Below are some examples of slicing.\n",
    "\n",
    "<!-- Making a copy of part of a sequence is called **slicing**.  -->"
   ]
  },
  {
   "cell_type": "code",
   "execution_count": 21,
   "id": "d96d875e-2023-45f9-bfa3-8c771cc4d52c",
   "metadata": {},
   "outputs": [
    {
     "name": "stdout",
     "output_type": "stream",
     "text": [
      "ello th\n",
      "[3, 4]\n",
      "Hope you\n",
      "'re feeling okay.\n"
     ]
    }
   ],
   "source": [
    "# Access all elements of a string starting at index 1 and ending before index 8.\n",
    "print(\"Hello there.\"[1:8])\n",
    "\n",
    "# Access all elements of a list starting from index 2 and ending before index 4.\n",
    "print([1, 2, 3, 4, 5, 6][2:4])\n",
    "\n",
    "# We can leave out the number before the colon to make the starting index default to 0.\n",
    "print(\"Hope you're feeling okay.\"[:8])\n",
    "\n",
    "# Leaving out the number after the colon makes the slice end at the end of the sequence.\n",
    "print(\"Hope you're feeling okay.\"[8:])"
   ]
  },
  {
   "cell_type": "markdown",
   "id": "eb14d2d8-e17a-41dd-a983-c1ac818674b7",
   "metadata": {},
   "source": [
    "#### Unpacking"
   ]
  },
  {
   "cell_type": "markdown",
   "id": "31459621-ac2f-494f-aab2-b4164a26f156",
   "metadata": {},
   "source": [
    "When we create a sequence, we \"pack\" the elements into the object. Unpacking is the process of getting those elements back out of the sequence so we can use them in variables. While this works with any sequence type, it is generally only used with tuples, and is often referred to as **tuple unpacking**."
   ]
  },
  {
   "cell_type": "code",
   "execution_count": 22,
   "id": "697d9571-1cf5-4e4a-8bea-2018c23d763a",
   "metadata": {},
   "outputs": [
    {
     "name": "stdout",
     "output_type": "stream",
     "text": [
      "Lola likes the color blue and is 14 years old.\n"
     ]
    }
   ],
   "source": [
    "# Assign three variables a value at once using tuple unpacking.\n",
    "name, age, favorite_color = (\"Lola\", 14, \"blue\")\n",
    "# Display the values inside each variable.\n",
    "print(f\"{name} likes the color {favorite_color} and is {age} years old.\")"
   ]
  },
  {
   "cell_type": "code",
   "execution_count": 23,
   "id": "26e0403f-db07-451e-964b-7db2f9d73db4",
   "metadata": {},
   "outputs": [
    {
     "name": "stdout",
     "output_type": "stream",
     "text": [
      "steak\n"
     ]
    }
   ],
   "source": [
    "# Create a tuple of foods.\n",
    "foods = (\"cereal\", \"sandwich\", \"steak\")\n",
    "# Unpack the tuple into three variables.\n",
    "breakfast, lunch, dinner = foods\n",
    "\n",
    "# Display the object that the dinner variable references.\n",
    "print(dinner)"
   ]
  },
  {
   "cell_type": "code",
   "execution_count": 24,
   "id": "b6d260cd-b2e1-4998-9967-d25ca1e1b0bb",
   "metadata": {},
   "outputs": [
    {
     "name": "stdout",
     "output_type": "stream",
     "text": [
      "b\n"
     ]
    }
   ],
   "source": [
    "list_of_tuples = [(\"a\", \"b\", \"c\"), (4, 5, 6), (7, 8, 9)]\n",
    "# Unpack the first tuple in the list.\n",
    "first_elem, second_elem, third_elem = list_of_tuples[0]\n",
    "print(second_elem)"
   ]
  },
  {
   "cell_type": "markdown",
   "id": "854e68e5-b2e4-455a-8d52-30309a924c4a",
   "metadata": {},
   "source": [
    "Since tuples can be created without explicitly typing the parentheses, we can leave them out when unpacking a tuple."
   ]
  },
  {
   "cell_type": "code",
   "execution_count": 25,
   "id": "894aa7af-97c6-48f9-9493-3dc37d94ee4e",
   "metadata": {},
   "outputs": [
    {
     "name": "stdout",
     "output_type": "stream",
     "text": [
      "The grass-type starter Pokémon is Bulbasaur.\n",
      "The water-type starter Pokémon is Squirtle.\n"
     ]
    }
   ],
   "source": [
    "# Assign four variables at once with tuple unpacking.\n",
    "grass, fire, water, electric = \"Bulbasaur\", \"Charmander\", \"Squirtle\", \"Pikachu\"\n",
    "\n",
    "print(f\"The grass-type starter Pokémon is {grass}.\")\n",
    "print(f\"The water-type starter Pokémon is {water}.\")"
   ]
  },
  {
   "cell_type": "markdown",
   "id": "ed50e346-cd54-4a84-acb1-06b0b2ba929f",
   "metadata": {},
   "source": [
    "Tuple unpacking is also very useful for swapping variables."
   ]
  },
  {
   "cell_type": "code",
   "execution_count": 28,
   "id": "32e8a2cf-f059-46e7-bd68-846992d908a8",
   "metadata": {},
   "outputs": [
    {
     "name": "stdout",
     "output_type": "stream",
     "text": [
      "Before the swap:\n",
      "num1 is now 100, and num2 is now 7.\n",
      "\n",
      "After the swap:\n",
      "num1 is now 7, and num2 is now 100.\n"
     ]
    }
   ],
   "source": [
    "num1 = 100\n",
    "num2 = 7\n",
    "\n",
    "print(\"Before the swap:\")\n",
    "print(f\"num1 is now {num1}, and num2 is now {num2}.\")\n",
    "print()\n",
    "\n",
    "# Evaluate the variables on the right (num2, num1), then put those values into the variables on the left (num1, num2).\n",
    "num1, num2 = num2, num1\n",
    "\n",
    "print(\"After the swap:\")\n",
    "print(f\"num1 is now {num1}, and num2 is now {num2}.\")"
   ]
  },
  {
   "cell_type": "markdown",
   "id": "11d0fe1f-2c58-4f70-8ae8-ac5498efa6fc",
   "metadata": {},
   "source": [
    "Not all iterators are sequences. Below, we will explore two iterators that aren't sequences (meaning their elements cannot be accessed through indexing). These iterators are **sets** and **dictionaries**."
   ]
  },
  {
   "cell_type": "markdown",
   "id": "be06644d-b394-4f6f-a3b3-c7a208327cb0",
   "metadata": {},
   "source": [
    "### Sets"
   ]
  },
  {
   "cell_type": "markdown",
   "id": "3df08848-f169-490c-ba21-1d2b6bd21ab2",
   "metadata": {},
   "source": [
    "Similarly to lists and tuples, a set is an object that can store multiple objects within it. The objects within a set are written between curly brackets (`{` and `}`) and are seperated by commas.\n",
    "\n",
    "Sets are unordered, which means that the order you type the elements in doesn't matter. They also do not contain any duplicates, so even if you add the same element several times, it will only be stored once in the set. Objects in sets must be immutable."
   ]
  },
  {
   "cell_type": "code",
   "execution_count": 6,
   "id": "1eec5187-8882-4b13-af30-4917a7bd1f88",
   "metadata": {},
   "outputs": [
    {
     "name": "stdout",
     "output_type": "stream",
     "text": [
      "{8, 1, 2, 3}\n"
     ]
    }
   ],
   "source": [
    "# Create a set with duplicates.\n",
    "example_set = {2, 2, 1, 3, 8}\n",
    "# Print the set. Note how the order changed and all duplicates were removed.\n",
    "print(example_set)"
   ]
  },
  {
   "cell_type": "markdown",
   "id": "4e99439d-bec1-48ce-b7e2-362d3019e14c",
   "metadata": {},
   "source": [
    "Sets are mutable. We can add elements to a set using the set `.add()` method and remove them using the `.remove()` method."
   ]
  },
  {
   "cell_type": "code",
   "execution_count": 10,
   "id": "f0cc016a-ef1e-4a7c-aad9-5c14d0ea9b85",
   "metadata": {},
   "outputs": [
    {
     "name": "stdout",
     "output_type": "stream",
     "text": [
      "The set originally looks like this:\n",
      "{8, 1, 2, 3}\n",
      "\n",
      "Let's add a 7 to the set.\n",
      "{1, 2, 3, 7, 8}\n",
      "\n",
      "Now let's remove the 2 from the set.\n",
      "{1, 3, 7, 8}\n"
     ]
    }
   ],
   "source": [
    "example_set = {2, 1, 3, 8}\n",
    "print(\"The set originally looks like this:\")\n",
    "print(example_set)\n",
    "print()\n",
    "\n",
    "\n",
    "print(\"Let's add a 7 to the set.\")\n",
    "example_set.add(7)\n",
    "print(example_set)\n",
    "print()\n",
    "\n",
    "print(\"Now let's remove the 2 from the set.\")\n",
    "example_set.remove(2)\n",
    "print(example_set)"
   ]
  },
  {
   "cell_type": "markdown",
   "id": "8b326cf0-8990-45d4-bba4-14298203cd7b",
   "metadata": {},
   "source": [
    "### Dictionaries (dict)"
   ]
  },
  {
   "cell_type": "markdown",
   "id": "b78fc23b-5044-4e3f-8ef2-1e26ff7d448f",
   "metadata": {},
   "source": [
    "A dictionary (shortened to `dict` in Python) is a mutable iterator that stores data in key:value pairs.\n",
    "\n",
    "<!-- \n",
    "Much like you can get the value at index 0 of a string  -->\n",
    "\n",
    "Similarly to sets, dictionary values are written within curly brackets (`{`, `}`), but unlike sets, everything in a dictionary contains both a key and a value, seperated by a colon.\n",
    "\n",
    "Their keys work similarly to indices in sequences and cannot contain duplicates.\n",
    "\n",
    "<!-- A dictionary's  -->\n",
    "<!-- Their keys work similarly to indexes in sequences. -->"
   ]
  },
  {
   "cell_type": "code",
   "execution_count": 30,
   "id": "7d296ec4-7b8b-4b08-bc58-ac24cac23df6",
   "metadata": {},
   "outputs": [
    {
     "name": "stdout",
     "output_type": "stream",
     "text": [
      "black\n",
      "24\n"
     ]
    }
   ],
   "source": [
    "person_info = {\"name\": \"Sawyer\", \"age\": 24, \"favorite color\": \"black\"}\n",
    "\n",
    "# Use a key to access the value it is paired with.\n",
    "print(person_info[\"favorite color\"])\n",
    "print(person_info[\"age\"])"
   ]
  },
  {
   "cell_type": "markdown",
   "id": "55e52eb5-f5f5-4868-a99d-cde4a4c8225b",
   "metadata": {},
   "source": [
    "Let's try using a dictionary to send a hidden message!"
   ]
  },
  {
   "cell_type": "code",
   "execution_count": 37,
   "id": "ddf3011d-2aaa-48e6-a793-b97602a93a8a",
   "metadata": {},
   "outputs": [
    {
     "name": "stdout",
     "output_type": "stream",
     "text": [
      "H\n",
      "e\n",
      "l\n",
      "l\n",
      "o\n"
     ]
    }
   ],
   "source": [
    "# Create a dictionary where the keys are numbers and the values are the letters they secretly mean.\n",
    "secret_message_dict = {18: \"o\", 1: \"H\", 22: \"r\", 5: \"l\", 23: \"e\", 42: \"x\"}\n",
    "\n",
    "hidden_message = [1, 23, 5, 5, 18]\n",
    "\n",
    "# loop through the hidden message, using the dictionary to find the letter each number turns into.\n",
    "for num in hidden_message:\n",
    "    # Display each hidden letter as we find them out.\n",
    "    print(secret_message_dict[num])"
   ]
  },
  {
   "cell_type": "markdown",
   "id": "f2276137-9392-43b2-952e-46706badcaf1",
   "metadata": {},
   "source": [
    "Dictionaries are mutable. You can add a key:value pair to a dictionary by using this syntax: `dict_name[new_key] = new_value`."
   ]
  },
  {
   "cell_type": "code",
   "execution_count": 13,
   "id": "aa7e1075-d411-440e-bb2e-81f61188b197",
   "metadata": {},
   "outputs": [
    {
     "name": "stdout",
     "output_type": "stream",
     "text": [
      "{'Gabe': '(555) 892-8924', 'James': '(363) 739-2803', 'Charles': '(532) 238-3490'}\n",
      "\n",
      "Let's add a new contact to the dictionary.\n",
      "{'Gabe': '(555) 892-8924', 'James': '(363) 739-2803', 'Charles': '(532) 238-3490', 'Alec': '(924) 971-8836'}\n"
     ]
    }
   ],
   "source": [
    "# Create a dict of people and their (made-up) phone numbers.\n",
    "contacts = {\"Gabe\": \"(555) 892-8924\", \"James\": \"(363) 739-2803\", \"Charles\": \"(532) 238-3490\"}\n",
    "print(contacts)\n",
    "print()\n",
    "\n",
    "print(\"Let's add a new contact to the dictionary.\")\n",
    "contacts[\"Alec\"] = \"(924) 971-8836\"\n",
    "print(contacts)"
   ]
  },
  {
   "cell_type": "markdown",
   "id": "e4cd363a-88c3-4082-9359-42c4ba1e2ed6",
   "metadata": {},
   "source": [
    "<!-- We can also edit the value a key stores with the same syntax.  -->\n",
    "If the key is already in the dictionary, doing this will instead overwrite the previous value and change it to the new one.\n",
    "\n",
    "<!-- If the key we use already exists in the dictionary, \n",
    "\n",
    "\n",
    "this will instead change the value it stores to the new value. -->"
   ]
  },
  {
   "cell_type": "code",
   "execution_count": 21,
   "id": "06d19730-907b-44d4-a7e3-5c1b4b8cdbc0",
   "metadata": {},
   "outputs": [
    {
     "name": "stdout",
     "output_type": "stream",
     "text": [
      "Gabe's number was originally (555) 892-8924\n",
      "If Gabe changes his number, we can change the value associated with the Gabe key.\n",
      "\n",
      "This is the dictionary with his new phone number.\n",
      "{'Gabe': '(538) 890 - 2840', 'James': '(363) 739-2803', 'Charles': '(532) 238-3490'}\n"
     ]
    }
   ],
   "source": [
    "contacts = {\"Gabe\": \"(555) 892-8924\", \"James\": \"(363) 739-2803\", \"Charles\": \"(532) 238-3490\"}\n",
    "\n",
    "print(f\"Gabe's number was originally {contacts['Gabe']}\")\n",
    "print(\"If Gabe changes his number, we can change the value associated with the Gabe key.\")\n",
    "print()\n",
    "\n",
    "# Change the Gabe key's value.\n",
    "contacts[\"Gabe\"] = \"(538) 890 - 2840\"\n",
    "\n",
    "print(\"This is the dictionary with his new phone number.\")\n",
    "print(contacts)"
   ]
  },
  {
   "cell_type": "markdown",
   "id": "4693f259-9e2b-418d-8409-cb17e92ed708",
   "metadata": {},
   "source": [
    "This did not create a second Gabe key because dictionary keys must be unique.\n",
    "\n",
    "We can also remove from a dict using the dictionary's `.pop()` method. The key we wish to delete must go within the parentheses."
   ]
  },
  {
   "cell_type": "code",
   "execution_count": 27,
   "id": "bbd118c7-1660-4479-846f-48c589385959",
   "metadata": {},
   "outputs": [
    {
     "name": "stdout",
     "output_type": "stream",
     "text": [
      "Let's remove Gabe from out contacts.\n",
      "Below is the new dictionary:\n",
      "{'James': '(363) 739-2803', 'Charles': '(532) 238-3490'}\n"
     ]
    }
   ],
   "source": [
    "contacts = {\"Gabe\": \"(555) 892-8924\", \"James\": \"(363) 739-2803\", \"Charles\": \"(532) 238-3490\"}\n",
    "\n",
    "print(\"Let's remove Gabe from out contacts.\")\n",
    "contacts.pop(\"Gabe\")\n",
    "print(\"Below is the new dictionary:\")\n",
    "print(contacts)"
   ]
  },
  {
   "cell_type": "markdown",
   "id": "bc2b061d-6f19-4e4c-b640-5b263335a588",
   "metadata": {},
   "source": [
    "### Iterator Features\n",
    "Iterators share some common traits (more of which we will get into later)."
   ]
  },
  {
   "cell_type": "markdown",
   "id": "2cde176d-40ea-42f4-828b-de0b1bef1dba",
   "metadata": {},
   "source": [
    "#### Finding Length\n",
    "We can get the length of all iterators with the `len()` function. \n",
    "\n",
    "The `len()` function returns the number of elements the iterator contains. In the case of a dictionary, the function returns how many keys it contains."
   ]
  },
  {
   "cell_type": "code",
   "execution_count": 30,
   "id": "d1c6bf4c-2334-4ca3-b0b7-0803a416e1d5",
   "metadata": {},
   "outputs": [],
   "source": [
    "# Print the length of strings. Uncomment one at a time:\n",
    "# print(len(\"hello\"))\n",
    "# print(len(\"How are you?\"))\n",
    "\n",
    "# Print the length of lists. Uncomment one at a time:\n",
    "# print(len([1, 2, 3]))\n",
    "# print(len([[1, 2], [3, 4], [5, 6]]))\n",
    "# print(len([1, 2, 1, 3]))\n",
    "\n",
    "\n",
    "# Print the length of tuples. Uncomment one at a time:\n",
    "# print(len((\"Hello\", \"Bye\")))\n",
    "# print(len((\"I'm Bob\", \"I'm Tim\", \"I'm Jimmy\")))\n",
    "\n",
    "# Print the length of sets. Uncomment one at a time:\n",
    "# print(len({2, 4, 5}))\n",
    "# print(len({4, 5, 1, 2, 1}))    # Remember, sets remove duplicates!\n",
    "\n",
    "# Print the length of dicts. Uncomment one at a time:\n",
    "# print(len({\"hour\": 2, \"minute\": 52, \"second\": 40}))\n",
    "# print(len({\"animal\": \"jellyfish\", \"fruit\": \"apple\", \"number\": 8}))"
   ]
  },
  {
   "cell_type": "markdown",
   "id": "876b948b-ed73-4c2e-9e07-e31c96ed890c",
   "metadata": {},
   "source": [
    "#### Checking membership"
   ]
  },
  {
   "cell_type": "markdown",
   "id": "b5e0ddf8-cbc5-4341-a8ab-5587abd8f54a",
   "metadata": {},
   "source": [
    "We can check if an element is a member of an collection by using the `in` keyword. (Using these on a dictionary only checks its keys.)"
   ]
  },
  {
   "cell_type": "code",
   "execution_count": 40,
   "id": "2d231c9c-e81c-423e-af92-9a47b02967e3",
   "metadata": {},
   "outputs": [
    {
     "name": "stdout",
     "output_type": "stream",
     "text": [
      "Is 'laptop' in the list?\n",
      "True\n",
      "\n",
      "Is 'banana' in the list?\n",
      "False\n",
      "\n",
      "Is Gabe in the dictionary?\n",
      "True\n"
     ]
    }
   ],
   "source": [
    "electronics = [\"laptop\", \"iPhone\", \"Android\", \"iPad\"]\n",
    "print(\"Is 'laptop' in the list?\")\n",
    "print(\"laptop\" in electronics)\n",
    "print()\n",
    "\n",
    "print(\"Is 'banana' in the list?\")\n",
    "print(\"banana\" in electronics)\n",
    "print()\n",
    "\n",
    "contacts = {\"Gabe\": \"(555) 892-8924\", \"James\": \"(363) 739-2803\", \"Charles\": \"(532) 238-3490\"}\n",
    "print(\"Is Gabe in the dictionary?\")\n",
    "print(\"Gabe\" in contacts)"
   ]
  },
  {
   "cell_type": "markdown",
   "id": "7de254a9-5c5b-487d-b839-742520184581",
   "metadata": {},
   "source": [
    "Similarly, we can use `not in` to check if an element is not in a collection."
   ]
  },
  {
   "cell_type": "code",
   "execution_count": 41,
   "id": "cfc069d8-22da-4229-b864-328b942eac77",
   "metadata": {},
   "outputs": [
    {
     "name": "stdout",
     "output_type": "stream",
     "text": [
      "True\n"
     ]
    }
   ],
   "source": [
    "electronics = [\"laptop\", \"iPhone\", \"Android\", \"iPad\"]\n",
    "print(\"squid\" not in electronics)"
   ]
  }
 ],
 "metadata": {
  "kernelspec": {
   "display_name": "Python 3 (ipykernel)",
   "language": "python",
   "name": "python3"
  },
  "language_info": {
   "codemirror_mode": {
    "name": "ipython",
    "version": 3
   },
   "file_extension": ".py",
   "mimetype": "text/x-python",
   "name": "python",
   "nbconvert_exporter": "python",
   "pygments_lexer": "ipython3",
   "version": "3.9.19"
  }
 },
 "nbformat": 4,
 "nbformat_minor": 5
}

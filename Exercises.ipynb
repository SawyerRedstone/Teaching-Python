{
 "cells": [
  {
   "cell_type": "markdown",
   "id": "d75e95d3-99ce-459a-bd5d-d814b51f3514",
   "metadata": {},
   "source": [
    "# Exercises"
   ]
  },
  {
   "cell_type": "markdown",
   "id": "cf29820c-8057-4201-bd12-a7f17a22cf0b",
   "metadata": {},
   "source": [
    "## Python"
   ]
  },
  {
   "cell_type": "markdown",
   "id": "2df19159-6b6f-4263-92c6-93207cfa71ca",
   "metadata": {},
   "source": [
    "1) Write a Python program that prints \"Hello, World!\" to the screen."
   ]
  },
  {
   "cell_type": "code",
   "execution_count": null,
   "id": "f326197b-4b60-4b8d-92cb-c85e76b94e33",
   "metadata": {},
   "outputs": [],
   "source": [
    "# Step 1: Print \"Hello, World!\" to the screen.\n",
    "\n",
    "# Expected output:\n",
    "# Hello, World!\n",
    "\n",
    "\n",
    "# Your code here:\n",
    "\n"
   ]
  },
  {
   "cell_type": "markdown",
   "id": "944a77f1-6205-420f-b061-7bbfa66baa8a",
   "metadata": {},
   "source": [
    "2) Create a variable called `name` and assign your name to it. Then print the value of the variable."
   ]
  },
  {
   "cell_type": "code",
   "execution_count": 1,
   "id": "358544af-6e5d-44ae-9aa9-22b96a941cdf",
   "metadata": {},
   "outputs": [],
   "source": [
    "# Step 1: Create a variable called 'name' and assign your name to it.\n",
    "# Step 2: Print the value of the variable 'name'.\n",
    "\n",
    "# Example output 1:\n",
    "# Sawyer\n",
    "\n",
    "# Example output 2:\n",
    "# Bill\n",
    "\n",
    "\n",
    "# Your code here:\n",
    "\n"
   ]
  },
  {
   "cell_type": "markdown",
   "id": "5f15320a-571d-4a28-ba2a-8fccb907eaed",
   "metadata": {},
   "source": [
    "3) Write a Python program that takes two numbers, adds them together, and prints the result."
   ]
  },
  {
   "cell_type": "code",
   "execution_count": 2,
   "id": "417c0900-98e4-4c56-9229-5409f34b363d",
   "metadata": {},
   "outputs": [],
   "source": [
    "# Step 1: Create two variables and assign them numbers.\n",
    "# Step 2: Add the two numbers and store the result in a variable.\n",
    "# Step 3: Print the result.\n",
    "\n",
    "# Example output:\n",
    "# 8\n",
    "\n",
    "\n",
    "# Your code here:\n",
    "\n"
   ]
  },
  {
   "cell_type": "markdown",
   "id": "1dafc02b-712c-4574-b718-5990ad6656ae",
   "metadata": {},
   "source": [
    "4) Write a Python program that asks the user for their name and then greets them."
   ]
  },
  {
   "cell_type": "code",
   "execution_count": null,
   "id": "24e06a3b-1ca1-45c6-8e10-909780abf650",
   "metadata": {},
   "outputs": [],
   "source": [
    "# Step 1: Ask the user for their name using the input() function.\n",
    "# Step 2: Print a greeting message with the user's name.\n",
    "\n",
    "# Example output 1:\n",
    "# Enter your name: Sawyer\n",
    "# Hello, Sawyer!\n",
    "\n",
    "# Example output 2:\n",
    "# Enter your name: Charlie\n",
    "# Hello, Charlie!\n",
    "\n",
    "\n",
    "# Your code here:\n"
   ]
  },
  {
   "cell_type": "markdown",
   "id": "8f6a59d0-b8b7-4554-8d24-812ffc319d47",
   "metadata": {},
   "source": [
    "5) Write a Python program that asks a user to input a number. Print a message saying whether the number that was inputted is positive, negative, or 0."
   ]
  },
  {
   "cell_type": "code",
   "execution_count": null,
   "id": "8d9ee5b1-94f2-4553-b9e9-db3ef68d037e",
   "metadata": {},
   "outputs": [],
   "source": [
    "# Step 1: Ask the user for a number using the input() function and convert it to an integer.\n",
    "# Step 2: Use an if-elif-else statement to check if the number is positive, negative, or zero.\n",
    "# Step 3: Print the corresponding message.\n",
    "\n",
    "# Example output 1:\n",
    "# Enter a number: -5\n",
    "# The number is negative.\n",
    "\n",
    "# Example output 2:\n",
    "# Enter a number: 81\n",
    "# The number is positive.\n",
    "\n",
    "# Example output 3:\n",
    "# Enter a number: 0\n",
    "# The number is zero.\n",
    "\n",
    "\n",
    "# Your code here:\n",
    "\n",
    "\n"
   ]
  },
  {
   "cell_type": "markdown",
   "id": "2344746f-6b88-484c-bd80-5e0b67b63231",
   "metadata": {},
   "source": [
    "6) Write a Python program that prints the numbers from 1 to 10 using a for-loop."
   ]
  },
  {
   "cell_type": "code",
   "execution_count": 5,
   "id": "9d73a885-4e74-469a-9346-8f6215883900",
   "metadata": {},
   "outputs": [],
   "source": [
    "# Step 1: Use a for-loop to iterate through numbers 1 to 10.\n",
    "# Step 2: Print each number.\n",
    "\n",
    "# Expected output:\n",
    "# 1\n",
    "# 2\n",
    "# 3\n",
    "# 4\n",
    "# 5\n",
    "# 6\n",
    "# 7\n",
    "# 8\n",
    "# 9\n",
    "# 10\n",
    "\n",
    "\n",
    "# Your code here:\n",
    "\n"
   ]
  },
  {
   "cell_type": "markdown",
   "id": "5ad18d7c-06d1-4a5c-9191-6b8854cd009e",
   "metadata": {},
   "source": [
    "7) Create a list of your favorite fruits and print each fruit using a for-loop."
   ]
  },
  {
   "cell_type": "code",
   "execution_count": 4,
   "id": "c4716b9b-f271-4eac-a3fa-00df39a980a7",
   "metadata": {},
   "outputs": [],
   "source": [
    "# Step 1: Create a list of your favorite fruits.\n",
    "# Step 2: Use a for-loop to iterate through the list.\n",
    "# Step 3: Print each fruit.\n",
    "\n",
    "# Example output 1:\n",
    "# mango\n",
    "# pineapple\n",
    "# coconut\n",
    "# clementine\n",
    "\n",
    "# Example output 2:\n",
    "# apple\n",
    "# cherry\n",
    "\n",
    "\n",
    "# Your code here:\n",
    "\n"
   ]
  },
  {
   "cell_type": "markdown",
   "id": "ef8e44f8-9e7f-422e-a01e-0ca9eb7ce484",
   "metadata": {},
   "source": [
    "8) Write a function that takes a name as an argument and prints a greeting message."
   ]
  },
  {
   "cell_type": "code",
   "execution_count": null,
   "id": "10749dae-8226-4a0d-aefb-5b3ed5798ab8",
   "metadata": {},
   "outputs": [],
   "source": [
    "# Step 1: Define a function called 'greet' that takes one parameter 'name'.\n",
    "# Step 2: Inside the function, print a greeting message that includes the name.\n",
    "# Step 3: Call the function with your name to test it.\n",
    "\n",
    "# Example output 1:\n",
    "# Hello, Sawyer!\n",
    "\n",
    "# Example output 2:\n",
    "# Hello, Charlie!\n",
    "\n",
    "\n",
    "# Your code here:\n",
    "\n"
   ]
  },
  {
   "cell_type": "markdown",
   "id": "cb718d45-145e-40e2-93be-a794bb999c8b",
   "metadata": {},
   "source": [
    " 9) Write a Python program that takes a string and prints it in reverse. (I haven't taught this one yet. Try looking up how to reverse strings in Python. If you get stuck, I'll tell you the solution!)"
   ]
  },
  {
   "cell_type": "code",
   "execution_count": 6,
   "id": "9b7c1a62-d4bc-4fac-b544-13a5f60e4208",
   "metadata": {},
   "outputs": [],
   "source": [
    "# Step 1: Create a variable and assign it a string.\n",
    "# Step 2: Print the string in reverse.\n",
    "\n",
    "# Example output:\n",
    "# nohtyP\n",
    "\n",
    "\n",
    "# Your code here:\n",
    "\n"
   ]
  },
  {
   "cell_type": "markdown",
   "id": "452d7b2e-e887-4272-a770-79957a800782",
   "metadata": {},
   "source": [
    "10) Write a Python program that takes a lowercase string, converts it to uppercase, and prints the result."
   ]
  },
  {
   "cell_type": "code",
   "execution_count": null,
   "id": "81528d11-c4fa-4b11-b90a-41478b99786f",
   "metadata": {},
   "outputs": [],
   "source": [
    "# Step 1: Create a variable and assign it a string.\n",
    "# Step 2: Convert the string to uppercase using the upper() method.\n",
    "# Step 3: Print the uppercase string.\n",
    "\n",
    "# Example output 1:\n",
    "# python -> PYTHON\n",
    "\n",
    "# Example output 2:\n",
    "# hello -> HELLO\n",
    "\n",
    "\n",
    "# Your code here:\n",
    "\n"
   ]
  },
  {
   "cell_type": "markdown",
   "id": "07825cb7-3114-40c5-940d-976ff0a27ad8",
   "metadata": {},
   "source": [
    "11) Write a Python program that takes a list and prints the number of elements in the list."
   ]
  },
  {
   "cell_type": "code",
   "execution_count": 7,
   "id": "f172d767-dd9b-4e66-9914-e4a9cdc68cc0",
   "metadata": {},
   "outputs": [],
   "source": [
    "# Step 1: Create a list of items.\n",
    "# Step 2: Use the len() function to get the number of elements in the list.\n",
    "# Step 3: Print the number of elements.\n",
    "\n",
    "# Example output 1:\n",
    "# [\"apple\", \"banana\", \"cherry\"] -> 3\n",
    "\n",
    "# Example output 2:\n",
    "# ['black', 'green', 'blue', 'yellow'] -> 4\n",
    "\n",
    "\n",
    "# Your code here:\n",
    "\n"
   ]
  },
  {
   "cell_type": "markdown",
   "id": "7d9b3c4d-16eb-4a90-bb9d-e58bcd89180f",
   "metadata": {},
   "source": [
    "12) Write a Python program that uses a while loop to print the numbers from 1 to 5."
   ]
  },
  {
   "cell_type": "code",
   "execution_count": null,
   "id": "fc735f33-6cbe-4655-afb1-19813efd5fb6",
   "metadata": {},
   "outputs": [],
   "source": [
    "# Step 1: Initialize a variable with the value 1.\n",
    "# Step 2: Use a while loop to print numbers from 1 to 5.\n",
    "# Step 3: Increment the variable by 1 in each iteration.\n",
    "\n",
    "# Expected output:\n",
    "# 1\n",
    "# 2\n",
    "# 3\n",
    "# 4\n",
    "# 5\n",
    "\n",
    "\n",
    "# Your code here:\n",
    "\n"
   ]
  },
  {
   "cell_type": "markdown",
   "id": "d351190b-a32a-4c49-8cea-01410c6676c6",
   "metadata": {},
   "source": [
    "13) Write a Python program that creates a dictionary with three key-value pairs and prints each key and value."
   ]
  },
  {
   "cell_type": "code",
   "execution_count": null,
   "id": "ca10fa9e-81d3-4249-9c9f-f1dd1299f013",
   "metadata": {},
   "outputs": [],
   "source": [
    "# Step 1: Create a dictionary with three key-value pairs.\n",
    "# Step 2: Use a for loop to iterate through the dictionary.\n",
    "# Step 3: Print each key and value.\n",
    "\n",
    "# Example output 1:\n",
    "# name: Sawyer\n",
    "# age: 24\n",
    "# city: New York\n",
    "\n",
    "# Example output 2:\n",
    "# name: Aiko\n",
    "# age: 16\n",
    "# city: Tokyo\n",
    "\n",
    "\n",
    "# Your code here:\n",
    "\n"
   ]
  },
  {
   "cell_type": "markdown",
   "id": "27a3681b-9c6b-41ec-84c9-56b654a071b4",
   "metadata": {},
   "source": [
    "14) Write a Python program that creates a list of squares of numbers from 1 to 5 using a list comprehension."
   ]
  },
  {
   "cell_type": "code",
   "execution_count": null,
   "id": "f106c63d-058e-49a5-80d9-af7fc1104591",
   "metadata": {},
   "outputs": [],
   "source": [
    "# Step 1: Use a list comprehension to create a list of squares of numbers from 1 to 5.\n",
    "# Step 2: Print the list.\n",
    "\n",
    "# Expected output:\n",
    "# [1, 4, 9, 16, 25]\n",
    "\n",
    "\n",
    "# Your code here:\n",
    "\n"
   ]
  },
  {
   "cell_type": "markdown",
   "id": "48b9d3d9-d893-40fe-b2e3-c50230e67aef",
   "metadata": {},
   "source": [
    "15) Write a Python program that takes a list and prints the first three elements."
   ]
  },
  {
   "cell_type": "code",
   "execution_count": null,
   "id": "c5846e38-98f0-4606-9801-c9fd67b9cfaf",
   "metadata": {},
   "outputs": [],
   "source": [
    "# Step 1: Create a list with at least five elements.\n",
    "# Step 2: Use slicing to get the first three elements of the list.\n",
    "# Step 3: Print the first three elements.\n",
    "\n",
    "# Example output 1:\n",
    "# [1, 2, 3, 4, 5] -> [1, 2, 3]\n",
    "\n",
    "# Example output 2:\n",
    "# [\"hello\", \"goodbye\", \"how are you?\", \"bye\", \"yo\", \"sup?\"] -> [\"hello\", \"goodbye\", \"how are you?\"]\n",
    "\n",
    "\n",
    "# Your code here:\n"
   ]
  },
  {
   "cell_type": "markdown",
   "id": "90418919-b00b-4ab0-a36c-f3dea762b2ac",
   "metadata": {},
   "source": [
    "16) Write a function that takes two numbers as arguments, adds them, and returns the result. Call the function and print the result."
   ]
  },
  {
   "cell_type": "code",
   "execution_count": null,
   "id": "f20395ae-8cd3-43d0-8000-5ee218254e42",
   "metadata": {},
   "outputs": [],
   "source": [
    "# Step 1: Define a function called 'add' that takes two parameters.\n",
    "# Step 2: Inside the function, return the sum of the two parameters.\n",
    "# Step 3: Call the function with two numbers and print the result.\n",
    "\n",
    "# Example output 1:\n",
    "# add(3, 5) -> 8\n",
    "\n",
    "# Example output 2:\n",
    "# add(9, 1) -> 10\n",
    "\n",
    "\n",
    "# Your code here:\n",
    "\n"
   ]
  },
  {
   "cell_type": "markdown",
   "id": "255dcc30-eab3-4314-a874-f4d7d635590f",
   "metadata": {},
   "source": [
    "## pandas"
   ]
  },
  {
   "cell_type": "markdown",
   "id": "def402ca-02a2-429a-9c9e-67bb0741bd4f",
   "metadata": {},
   "source": [
    "1) Create a DataFrame from a dictionary."
   ]
  },
  {
   "cell_type": "code",
   "execution_count": null,
   "id": "0a747c53-8e48-4ae6-aae0-59f23082ca15",
   "metadata": {},
   "outputs": [],
   "source": [
    "# Step 1: Import pandas with the alias pd.\n",
    "# Step 2: Create a dictionary with keys \"Name\", \"Age\", and \"State\" and corresponding lists as values.\n",
    "# Step 3: Convert the dictionary into a DataFrame.\n",
    "# Step 4: Print the DataFrame.\n",
    "\n",
    "# Example output 1:\n",
    "#       Name  Age     State\n",
    "# 0  Sawyer   24  New York\n",
    "# 1    John   30   Florida\n",
    "# 2   Alice   22  California\n",
    "\n",
    "\n",
    "# Your code here:\n",
    "\n"
   ]
  }
 ],
 "metadata": {
  "kernelspec": {
   "display_name": "Python 3 (ipykernel)",
   "language": "python",
   "name": "python3"
  },
  "language_info": {
   "codemirror_mode": {
    "name": "ipython",
    "version": 3
   },
   "file_extension": ".py",
   "mimetype": "text/x-python",
   "name": "python",
   "nbconvert_exporter": "python",
   "pygments_lexer": "ipython3",
   "version": "3.9.19"
  }
 },
 "nbformat": 4,
 "nbformat_minor": 5
}

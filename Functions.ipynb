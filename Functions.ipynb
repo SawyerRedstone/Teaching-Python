{
 "cells": [
  {
   "cell_type": "markdown",
   "id": "e5769dea-da2f-4dd4-acfc-0a59f9723463",
   "metadata": {},
   "source": [
    "# Functions"
   ]
  },
  {
   "cell_type": "markdown",
   "id": "892e2d19-4d02-4766-8b0d-8ac000f79e6f",
   "metadata": {
    "jp-MarkdownHeadingCollapsed": true,
    "tags": []
   },
   "source": [
    "## Introduction"
   ]
  },
  {
   "cell_type": "markdown",
   "id": "a178a4e1-5502-499a-917d-27c7e6a8cbef",
   "metadata": {},
   "source": [
    "A **function** is a reuseable chunk of code designed to do a specific job. \n",
    "\n",
    "We've already used two functions before: `print()` and `input()`. Using a function is called **calling** it. When a function is called, Python searches for where the function was defined and then runs the code inside the function definition. The print() and input() functions are defined already, so we don't need to worry about creating them ourselves. Often, however, we need to define our own functions. Here is how to define a function:\n",
    "\n",
    "```Python\n",
    "def your_function_name():\n",
    "    # Here is where you type the code for the specific job you want your function to do.\n",
    "    # Make sure your code is indented, just like these comments are.\n",
    "    # The indented code here within the function is called the \"function body\".\n",
    "```\n",
    "Let's break down what everything here means.\n",
    "\n",
    "1) `def` is short for \"define\", and it tells Python that you are about to define a new function.\n",
    "2) After `def`, we must tell Python the name of the function we are defining. Here the name was `your_function_name`, but you can replace this with whatever name makes most sense for your function. Since functions are supposed to do a specific job, a good name would describe what your function does. For example, a function to do math could be named `do_math` or `calculate`.\n",
    "3) Add parentheses `()` after the function name! Function names should always have parentheses after them. This tells our code that we are working with a function, not a variable.\n",
    "4) Add a colon (`:`) to specify you're about to write a block of code. Code blocks are lines of indented code that are all grouped together.\n",
    "5) The block of code after the colon is called the **function body**. There can be several lines of code here, and each one must be indented to show that it belongs to the function. These lines of code only run when the function is called. The function body contains all the code you want your function to do. \n",
    "\n",
    "<!-- A function is like a set of steps to solve a puzzle.\n",
    "\n",
    "Colons aren't only for functions; they appear wherever a bunch of code belongs to the line above.\n",
    " -->"
   ]
  },
  {
   "cell_type": "markdown",
   "id": "eedfcd78-1f65-4be9-a9ad-f87e277a3ce1",
   "metadata": {},
   "source": [
    "Let's write a simple function below. First, we must decide what the function's job should be. Maybe we want a function that greets someone. Let's name it greet(). Now we must decide how it will accomplish this job. How about it prints \"Hello!\" on one line and then, \"How are you?\" on the next line? Now that we know its name and what it should do, we are ready to code it!"
   ]
  },
  {
   "cell_type": "code",
   "execution_count": null,
   "id": "082324bb-4a3d-4ef1-a16d-d428dfb886e3",
   "metadata": {},
   "outputs": [],
   "source": [
    "# Make sure to run this code cell before continuing.\n",
    "def greet():\n",
    "    # Put both print statements indented within the function body.\n",
    "    print(\"Hello!\")\n",
    "    print(\"How are you?\")"
   ]
  },
  {
   "cell_type": "markdown",
   "id": "bda11210-65a9-471b-9bd1-64bfa34454a6",
   "metadata": {},
   "source": [
    "When you try running the code above, you might wonder why nothing gets printed. That's because we only defined *how* the function should accomplish this particular job. We haven't asked it to do the job yet!\n",
    "\n",
    "To tell the function to do the job, we must **call** it by typing its name followed by parentheses `()`. Remember, we need parentheses to tell Python that this is a function, not a variable."
   ]
  },
  {
   "cell_type": "code",
   "execution_count": null,
   "id": "1044e86e-4b2d-4a1a-87a5-64e2325dbafc",
   "metadata": {},
   "outputs": [],
   "source": [
    "# Since we defined the function above, we can now call it anywhere in our code.\n",
    "# Make sure to run the function definition above before running this code cell!\n",
    "greet()"
   ]
  },
  {
   "cell_type": "markdown",
   "id": "b27c5c68-8ad4-4bc6-8b56-03044915e41d",
   "metadata": {},
   "source": [
    "Whenever the function is called, Python will do the function's job again. Calling it several times will make the function's job occur each time.\n",
    "<!-- \n",
    "As you can see, we didn't need to  -->"
   ]
  },
  {
   "cell_type": "code",
   "execution_count": null,
   "id": "714c0ced-bb7e-4784-89ed-1a7a16bef0f4",
   "metadata": {},
   "outputs": [],
   "source": [
    "# Call the function three times in a row.\n",
    "greet()\n",
    "greet()\n",
    "greet()"
   ]
  },
  {
   "cell_type": "markdown",
   "id": "c65adec3-1d91-484d-8b59-9172c83b2861",
   "metadata": {},
   "source": [
    "We can also call the function in the middle of our main program. \n",
    "<!-- \n",
    "Below we have some code that calls the function \n",
    "\n",
    "We can even call the function in the middle of our other code -->"
   ]
  },
  {
   "cell_type": "code",
   "execution_count": null,
   "id": "bf739dbd-1b39-4e06-9b49-7a35ff6af582",
   "metadata": {},
   "outputs": [],
   "source": [
    "# This time, we will call the function in the middle of some other code.\n",
    "print(\"I'm about to call the function.\")\n",
    "greet()\n",
    "print(\"After the function was called, the code continues here where it left off.\")\n",
    "print(\"Now I'll call it again.\")\n",
    "greet()\n",
    "print(\"See, once we define a function, we can call it whenever we want.\")"
   ]
  },
  {
   "cell_type": "markdown",
   "id": "d994f46c-79ea-43f8-8f38-deb861d52a0e",
   "metadata": {},
   "source": [
    "Time for a quick quiz! What would get printed if you ran the code below?\n",
    "\n",
    "Don't actually run the code yet, just follow along with the code yourself (as if you were the computer running it) and try to figure out what the output would be.\n",
    "\n",
    "```Python\n",
    "# Define two functions.\n",
    "def rain():\n",
    "    print(\"It's raining.\")\n",
    "    print(\"Can't wait to jump in the puddles!\")\n",
    "    \n",
    "def sun():\n",
    "    print(\"It's so bright and sunny.\")\n",
    "          \n",
    "\n",
    "# Now that they are defined, let's call them in our code.\n",
    "print(\"Day1:\")\n",
    "sun()\n",
    "print(\"Day2:\")\n",
    "rain()\n",
    "\n",
    "```\n",
    "\n",
    "When you think you have your answer, try typing the code into the cell below and check if the output matches your expectations. \n",
    "\n",
    "If the output surprises you, you can try running the program in PythonTutor (https://pythontutor.com/render.html#mode=display) so you can see exactly how Python runs this program."
   ]
  },
  {
   "cell_type": "code",
   "execution_count": null,
   "id": "67305c08-45d5-4331-9124-279b485d51bc",
   "metadata": {},
   "outputs": [],
   "source": [
    "# Type your code here to test your answer:\n"
   ]
  },
  {
   "cell_type": "markdown",
   "id": "ef2b40a3-37fa-4cde-81b3-423da3e058b8",
   "metadata": {
    "jp-MarkdownHeadingCollapsed": true,
    "tags": []
   },
   "source": [
    "## Parameters and Arguments"
   ]
  },
  {
   "cell_type": "markdown",
   "id": "c52c15ae-ec33-4aea-bd55-3514c4cc0919",
   "metadata": {},
   "source": [
    "Now that we can write a basic function, we are ready to write a function that is more personalized. \n",
    "\n",
    "This time, let's try defining a function that can greet people by name. "
   ]
  },
  {
   "cell_type": "code",
   "execution_count": null,
   "id": "4b2bd448-0869-404a-bf79-815c24f63dce",
   "metadata": {},
   "outputs": [],
   "source": [
    "def personalized_greet():\n",
    "    print(f\"Hello, {name}!\") \n",
    "    print(\"How are you today?\")"
   ]
  },
  {
   "cell_type": "markdown",
   "id": "aa242f0d-1c75-47a3-9bcd-0e1d27b151b0",
   "metadata": {},
   "source": [
    "If we try calling the function above, we'll come across a problem. The variable `name` was never defined! \n",
    "\n",
    "How can we fix this? We can try something like this:"
   ]
  },
  {
   "cell_type": "code",
   "execution_count": null,
   "id": "a6a32758-3762-43da-be62-c641271e705d",
   "metadata": {},
   "outputs": [],
   "source": [
    "# Define the function.\n",
    "def personalized_greet():\n",
    "    name = \"Sawyer\"\n",
    "    print(f\"Hello, {name}!\") \n",
    "    print(\"How are you today?\")\n",
    "    \n",
    "\n",
    "# Call the function.\n",
    "personalized_greet()"
   ]
  },
  {
   "cell_type": "markdown",
   "id": "9f902f51-8b47-41c7-b78f-4dc5286d0304",
   "metadata": {},
   "source": [
    "That code runs fine, but the function now only greets people named Sawyer! We want a function that can greet *anyone* by their name, not just people named Sawyer.\n",
    "\n",
    "For that, we can use function parameters. **Parameters** are variables listed within the parentheses of a function definition. When a function is called, it creates these variables and assigns them values chosen by the caller."
   ]
  },
  {
   "cell_type": "code",
   "execution_count": null,
   "id": "79323b8b-4d4f-41b5-b2a2-059743c1fb16",
   "metadata": {},
   "outputs": [],
   "source": [
    "# Define the function with a `name` parameter.\n",
    "def personalized_greet(name):\n",
    "    print(f\"Hello, {name}!\") \n",
    "    print(\"How are you today?\")"
   ]
  },
  {
   "cell_type": "markdown",
   "id": "84ecdd5f-6727-48a5-bed8-6c634e45c76a",
   "metadata": {},
   "source": [
    "Now when we call the function, we can send over a value for the parameter to be assigned to. The value we want to set the parameter to is called an **argument**.\n",
    "\n",
    "When calling the function, we place the arguments within the parentheses of the caller."
   ]
  },
  {
   "cell_type": "code",
   "execution_count": null,
   "id": "43489859-e603-4c42-9419-06062723cbf7",
   "metadata": {},
   "outputs": [],
   "source": [
    "# Call the function with the argument \"Timmy\".\n",
    "personalized_greet(\"Timmy\")\n",
    "\n",
    "# Call the function with the argument \"Charlie\".\n",
    "personalized_greet(\"Charlie\")"
   ]
  },
  {
   "cell_type": "markdown",
   "id": "30900a69-f8cf-4e7b-b3bc-7a908097f79d",
   "metadata": {},
   "source": [
    "After running the code above, you'll see that our function now can greet anyone. Try calling the function with your own name in the cell below:"
   ]
  },
  {
   "cell_type": "code",
   "execution_count": null,
   "id": "f160be60-8ce1-4b5f-bd88-5464ba110b71",
   "metadata": {},
   "outputs": [],
   "source": [
    "# Call the function with your own name here!\n"
   ]
  },
  {
   "cell_type": "markdown",
   "id": "651b27da-d231-4c14-9937-5af0df8d1c26",
   "metadata": {},
   "source": [
    "We can also write functions that have multiple parameters. We do this by seperating each parameter with a comma."
   ]
  },
  {
   "cell_type": "code",
   "execution_count": null,
   "id": "03f83a82-ba79-4f94-ac43-6ed619ef3ff1",
   "metadata": {},
   "outputs": [],
   "source": [
    "# This function has two parameters: `name` and `age`.\n",
    "def personalized_greet(name, age):\n",
    "    print(f\"Hello, {name}!\") \n",
    "    print(f\"I hear you're {age} years old.\")\n",
    "    print(\"How are you today?\")"
   ]
  },
  {
   "cell_type": "markdown",
   "id": "fbd4f93f-5200-488f-8ce1-baf3825df18f",
   "metadata": {},
   "source": [
    "Now when we call this function, we must tell it what values to set these parameters equal to. \n",
    "\n",
    "Similarly to the parameters, each argument must go within the parentheses of the function call and be seperated with commas."
   ]
  },
  {
   "cell_type": "code",
   "execution_count": null,
   "id": "e432097a-4e8e-494a-978e-1bda9fbef825",
   "metadata": {},
   "outputs": [],
   "source": [
    "# Call the function with the arguments \"Sawyer\" and 24.\n",
    "personalized_greet(\"Sawyer\", 24)\n",
    "\n",
    "# Print an empty line to seperate the function calls.\n",
    "print()\n",
    "\n",
    "# Call the function with the arguments \"Charlie\" and 6.\n",
    "personalized_greet(\"Charlie\", 6)"
   ]
  },
  {
   "cell_type": "markdown",
   "id": "55b453b8-2503-4b9f-ab0e-cb02d46bfa57",
   "metadata": {
    "jp-MarkdownHeadingCollapsed": true,
    "tags": []
   },
   "source": [
    "## Return Values"
   ]
  },
  {
   "cell_type": "markdown",
   "id": "cd3d0f48-7e7e-4d5b-9f2c-6c4fd772c522",
   "metadata": {},
   "source": [
    "Not all functions are for displaying text. Let's try making another function which takes three numbers and adds them together."
   ]
  },
  {
   "cell_type": "code",
   "execution_count": null,
   "id": "339c2d83-9e93-45b5-92f8-6738cce3c99f",
   "metadata": {},
   "outputs": [],
   "source": [
    "# First we must define the function before calling it.\n",
    "def add_three_nums(num1, num2, num3):\n",
    "    # Sum up the chosen numbers.\n",
    "    solution = num1 + num2 + num3\n",
    "\n",
    "\n",
    "# We defined the function above, so we can call it anywhere in our code now.\n",
    "# Since the function has three parameters, we must call it with three arguments.\n",
    "add_three_nums(3, 5, 2)\n",
    "\n",
    "# Let's check if it worked!\n",
    "print(solution)"
   ]
  },
  {
   "cell_type": "markdown",
   "id": "aaaf8434-4436-4216-8780-378916eb6a2e",
   "metadata": {},
   "source": [
    "Uh oh. If you ran the code above, you'll see it says `NameError: name 'solution' is not defined`. \n",
    "\n",
    "This happened because we defined the variable `solution` inside of the function. \n",
    "\n",
    "Variables defined inside a function are called **local variables**. Local variables only exist within the function body, so they can't be accessed anywhere else in your code. If we want our main code to use the value we calculated, we'll have to send it out of the function. To do this, we must **return** the value. \n",
    "\n",
    "Let's alter the code to return the value stored in the `solution` variable."
   ]
  },
  {
   "cell_type": "code",
   "execution_count": 1,
   "id": "d52fe159-7dae-4975-958a-af95b6cface9",
   "metadata": {},
   "outputs": [],
   "source": [
    "# First we must define the function before calling it.\n",
    "def add_three_nums(num1, num2, num3):\n",
    "    # Sum up the chosen numbers.\n",
    "    solution = num1 + num2 + num3\n",
    "    # Send the value stored in the `solution` variable out of the function.\n",
    "    return solution"
   ]
  },
  {
   "cell_type": "markdown",
   "id": "de60b254-c971-4baa-9e8c-85129912e363",
   "metadata": {},
   "source": [
    "Now whenever we call the function, it will get evaluated to its return value. Or, in simpler terms, Python will treat the function call as whatever data the function returned.\n",
    "\n",
    "\n",
    "<!-- it will get evaluated to this return value. -->"
   ]
  },
  {
   "cell_type": "code",
   "execution_count": 28,
   "id": "f93bdd48-261e-49f6-81c9-94f1239be073",
   "metadata": {},
   "outputs": [
    {
     "name": "stdout",
     "output_type": "stream",
     "text": [
      "The result is: 10.\n",
      "This time, the result is: 3\n",
      "<class 'int'>\n"
     ]
    }
   ],
   "source": [
    "# Call the function to add the values 3, 5, and 2. Then save the returned value in the variable `calculated_num`.\n",
    "calculated_num = add_three_nums(3, 5, 2)\n",
    "# Print out the solution the function returned.\n",
    "print(f\"The result is: {calculated_num}.\")\n",
    "\n",
    "# This time, we'll print the calculated number directly without saving it in a variable first.\n",
    "print(f\"This time, the result is: {add_three_nums(1, 1, 1)}\")\n",
    "\n",
    "# Check the data type the function evaluates to.\n",
    "print(type(add_three_nums(1, 2, 1)))"
   ]
  },
  {
   "cell_type": "markdown",
   "id": "543e9b83-c711-433d-aaf5-da9a66beba24",
   "metadata": {},
   "source": [
    "**Important note:** Returning a value doesn't cause it to display on the screen. The results here only got displayed because we used the `print()` function on the results.\n",
    "\n",
    "To demonstrate this, we'll now try calling the same function again without using the `print()` function to display the result."
   ]
  },
  {
   "cell_type": "code",
   "execution_count": 14,
   "id": "3adb0eef-cf1f-42fe-bc07-fc2e07ef6db7",
   "metadata": {},
   "outputs": [
    {
     "name": "stdout",
     "output_type": "stream",
     "text": [
      "The function was called correctly, we just aren't displaying the result this time.\n"
     ]
    }
   ],
   "source": [
    "# Call the function without printing it.\n",
    "add_three_nums(3, 5, 2)\n",
    "\n",
    "print(\"The function was called correctly, we just aren't displaying the result this time.\")"
   ]
  },
  {
   "cell_type": "markdown",
   "id": "c8d7fab8-6646-4ece-8a64-6faa6dc64feb",
   "metadata": {},
   "source": [
    "The value returned doesn't need to be an integer. It could be any data type, like a string or a list."
   ]
  },
  {
   "cell_type": "code",
   "execution_count": 34,
   "id": "d7c4b173-eb7f-44b3-afe8-54c16d5d9f8f",
   "metadata": {},
   "outputs": [
    {
     "name": "stdout",
     "output_type": "stream",
     "text": [
      "<class 'str'>\n"
     ]
    }
   ],
   "source": [
    "# Define a new function that doesn't take any arguments.\n",
    "def return_string():\n",
    "    return \"Banana\"\n",
    "\n",
    "\n",
    "result = return_string()\n",
    "print(type(return_string()))"
   ]
  },
  {
   "cell_type": "markdown",
   "id": "40187092-3040-4dbf-b27d-7d0ac2690888",
   "metadata": {},
   "source": [
    "After running the code above, you'll see that the function call is now type 'str' because this function returned a string.\n",
    "\n",
    "You might be wondering what happens if we try printing a function that doesn't return any value. Well, let's find out!"
   ]
  },
  {
   "cell_type": "code",
   "execution_count": 33,
   "id": "376d0593-5210-451c-b8ff-cb398a2a4844",
   "metadata": {},
   "outputs": [
    {
     "name": "stdout",
     "output_type": "stream",
     "text": [
      "None\n",
      "<class 'NoneType'>\n"
     ]
    }
   ],
   "source": [
    "# Make a pointless function that doesn't return anything.\n",
    "def no_return():\n",
    "    x = 3\n",
    "\n",
    "\n",
    "# Try printing this function\n",
    "print(no_return())\n",
    "# Print the data type it evaluated to.\n",
    "print(type(no_return()))"
   ]
  },
  {
   "cell_type": "markdown",
   "id": "f7f21452-34ae-4653-8ccf-862cde72f514",
   "metadata": {
    "jp-MarkdownHeadingCollapsed": true,
    "tags": []
   },
   "source": [
    "## Useful Built-in Python Functions "
   ]
  },
  {
   "cell_type": "markdown",
   "id": "99e54ee1-c96f-45a2-b083-24449b4e4be6",
   "metadata": {},
   "source": [
    "Python has some functions that are already defined for you, so you don't need to worry about creating them yourself. \n",
    "\n",
    "<!-- We've already used two of these functions: `print()` and `input()`. Now I'll briefly show some other functions available for use. -->\n",
    "We won't go over all of them right now, but here are some basic functions you can use:"
   ]
  },
  {
   "cell_type": "code",
   "execution_count": 37,
   "id": "874f0e9f-5ace-4550-9e21-f4fbb698b6b0",
   "metadata": {},
   "outputs": [
    {
     "name": "stdout",
     "output_type": "stream",
     "text": [
      "Hi\n",
      "4\n",
      "123\n",
      "3\n",
      "3\n",
      "['H', 'e', 'l', 'l', 'o', '!']\n"
     ]
    }
   ],
   "source": [
    "# The print function takes a string as argument and displays it to the screen. It does not return any value.\n",
    "print(\"Hi\")\n",
    "\n",
    "# The len() function returns the length of a list.\n",
    "print(len([1, 2, 3, 4]))\n",
    "\n",
    "# The max() function returns the maximum value in a list.\n",
    "print(max([4, 123, 5, 3, 6]))\n",
    "\n",
    "# Similarly, the min() function returns the minimum value in a list.\n",
    "print(min([4, 123, 5, 3, 6]))\n",
    "\n",
    "# The int() function returns the integer equivalent of its argument.\n",
    "print(int(\"3\"))\n",
    "\n",
    "# The list() function returns the list equivalent of its argument.\n",
    "print(list(\"Hello!\"))"
   ]
  },
  {
   "cell_type": "markdown",
   "id": "a2b0c3f1-2ebb-4967-8e48-e7185e554161",
   "metadata": {},
   "source": [
    "There are many more functions than the ones shown here. For a complete list of all built-in Python functions, you can check the official Python documentation: https://docs.python.org/3/library/functions.html"
   ]
  },
  {
   "cell_type": "markdown",
   "id": "0996b0ae-ffaa-4d79-bc2e-f711a1febd23",
   "metadata": {
    "jp-MarkdownHeadingCollapsed": true,
    "tags": []
   },
   "source": [
    "## Exercises"
   ]
  },
  {
   "cell_type": "markdown",
   "id": "d6be050f-5a47-49b5-8001-5d3f850c3487",
   "metadata": {},
   "source": [
    "Write a function `jump()` which prints \"Boing!\" whenever it is called."
   ]
  },
  {
   "cell_type": "code",
   "execution_count": 39,
   "id": "8a285e05-fce8-402c-8345-1e74a3875b68",
   "metadata": {},
   "outputs": [],
   "source": [
    "# Write function definition here.\n"
   ]
  },
  {
   "cell_type": "markdown",
   "id": "d2d94604-5809-4437-8f6b-6db0fd7da089",
   "metadata": {},
   "source": [
    "Write a function `print_name()` that asks users to enter their name and then displays it."
   ]
  },
  {
   "cell_type": "code",
   "execution_count": 38,
   "id": "2ac1d2f7-4491-4f27-979d-d67cac4c3d8a",
   "metadata": {},
   "outputs": [],
   "source": [
    "# Write function definition here.\n"
   ]
  },
  {
   "cell_type": "markdown",
   "id": "c346ec7a-6ed6-48ca-bb96-2d18fa9b574a",
   "metadata": {},
   "source": [
    "Write a function `find_max()` which asks the user to input three numbers and then returns the maximum number they inputted."
   ]
  },
  {
   "cell_type": "code",
   "execution_count": null,
   "id": "7bd8baf1-07a5-4980-a442-40417cec9628",
   "metadata": {},
   "outputs": [],
   "source": [
    "# Write function definition here.\n"
   ]
  }
 ],
 "metadata": {
  "kernelspec": {
   "display_name": "Python 3 (ipykernel)",
   "language": "python",
   "name": "python3"
  },
  "language_info": {
   "codemirror_mode": {
    "name": "ipython",
    "version": 3
   },
   "file_extension": ".py",
   "mimetype": "text/x-python",
   "name": "python",
   "nbconvert_exporter": "python",
   "pygments_lexer": "ipython3",
   "version": "3.9.13"
  }
 },
 "nbformat": 4,
 "nbformat_minor": 5
}
